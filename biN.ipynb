{
 "cells": [
  {
   "cell_type": "code",
   "execution_count": 1,
   "id": "44782eb9",
   "metadata": {},
   "outputs": [],
   "source": [
    "from torch.utils.data import Dataset, DataLoader\n",
    "import pandas as pd\n",
    "import random\n",
    "import torch\n",
    "from torch import nn\n",
    "import numpy as np\n",
    "import matplotlib.pyplot as plt\n",
    "from tqdm.notebook import tqdm\n",
    "from torch.nn import functional as F\n",
    "from sklearn.metrics import accuracy_score\n",
    "from sklearn.metrics import roc_auc_score\n",
    "from sklearn.metrics import roc_curve, auc\n",
    "\n"
   ]
  },
  {
   "cell_type": "code",
   "execution_count": 2,
   "id": "4e99dc89",
   "metadata": {},
   "outputs": [],
   "source": [
    "def one_hot_encode(seq):\n",
    "    \"\"\"\n",
    "    Given a DNA sequence, return its one-hot encoding\n",
    "    \"\"\"\n",
    "    # Make sure seq has only allowed bases\n",
    "    allowed = set(\"ACGUN\")\n",
    "    if not set(seq).issubset(allowed):\n",
    "        invalid = set(seq) - allowed\n",
    "        raise ValueError(f\"Sequence contains chars not in allowed DNA alphabet (ACGTN): {invalid}\")\n",
    "        \n",
    "    # Dictionary returning one-hot encoding for each nucleotide \n",
    "    nuc_d = {'A':[1.0,0.0,0.0,0.0],\n",
    "             'C':[0.0,1.0,0.0,0.0],\n",
    "             'G':[0.0,0.0,1.0,0.0],\n",
    "             'U':[0.0,0.0,0.0,1.0],\n",
    "             'N':[0.0,0.0,0.0,0.0]}\n",
    "    \n",
    "    # Create array from nucleotide sequence\n",
    "    vec=np.array([nuc_d[x] for x in seq])\n",
    "        \n",
    "    return vec"
   ]
  },
  {
   "cell_type": "code",
   "execution_count": 3,
   "id": "23e827a0",
   "metadata": {
    "tags": [
     "example"
    ]
   },
   "outputs": [
    {
     "data": {
      "text/plain": [
       "array([[1., 0., 0., 0.],\n",
       "       [0., 1., 0., 0.],\n",
       "       [0., 0., 1., 0.],\n",
       "       [0., 0., 0., 1.]])"
      ]
     },
     "execution_count": 3,
     "metadata": {},
     "output_type": "execute_result"
    }
   ],
   "source": [
    "one_hot_encode(\"ACGU\")"
   ]
  },
  {
   "cell_type": "code",
   "execution_count": 4,
   "id": "d0c7e06f",
   "metadata": {},
   "outputs": [
    {
     "data": {
      "text/plain": [
       "device(type='cpu')"
      ]
     },
     "execution_count": 4,
     "metadata": {},
     "output_type": "execute_result"
    }
   ],
   "source": [
    "DEVICE = torch.device('cuda' if torch.cuda.is_available() else 'cpu')\n",
    "DEVICE"
   ]
  },
  {
   "cell_type": "markdown",
   "id": "6aea97b5",
   "metadata": {},
   "source": [
    "### Загрузка датасета бинов"
   ]
  },
  {
   "cell_type": "code",
   "execution_count": 5,
   "id": "3938ae48",
   "metadata": {
    "scrolled": true
   },
   "outputs": [],
   "source": [
    "prob = pd.read_csv('20long.csv') # сразу загружается таблица бинов\n",
    "prob[\"binary\"] = prob[\"F3 probability\"].round()\n",
    "\n",
    "prob.binary = prob.binary.astype(int)\n"
   ]
  },
  {
   "cell_type": "code",
   "execution_count": 6,
   "id": "8970c7f5",
   "metadata": {
    "tags": [
     "split"
    ]
   },
   "outputs": [],
   "source": [
    "def quick_split(df, split_frac=0.8, verbose=False):\n",
    "    '''\n",
    "    Given a df of samples, randomly split indices between\n",
    "    train and test at the desired fraction\n",
    "    '''\n",
    "    cols = df.columns # original columns, use to clean up reindexed cols\n",
    "    df = df.reset_index()\n",
    "\n",
    "    # shuffle indices\n",
    "    idxs = list(range(df.shape[0]))\n",
    "    random.shuffle(idxs)\n",
    "\n",
    "    # split shuffled index list by split_frac\n",
    "    split = int(len(idxs)*split_frac)\n",
    "    train_idxs = idxs[:split]\n",
    "    test_idxs = idxs[split:]\n",
    "    \n",
    "    # split dfs and return\n",
    "    train_df = df[df.index.isin(train_idxs)]\n",
    "    test_df = df[df.index.isin(test_idxs)]\n",
    "        \n",
    "    return train_df[cols], test_df[cols]"
   ]
  },
  {
   "cell_type": "markdown",
   "id": "644e2da2",
   "metadata": {},
   "source": [
    "### Разделение на train-test"
   ]
  },
  {
   "cell_type": "code",
   "execution_count": 7,
   "id": "ae21c1f8",
   "metadata": {
    "scrolled": true,
    "tags": [
     "split"
    ]
   },
   "outputs": [
    {
     "name": "stdout",
     "output_type": "stream",
     "text": [
      "Train: (7482, 10)\n",
      "Val: (1871, 10)\n",
      "Test: (2339, 10)\n"
     ]
    }
   ],
   "source": [
    "full_train_df, test_df = quick_split(prob)\n",
    "train_df, val_df = quick_split(full_train_df)\n",
    "\n",
    "print(\"Train:\", train_df.shape)\n",
    "print(\"Val:\", val_df.shape)\n",
    "print(\"Test:\", test_df.shape)\n"
   ]
  },
  {
   "cell_type": "markdown",
   "id": "ee54704c",
   "metadata": {},
   "source": [
    "#### Примерно шестая часть записей в каждом датафрейме имеет y_true = 1"
   ]
  },
  {
   "cell_type": "markdown",
   "id": "cdff1fa7",
   "metadata": {},
   "source": [
    "#### Создание датасета OHE - y_true"
   ]
  },
  {
   "cell_type": "code",
   "execution_count": 8,
   "id": "87e05f0a",
   "metadata": {},
   "outputs": [],
   "source": [
    "class SeqDatasetOHE(Dataset):\n",
    "    '''\n",
    "    Dataset for one-hot-encoded sequences\n",
    "    '''\n",
    "    def __init__(self,\n",
    "                 df,\n",
    "                 seq_col='seq',\n",
    "                 target_col='binary'\n",
    "                ):\n",
    "        # +--------------------+\n",
    "        # | Get the X examples |\n",
    "        # +--------------------+\n",
    "        # extract the DNA from the appropriate column in the df\n",
    "        self.seqs = list(df[seq_col].values) # лист всех последовательностей\n",
    "        self.seq_len = len(self.seqs[0])\n",
    "        \n",
    "        # one-hot encode sequences, then stack in a torch tensor\n",
    "        self.ohe_seqs = torch.stack([torch.tensor(one_hot_encode(x)) for x in self.seqs])\n",
    "        \n",
    "        # +------------------+\n",
    "        # | Get the Y labels |\n",
    "        # +------------------+\n",
    "        self.labels = torch.tensor(list(df[target_col].values)).unsqueeze(1)\n",
    "\n",
    "        \n",
    "    def __len__(self): return len(self.seqs)\n",
    "    \n",
    "    def __getitem__(self,idx):\n",
    "        # Given an index, return a tuple of an X with it's associated Y\n",
    "        # This is called inside DataLoader\n",
    "        seq = self.ohe_seqs[idx]\n",
    "        label = self.labels[idx]\n",
    "        \n",
    "        return seq, label"
   ]
  },
  {
   "cell_type": "markdown",
   "id": "1acbe369",
   "metadata": {},
   "source": [
    "### Даталоадер"
   ]
  },
  {
   "cell_type": "code",
   "execution_count": 90,
   "id": "366ac6d4",
   "metadata": {
    "tags": [
     "dataloader",
     "data"
    ]
   },
   "outputs": [],
   "source": [
    "def build_dataloaders(train_df,\n",
    "                      test_df,\n",
    "                      seq_col='seq',\n",
    "                      target_col='binary',\n",
    "                      batch_size=128,\n",
    "                      shuffle=True\n",
    "                     ):\n",
    "    '''\n",
    "    Given a train and test df with some batch construction\n",
    "    details, put them into custom SeqDatasetOHE() objects. \n",
    "    Give the Datasets to the DataLoaders and return.\n",
    "    '''\n",
    "    \n",
    "    # create Datasets    \n",
    "    train_ds = SeqDatasetOHE(train_df,seq_col=seq_col,target_col=target_col)\n",
    "    test_ds = SeqDatasetOHE(test_df,seq_col=seq_col,target_col=target_col)\n",
    "\n",
    "    # Put DataSets into DataLoaders\n",
    "    train_dl = DataLoader(train_ds, batch_size=batch_size, shuffle=shuffle)\n",
    "    test_dl = DataLoader(test_ds, batch_size=batch_size)\n",
    "\n",
    "    \n",
    "    return train_dl,test_dl"
   ]
  },
  {
   "cell_type": "code",
   "execution_count": 91,
   "id": "88036d92",
   "metadata": {},
   "outputs": [],
   "source": [
    "train_dl, val_dl = build_dataloaders(train_df, val_df)"
   ]
  },
  {
   "cell_type": "code",
   "execution_count": null,
   "id": "963645f7",
   "metadata": {},
   "outputs": [],
   "source": []
  },
  {
   "cell_type": "markdown",
   "id": "738f98ad",
   "metadata": {},
   "source": [
    "## Линейная модель"
   ]
  },
  {
   "cell_type": "code",
   "execution_count": 60,
   "id": "ed7f3413",
   "metadata": {
    "tags": [
     "model",
     "linear"
    ]
   },
   "outputs": [],
   "source": [
    "# very simple linear model\n",
    "class DNA_Linear(nn.Module):\n",
    "    def __init__(self, seq_len):\n",
    "        super().__init__()\n",
    "        self.seq_len = seq_len\n",
    "        \n",
    "        # the 4 is for our one-hot encoded vector length 4!\n",
    "        self.lin1 = nn.Linear(4*seq_len,1)\n",
    "        \n",
    "        self.S = nn.Sigmoid()\n",
    "\n",
    "        \n",
    "\n",
    "    def forward(self, x):\n",
    "        \n",
    "        # reshape to flatten sequence dimension\n",
    "        x = x.view(x.shape[0],self.seq_len*4)\n",
    "        \n",
    "        # Linear wraps up the weights/bias dot product operations\n",
    "        x = self.lin1(x)\n",
    "        \n",
    "        x = self.S(x)\n",
    "\n",
    "        \n",
    "        return x\n",
    "        #return out\n",
    "\n",
    "   "
   ]
  },
  {
   "cell_type": "markdown",
   "id": "4809b630",
   "metadata": {},
   "source": [
    "## Сверточная модель"
   ]
  },
  {
   "cell_type": "code",
   "execution_count": 12,
   "id": "65db6ff1",
   "metadata": {
    "tags": [
     "model",
     "cnn"
    ]
   },
   "outputs": [],
   "source": [
    "# basic CNN model\n",
    "class DNA_CNN(nn.Module):\n",
    "    def __init__(self,\n",
    "                 seq_len,\n",
    "                 num_filters=23*4,\n",
    "                 kernel_size=7):\n",
    "        super().__init__()\n",
    "        \n",
    "        self.seq_len = seq_len\n",
    "        \n",
    "        self.conv_net = nn.Sequential(\n",
    "            \n",
    "            # 4 is for the 4 nucleotides\n",
    "            nn.Conv1d(in_channels=4, out_channels = num_filters, kernel_size=kernel_size),\n",
    "            \n",
    "            nn.Sigmoid(),\n",
    "            \n",
    "            nn.Flatten(),\n",
    "            \n",
    "            nn.Linear(num_filters*(seq_len-kernel_size+1), 32),\n",
    "            \n",
    "            nn.Sigmoid(),\n",
    "            \n",
    "            nn.Linear(32,1),\n",
    "            \n",
    "            nn.Sigmoid()\n",
    "        ) \n",
    "    def forward(self, x):\n",
    "        \n",
    "        # reshape view to batch_size x 4channel x seq_len\n",
    "        # permute to put channel in correct order\n",
    "        x = x.permute(0,2,1) \n",
    "        \n",
    "        #print(xb.shape)\n",
    "        x = self.conv_net(x)\n",
    "        return x\n",
    "    "
   ]
  },
  {
   "cell_type": "markdown",
   "id": "91ae9147",
   "metadata": {},
   "source": [
    "### функция потерь FocalLoss"
   ]
  },
  {
   "cell_type": "code",
   "execution_count": 78,
   "id": "d0eca417",
   "metadata": {
    "tags": [
     "focalloss"
    ]
   },
   "outputs": [],
   "source": [
    "class FocalLoss(nn.Module):\n",
    "    def __init__(self, alpha=0.25, gamma=2, size_average=True):\n",
    "        super(FocalLoss, self).__init__()\n",
    "        self.alpha = alpha\n",
    "        self.gamma = torch.Tensor([gamma])\n",
    "        self.size_average = size_average\n",
    "        if isinstance(alpha, (float, int)):\n",
    "            if self.alpha > 1:\n",
    "                raise ValueError('Not supported value, alpha should be small than 1.0')\n",
    "            else:\n",
    "                self.alpha = torch.Tensor([alpha, 1.0 - alpha])\n",
    "        if isinstance(alpha, list): self.alpha = torch.Tensor(alpha)\n",
    "        self.alpha /= torch.sum(self.alpha)\n",
    " \n",
    "    def forward(self, input, target):\n",
    "        #print(\"input: \",input)\n",
    "        if input.dim() > 2:\n",
    "            input = input.view(input.size(0), input.size(1), -1)  # [N,C,H,W]->[N,C,H*W] ([N,C,D,H,W]->[N,C,D*H*W])\n",
    "        # target\n",
    "        # [N,1,D,H,W] ->[N*D*H*W,1]\n",
    "        if self.alpha.device != input.device:\n",
    "            self.alpha = torch.tensor(self.alpha, device=input.device)\n",
    "        target = target.view(-1, 1)\n",
    "        #print(\"target: \",target)\n",
    "        target = target.type('torch.LongTensor')\n",
    "        logpt = torch.log(input + 1e-10)\n",
    "        #print(\"target.shape: \", target.shape)\n",
    "        #print(\"target: \", target)\n",
    "        #logpt = logpt.gather(1, target)\n",
    "        logpt = logpt.view(-1, 1)\n",
    "        pt = torch.exp(logpt)\n",
    "        alpha = self.alpha.gather(0, target.view(-1))\n",
    " \n",
    "        gamma = self.gamma\n",
    " \n",
    "        if not self.gamma.device == input.device:\n",
    "            gamma = torch.tensor(self.gamma, device=input.device)\n",
    " \n",
    "        loss = -1 * alpha * torch.pow((1 - pt), gamma) * logpt\n",
    "        if self.size_average:\n",
    "            loss = loss.mean()\n",
    "        else:\n",
    "            loss = loss.sum()\n",
    "        return loss"
   ]
  },
  {
   "cell_type": "code",
   "execution_count": 79,
   "id": "f0211e5d",
   "metadata": {},
   "outputs": [
    {
     "data": {
      "application/vnd.jupyter.widget-view+json": {
       "model_id": "7e466bf6775f479fbfb0f4750cc909a3",
       "version_major": 2,
       "version_minor": 0
      },
      "text/plain": [
       "  0%|          | 0/50 [00:00<?, ?it/s]"
      ]
     },
     "metadata": {},
     "output_type": "display_data"
    },
    {
     "name": "stdout",
     "output_type": "stream",
     "text": [
      "E0 | train loss: 0.000 | val loss: 0.000\n",
      "E1 | train loss: 0.000 | val loss: 0.000\n",
      "E2 | train loss: 0.000 | val loss: 0.000\n",
      "E3 | train loss: 0.000 | val loss: 0.000\n",
      "E4 | train loss: 0.000 | val loss: 0.000\n",
      "E5 | train loss: 0.000 | val loss: 0.000\n",
      "E6 | train loss: 0.000 | val loss: 0.000\n",
      "E7 | train loss: 0.000 | val loss: 0.000\n",
      "E8 | train loss: 0.000 | val loss: 0.000\n",
      "E9 | train loss: 0.000 | val loss: 0.000\n",
      "E10 | train loss: 0.000 | val loss: 0.000\n",
      "E11 | train loss: 0.000 | val loss: 0.000\n",
      "E12 | train loss: 0.000 | val loss: 0.000\n",
      "E13 | train loss: 0.000 | val loss: 0.000\n",
      "E14 | train loss: 0.000 | val loss: 0.000\n",
      "E15 | train loss: 0.000 | val loss: 0.000\n",
      "E16 | train loss: 0.000 | val loss: 0.000\n",
      "E17 | train loss: 0.000 | val loss: 0.000\n",
      "E18 | train loss: 0.000 | val loss: 0.000\n",
      "E19 | train loss: 0.000 | val loss: 0.000\n",
      "E20 | train loss: 0.000 | val loss: 0.000\n",
      "E21 | train loss: 0.000 | val loss: 0.000\n",
      "E22 | train loss: 0.000 | val loss: 0.000\n",
      "E23 | train loss: 0.000 | val loss: 0.000\n",
      "E24 | train loss: 0.000 | val loss: 0.000\n",
      "E25 | train loss: 0.000 | val loss: 0.000\n",
      "E26 | train loss: 0.000 | val loss: 0.000\n",
      "E27 | train loss: 0.000 | val loss: 0.000\n",
      "E28 | train loss: 0.000 | val loss: 0.000\n",
      "E29 | train loss: 0.000 | val loss: 0.000\n",
      "E30 | train loss: 0.000 | val loss: 0.000\n",
      "E31 | train loss: 0.000 | val loss: 0.000\n",
      "E32 | train loss: 0.000 | val loss: 0.000\n",
      "E33 | train loss: 0.000 | val loss: 0.000\n",
      "E34 | train loss: 0.000 | val loss: 0.000\n",
      "E35 | train loss: 0.000 | val loss: 0.000\n",
      "E36 | train loss: 0.000 | val loss: 0.000\n",
      "E37 | train loss: 0.000 | val loss: 0.000\n",
      "E38 | train loss: 0.000 | val loss: 0.000\n",
      "E39 | train loss: 0.000 | val loss: 0.000\n",
      "E40 | train loss: 0.000 | val loss: 0.000\n",
      "E41 | train loss: 0.000 | val loss: 0.000\n",
      "E42 | train loss: 0.000 | val loss: 0.000\n",
      "E43 | train loss: 0.000 | val loss: 0.000\n",
      "E44 | train loss: 0.000 | val loss: 0.000\n",
      "E45 | train loss: 0.000 | val loss: 0.000\n",
      "E46 | train loss: 0.000 | val loss: 0.000\n",
      "E47 | train loss: 0.000 | val loss: 0.000\n",
      "E48 | train loss: 0.000 | val loss: 0.000\n",
      "E49 | train loss: 0.000 | val loss: 0.000\n"
     ]
    }
   ],
   "source": [
    "# get the sequence length from the first seq in the df\n",
    "seq_len = len(train_df['seq'].values[0])\n",
    "\n",
    "# create Linear model object\n",
    "model_lin = DNA_Linear(seq_len)\n",
    "model_lin.to(DEVICE) # put on GPU\n",
    "\n",
    "# run the model with default settings!\n",
    "lin_train_losses, lin_val_losses = run_model(\n",
    "    train_dl, \n",
    "    val_dl, \n",
    "    model_lin,\n",
    "    DEVICE,\n",
    "    lossf = FocalLoss()\n",
    ")"
   ]
  },
  {
   "cell_type": "code",
   "execution_count": 88,
   "id": "c6f74626",
   "metadata": {
    "tags": [
     "focalloss"
    ]
   },
   "outputs": [],
   "source": [
    "class focal_loss(nn.Module):\n",
    "    def __init__(self, alpha=0.25, gamma=2, num_classes=128, size_average=True):\n",
    "\n",
    "        super(focal_loss, self).__init__()\n",
    "        self.size_average = size_average\n",
    "        if isinstance(alpha, (float, int)):    # Установить вес только первой категории\n",
    "            self.alpha = torch.zeros(num_classes)\n",
    "            self.alpha[0] += alpha\n",
    "            self.alpha[1:] += (1 - alpha)\n",
    "        if isinstance(alpha, list):  # Все веса устанавливаем самостоятельно\n",
    "            self.alpha = torch.Tensor(alpha)\n",
    "        self.gamma = gamma\n",
    "\n",
    "\n",
    "    def forward(self, inputs, targets):\n",
    "        alpha = self.alpha\n",
    "        print('aaaaaaa',alpha)\n",
    "        N = inputs.size(0)\n",
    "        C = inputs.size(1)\n",
    "        P = F.softmax(inputs,dim=1)\n",
    "        print('ppppppppppppppppppppp', P)\n",
    "        # ---------one hot start--------------#\n",
    "        class_mask = inputs.data.new(N, C).fill_(0)  # Сгенерировать тензор той же формы, что и ввод\n",
    "        print('Сделать в соответствии с формой ввода: class_mask \\ n', class_mask)\n",
    "        class_mask = class_mask.requires_grad_()  # Необходимо обновить, поэтому добавьте расчет градиента\n",
    "        ids = targets.view(-1, 1)  # Получить индекс цели\n",
    "        print('Получить индекс целей \\ n', ids)\n",
    "        ids = ids.type('torch.LongTensor')\n",
    "        print(ids.dtype)\n",
    "        #class_mask.data.scatter_(1, ids.data, 1.)  # Используйте scatter, чтобы перебросить индекс в маску\n",
    "        print('Цели One_hot \\ n', class_mask)  # генерация одной горячей цели\n",
    "        # ---------one hot end-------------------#\n",
    "        probs = (P * class_mask).sum(1).view(-1, 1)\n",
    "        print('Оставить вероятность целей (часть 1), исключить часть 0 \\ n', probs)\n",
    "        # Формат softmax * one_hot, часть 0 удаляется, остается вероятность 1, shape = (5, 1), 5 - вероятность каждой цели\n",
    "\n",
    "        log_p = probs.log()\n",
    "        print('Получить логарифм \\ n', log_p)\n",
    "        # Получить логарифм\n",
    "        loss = torch.pow((1 - probs), self.gamma) * log_p\n",
    "        batch_loss = -alpha *loss.t()  # Соответствует следующей формуле\n",
    "        print('Потеря каждой партии \\ n', batch_loss)\n",
    "        # batch_loss - принимать значение потерь каждой партии\n",
    "\n",
    "        # Наконец, потери каждой партии суммируются и усредняются.\n",
    "        if self.size_average:\n",
    "            loss = batch_loss.mean()\n",
    "        else:\n",
    "            loss = batch_loss.sum()\n",
    "        print('размер убытка \\ n', loss)\n",
    "        return loss\n"
   ]
  },
  {
   "cell_type": "code",
   "execution_count": 84,
   "id": "c377f45a",
   "metadata": {},
   "outputs": [
    {
     "name": "stdout",
     "output_type": "stream",
     "text": [
      "входное значение \\ n tensor([[-1.1588,  0.3673,  0.7110, -0.2373, -1.0129],\n",
      "        [ 0.5580, -0.8784, -1.1446, -0.7629, -0.0170],\n",
      "        [-0.0477,  0.1770, -0.6058,  0.0125,  0.6818],\n",
      "        [ 0.4508,  0.4299,  1.0491,  0.0453, -1.5092],\n",
      "        [-1.5502, -0.7564,  0.6274, -0.4808, -0.6856]], requires_grad=True)\n",
      "целевое значение \\ n tensor([1, 0, 4, 3, 4])\n",
      "aaaaaaa tensor([0.2500, 0.7500, 0.7500, 0.7500, 0.7500, 0.7500, 0.7500, 0.7500])\n",
      "ppppppppppppppppppppp tensor([[0.0635, 0.2920, 0.4117, 0.1595, 0.0734],\n",
      "        [0.4445, 0.1057, 0.0810, 0.1186, 0.2501],\n",
      "        [0.1678, 0.2101, 0.0960, 0.1782, 0.3480],\n",
      "        [0.2171, 0.2126, 0.3949, 0.1447, 0.0306],\n",
      "        [0.0577, 0.1277, 0.5094, 0.1682, 0.1370]], grad_fn=<SoftmaxBackward0>)\n",
      "Сделать в соответствии с формой ввода: class_mask \\ n tensor([[0., 0., 0., 0., 0.],\n",
      "        [0., 0., 0., 0., 0.],\n",
      "        [0., 0., 0., 0., 0.],\n",
      "        [0., 0., 0., 0., 0.],\n",
      "        [0., 0., 0., 0., 0.]])\n",
      "Получить индекс целей \\ n tensor([[1],\n",
      "        [0],\n",
      "        [4],\n",
      "        [3],\n",
      "        [4]])\n",
      "torch.int64\n",
      "Цели One_hot \\ n tensor([[0., 0., 0., 0., 0.],\n",
      "        [0., 0., 0., 0., 0.],\n",
      "        [0., 0., 0., 0., 0.],\n",
      "        [0., 0., 0., 0., 0.],\n",
      "        [0., 0., 0., 0., 0.]], requires_grad=True)\n",
      "Оставить вероятность целей (часть 1), исключить часть 0 \\ n tensor([[0.],\n",
      "        [0.],\n",
      "        [0.],\n",
      "        [0.],\n",
      "        [0.]], grad_fn=<ViewBackward0>)\n",
      "Получить логарифм \\ n tensor([[-inf],\n",
      "        [-inf],\n",
      "        [-inf],\n",
      "        [-inf],\n",
      "        [-inf]], grad_fn=<LogBackward0>)\n"
     ]
    },
    {
     "ename": "RuntimeError",
     "evalue": "The size of tensor a (8) must match the size of tensor b (5) at non-singleton dimension 1",
     "output_type": "error",
     "traceback": [
      "\u001b[1;31m---------------------------------------------------------------------------\u001b[0m",
      "\u001b[1;31mRuntimeError\u001b[0m                              Traceback (most recent call last)",
      "\u001b[1;32m<ipython-input-84-82a5dfb16f52>\u001b[0m in \u001b[0;36m<module>\u001b[1;34m\u001b[0m\n\u001b[0;32m      6\u001b[0m \u001b[1;33m\u001b[0m\u001b[0m\n\u001b[0;32m      7\u001b[0m \u001b[0mcriterion\u001b[0m \u001b[1;33m=\u001b[0m \u001b[0mfocal_loss\u001b[0m\u001b[1;33m(\u001b[0m\u001b[1;33m)\u001b[0m\u001b[1;33m\u001b[0m\u001b[1;33m\u001b[0m\u001b[0m\n\u001b[1;32m----> 8\u001b[1;33m \u001b[0mloss\u001b[0m \u001b[1;33m=\u001b[0m \u001b[0mcriterion\u001b[0m\u001b[1;33m(\u001b[0m\u001b[0minput\u001b[0m\u001b[1;33m,\u001b[0m \u001b[0mtargets\u001b[0m\u001b[1;33m)\u001b[0m\u001b[1;33m\u001b[0m\u001b[1;33m\u001b[0m\u001b[0m\n\u001b[0m\u001b[0;32m      9\u001b[0m \u001b[0mloss\u001b[0m\u001b[1;33m.\u001b[0m\u001b[0mbackward\u001b[0m\u001b[1;33m(\u001b[0m\u001b[1;33m)\u001b[0m\u001b[1;33m\u001b[0m\u001b[1;33m\u001b[0m\u001b[0m\n",
      "\u001b[1;32m~\\anaconda3\\lib\\site-packages\\torch\\nn\\modules\\module.py\u001b[0m in \u001b[0;36m_call_impl\u001b[1;34m(self, *input, **kwargs)\u001b[0m\n\u001b[0;32m   1108\u001b[0m         if not (self._backward_hooks or self._forward_hooks or self._forward_pre_hooks or _global_backward_hooks\n\u001b[0;32m   1109\u001b[0m                 or _global_forward_hooks or _global_forward_pre_hooks):\n\u001b[1;32m-> 1110\u001b[1;33m             \u001b[1;32mreturn\u001b[0m \u001b[0mforward_call\u001b[0m\u001b[1;33m(\u001b[0m\u001b[1;33m*\u001b[0m\u001b[0minput\u001b[0m\u001b[1;33m,\u001b[0m \u001b[1;33m**\u001b[0m\u001b[0mkwargs\u001b[0m\u001b[1;33m)\u001b[0m\u001b[1;33m\u001b[0m\u001b[1;33m\u001b[0m\u001b[0m\n\u001b[0m\u001b[0;32m   1111\u001b[0m         \u001b[1;31m# Do not call functions when jit is used\u001b[0m\u001b[1;33m\u001b[0m\u001b[1;33m\u001b[0m\u001b[1;33m\u001b[0m\u001b[0m\n\u001b[0;32m   1112\u001b[0m         \u001b[0mfull_backward_hooks\u001b[0m\u001b[1;33m,\u001b[0m \u001b[0mnon_full_backward_hooks\u001b[0m \u001b[1;33m=\u001b[0m \u001b[1;33m[\u001b[0m\u001b[1;33m]\u001b[0m\u001b[1;33m,\u001b[0m \u001b[1;33m[\u001b[0m\u001b[1;33m]\u001b[0m\u001b[1;33m\u001b[0m\u001b[1;33m\u001b[0m\u001b[0m\n",
      "\u001b[1;32m<ipython-input-83-160ba62c004c>\u001b[0m in \u001b[0;36mforward\u001b[1;34m(self, inputs, targets)\u001b[0m\n\u001b[0;32m     39\u001b[0m         \u001b[1;31m# Получить логарифм\u001b[0m\u001b[1;33m\u001b[0m\u001b[1;33m\u001b[0m\u001b[1;33m\u001b[0m\u001b[0m\n\u001b[0;32m     40\u001b[0m         \u001b[0mloss\u001b[0m \u001b[1;33m=\u001b[0m \u001b[0mtorch\u001b[0m\u001b[1;33m.\u001b[0m\u001b[0mpow\u001b[0m\u001b[1;33m(\u001b[0m\u001b[1;33m(\u001b[0m\u001b[1;36m1\u001b[0m \u001b[1;33m-\u001b[0m \u001b[0mprobs\u001b[0m\u001b[1;33m)\u001b[0m\u001b[1;33m,\u001b[0m \u001b[0mself\u001b[0m\u001b[1;33m.\u001b[0m\u001b[0mgamma\u001b[0m\u001b[1;33m)\u001b[0m \u001b[1;33m*\u001b[0m \u001b[0mlog_p\u001b[0m\u001b[1;33m\u001b[0m\u001b[1;33m\u001b[0m\u001b[0m\n\u001b[1;32m---> 41\u001b[1;33m         \u001b[0mbatch_loss\u001b[0m \u001b[1;33m=\u001b[0m \u001b[1;33m-\u001b[0m\u001b[0malpha\u001b[0m \u001b[1;33m*\u001b[0m\u001b[0mloss\u001b[0m\u001b[1;33m.\u001b[0m\u001b[0mt\u001b[0m\u001b[1;33m(\u001b[0m\u001b[1;33m)\u001b[0m  \u001b[1;31m# Соответствует следующей формуле\u001b[0m\u001b[1;33m\u001b[0m\u001b[1;33m\u001b[0m\u001b[0m\n\u001b[0m\u001b[0;32m     42\u001b[0m         \u001b[0mprint\u001b[0m\u001b[1;33m(\u001b[0m\u001b[1;34m'Потеря каждой партии \\ n'\u001b[0m\u001b[1;33m,\u001b[0m \u001b[0mbatch_loss\u001b[0m\u001b[1;33m)\u001b[0m\u001b[1;33m\u001b[0m\u001b[1;33m\u001b[0m\u001b[0m\n\u001b[0;32m     43\u001b[0m         \u001b[1;31m# batch_loss - принимать значение потерь каждой партии\u001b[0m\u001b[1;33m\u001b[0m\u001b[1;33m\u001b[0m\u001b[1;33m\u001b[0m\u001b[0m\n",
      "\u001b[1;31mRuntimeError\u001b[0m: The size of tensor a (8) must match the size of tensor b (5) at non-singleton dimension 1"
     ]
    }
   ],
   "source": [
    "torch.manual_seed(50) # Случайное начальное значение, чтобы значение тензора было одинаковым при каждом вводе\n",
    "input = torch.randn(5, 5, dtype=torch.float32, requires_grad=True)\n",
    "print('входное значение \\ n', input)\n",
    "targets = torch.randint(5, (5, ))\n",
    "print('целевое значение \\ n', targets)\n",
    "\n",
    "criterion = focal_loss()\n",
    "loss = criterion(input, targets)\n",
    "loss.backward()"
   ]
  },
  {
   "cell_type": "code",
   "execution_count": 85,
   "id": "6f7d74ec",
   "metadata": {},
   "outputs": [
    {
     "name": "stdout",
     "output_type": "stream",
     "text": [
      "входное значение \\ n tensor([[0.5443],\n",
      "        [0.5562],\n",
      "        [0.5329],\n",
      "        [0.6318],\n",
      "        [0.5101],\n",
      "        [0.6368],\n",
      "        [0.4974],\n",
      "        [0.5835]])\n",
      "целевое значение \\ n tensor([[0.],\n",
      "        [0.],\n",
      "        [1.],\n",
      "        [0.],\n",
      "        [0.],\n",
      "        [0.],\n",
      "        [0.],\n",
      "        [1.]])\n",
      "aaaaaaa tensor([0.2500, 0.7500, 0.7500, 0.7500, 0.7500, 0.7500, 0.7500, 0.7500])\n",
      "ppppppppppppppppppppp tensor([[1.],\n",
      "        [1.],\n",
      "        [1.],\n",
      "        [1.],\n",
      "        [1.],\n",
      "        [1.],\n",
      "        [1.],\n",
      "        [1.]])\n",
      "Сделать в соответствии с формой ввода: class_mask \\ n tensor([[0.],\n",
      "        [0.],\n",
      "        [0.],\n",
      "        [0.],\n",
      "        [0.],\n",
      "        [0.],\n",
      "        [0.],\n",
      "        [0.]])\n",
      "Получить индекс целей \\ n tensor([[0.],\n",
      "        [0.],\n",
      "        [1.],\n",
      "        [0.],\n",
      "        [0.],\n",
      "        [0.],\n",
      "        [0.],\n",
      "        [1.]])\n",
      "torch.int64\n",
      "Цели One_hot \\ n tensor([[0.],\n",
      "        [0.],\n",
      "        [0.],\n",
      "        [0.],\n",
      "        [0.],\n",
      "        [0.],\n",
      "        [0.],\n",
      "        [0.]], requires_grad=True)\n",
      "Оставить вероятность целей (часть 1), исключить часть 0 \\ n tensor([[0.],\n",
      "        [0.],\n",
      "        [0.],\n",
      "        [0.],\n",
      "        [0.],\n",
      "        [0.],\n",
      "        [0.],\n",
      "        [0.]], grad_fn=<ViewBackward0>)\n",
      "Получить логарифм \\ n tensor([[-inf],\n",
      "        [-inf],\n",
      "        [-inf],\n",
      "        [-inf],\n",
      "        [-inf],\n",
      "        [-inf],\n",
      "        [-inf],\n",
      "        [-inf]], grad_fn=<LogBackward0>)\n",
      "Потеря каждой партии \\ n tensor([[inf, inf, inf, inf, inf, inf, inf, inf]], grad_fn=<MulBackward0>)\n",
      "размер убытка \\ n tensor(inf, grad_fn=<MeanBackward0>)\n"
     ]
    }
   ],
   "source": [
    "torch.manual_seed(50) # Случайное начальное значение, чтобы значение тензора было одинаковым при каждом вводе\n",
    "input = torch.tensor([[0.5443],\n",
    "        [0.5562],\n",
    "        [0.5329],\n",
    "        [0.6318],\n",
    "        [0.5101],\n",
    "        [0.6368],\n",
    "        [0.4974],\n",
    "        [0.5835]])\n",
    "print('входное значение \\ n', input)\n",
    "targets = torch.tensor([[0.],\n",
    "        [0.],\n",
    "        [1.],\n",
    "        [0.],\n",
    "        [0.],\n",
    "        [0.],\n",
    "        [0.],\n",
    "        [1.]])\n",
    "print('целевое значение \\ n', targets)\n",
    "\n",
    "criterion = focal_loss()\n",
    "loss = criterion(input, targets)\n",
    "loss.backward()"
   ]
  },
  {
   "cell_type": "markdown",
   "id": "51c44a97",
   "metadata": {},
   "source": [
    "### Лосс-функция "
   ]
  },
  {
   "cell_type": "code",
   "execution_count": null,
   "id": "c20b364d",
   "metadata": {},
   "outputs": [],
   "source": []
  },
  {
   "cell_type": "code",
   "execution_count": null,
   "id": "fff4e168",
   "metadata": {},
   "outputs": [],
   "source": []
  },
  {
   "cell_type": "code",
   "execution_count": 15,
   "id": "cf192685",
   "metadata": {
    "tags": [
     "loss"
    ]
   },
   "outputs": [],
   "source": [
    "def loss_batch(model, loss_func, x, y, opt=None):\n",
    "    \n",
    "    logits = model(x.float())\n",
    "    \n",
    "    loss = loss_func(logits, y.float())\n",
    "    \n",
    "    if opt is not None: # Вывод для train\n",
    "        \n",
    "        opt.zero_grad()\n",
    "        \n",
    "        loss.backward()\n",
    "        \n",
    "        opt.step()\n",
    "        \n",
    "        return loss.item(), len(x)\n",
    "\n",
    "    return loss.item(), len(x), logits # Вывод для val"
   ]
  },
  {
   "cell_type": "raw",
   "id": "43ad8ae1",
   "metadata": {
    "tags": [
     "loss"
    ]
   },
   "source": [
    "\n",
    "def loss_batch(model, loss_func, xb, yb, opt=None,verbose=False):\n",
    "    \n",
    "    Apply loss function to a batch of inputs. If no optimizer\n",
    "    is provided, skip the back prop step.\n",
    "    \n",
    "    if verbose:\n",
    "        print('loss batch ****')\n",
    "        print(\"xb shape:\",xb.shape)\n",
    "        print(\"yb shape:\",yb.shape)\n",
    "        print(\"yb shape:\",yb.squeeze(1).shape)\n",
    "        #print(\"xb\",xb)\n",
    "\n",
    "    # get the batch output from the model given your input batch \n",
    "    # ** This is the model's prediction for the y labels! **\n",
    "    \n",
    "    xb_out = model(xb.float())\n",
    "    \n",
    "    if verbose:\n",
    "        print(\"model out pre loss\", xb_out.shape)\n",
    "        #print('xb_out', xb_out)\n",
    "        #print(\"sigmoid:\",m(xb_out))\n",
    "        print(\"xb_out.shape:\",xb_out.shape)\n",
    "        print(\"xb_out.squeeze(0):\",xb_out.squeeze(0).shape)\n",
    "        print(\"yb.squeeze(1).shape\",yb.squeeze(1).shape)\n",
    "        print(\"yb:\",yb.shape)\n",
    "        print(\"yb.long:\",yb.long().shape)\n",
    "        print(\"yb.long.squeeze(1):\",yb.long().squeeze(1).shape)\n",
    "        print(yb.long().dtype)\n",
    "    \n",
    "    loss = loss_func(xb_out, yb.float()) # for BCE/classification\n",
    "    \n",
    "    \"\"\"\n",
    "    staclOverflow разъяснение для размеров и типа входных данных для кросс энтропии\n",
    "    \n",
    "    https://stackoverflow.com/questions/53455780/pytorch-lstm-target-dimension-in-calculating-cross-entropy-loss/53458159#53458159\n",
    "    \n",
    "    BCELoss вместо кросс энтропии https://discuss.pytorch.org/t/crossentropy-in-pytorch-getting-target-1-out-of-bounds/71575\n",
    "    \n",
    "    \"\"\"\n",
    "    if opt is not None: # if opt\n",
    "        opt.zero_grad()\n",
    "        loss.backward()\n",
    "        opt.step()\n",
    "        return loss.item(), len(xb)\n",
    "\n",
    "\n",
    "    return loss.item(), len(xb), xb_out\n",
    "    "
   ]
  },
  {
   "cell_type": "markdown",
   "id": "e6177d59",
   "metadata": {},
   "source": [
    "### Train + Val"
   ]
  },
  {
   "cell_type": "code",
   "execution_count": 16,
   "id": "d778c34c",
   "metadata": {
    "tags": [
     "train"
    ]
   },
   "outputs": [],
   "source": [
    "# +--------------------------------+\n",
    "# | Training and fitting functions |\n",
    "# +--------------------------------+\n",
    "\n",
    "def train_step(model, train_dl, loss_func, device, opt):\n",
    "    '''\n",
    "    Execute 1 set of batched training within an epoch\n",
    "    '''\n",
    "    # Set model to Training mode\n",
    "    model.train()\n",
    "    \n",
    "    tl = [] # train losses\n",
    "    ns = [] # batch sizes, n\n",
    "    \n",
    "    \n",
    "    # loop through train DataLoader\n",
    "    for batch in train_dl:\n",
    "        \n",
    "        # take seq, labels\n",
    "        x, y = batch\n",
    "        \n",
    "        # put on GPU\n",
    "        x, y = x.to(device),y.to(device)\n",
    "        \n",
    "        # provide opt so backprop happens\n",
    "        t, n = loss_batch(model, loss_func, x, y, opt=opt)\n",
    "        \n",
    "        # collect train loss and batch sizes\n",
    "        tl.append(t)\n",
    "        ns.append(n)\n",
    "    \n",
    "    # average the losses over all batches    \n",
    "    train_loss = np.sum(np.multiply(tl, ns)) / np.sum(ns)\n",
    "    \n",
    "    return train_loss"
   ]
  },
  {
   "cell_type": "code",
   "execution_count": 17,
   "id": "58f4a3e8",
   "metadata": {
    "tags": [
     "val"
    ]
   },
   "outputs": [],
   "source": [
    "def val_step(model, val_dl, loss_func, device):\n",
    "    '''\n",
    "    Execute 1 set of batched validation within an epoch\n",
    "    '''\n",
    "    # Set model to Evaluation mode\n",
    "    model.eval()\n",
    "    \n",
    "    y_pred_list = []\n",
    "    y_true_list = []\n",
    "    \n",
    "    with torch.no_grad():\n",
    "        vl = [] # val losses\n",
    "        ns = [] # batch sizes, n\n",
    "        \n",
    "        # loop through validation DataLoader\n",
    "        for batch in val_dl:\n",
    "            \n",
    "            # take seq, labels\n",
    "            x, y = batch\n",
    "            \n",
    "            # put on GPU\n",
    "            x, y = x.to(device),y.to(device)\n",
    "\n",
    "            # Do NOT provide opt here, so backprop does not happen\n",
    "            v, n, logits = loss_batch(model, loss_func, x, y)\n",
    "\n",
    "            # collect val loss and batch sizes\n",
    "            vl.append(v)\n",
    "            ns.append(n)\n",
    "            \n",
    "            \n",
    "            y_pred = torch.argmax(logits, dim=1)\n",
    "            \n",
    "            \n",
    "            y_pred_list.extend(y_pred.cpu().numpy())\n",
    "            y_true_list.extend(y.numpy())\n",
    "\n",
    "    # average the losses over all batches\n",
    "    val_loss = np.sum(np.multiply(vl, ns)) / np.sum(ns)\n",
    "    \n",
    "    roc_auc = roc_auc_score(y_true = y_true_list, y_score = y_pred_list)\n",
    "    \n",
    "    \n",
    "    return val_loss, roc_auc\n",
    "    \n"
   ]
  },
  {
   "cell_type": "markdown",
   "id": "11465f90",
   "metadata": {},
   "source": [
    "### fit"
   ]
  },
  {
   "cell_type": "code",
   "execution_count": 18,
   "id": "bee59074",
   "metadata": {
    "tags": [
     "fit"
    ]
   },
   "outputs": [],
   "source": [
    "def fit(epochs, model, loss_func, opt, train_dl, val_dl,device,patience=1000):\n",
    "    '''\n",
    "    Fit the model params to the training data, eval on unseen data.\n",
    "    Loop for a number of epochs and keep train of train and val losses \n",
    "    along the way\n",
    "    '''\n",
    "    # keep track of losses\n",
    "    train_losses = []    \n",
    "    val_losses = []\n",
    "    \n",
    "    # loop through epochs\n",
    "    for epoch in tqdm(range(epochs)):\n",
    "        \n",
    "        # take a training step\n",
    "        train_loss = train_step(model,train_dl,loss_func,device,opt)\n",
    "        train_losses.append(train_loss)\n",
    "\n",
    "        # take a validation step\n",
    "        val_loss, acc = val_step(model,val_dl,loss_func,device)\n",
    "        val_losses.append(val_loss)\n",
    "        \n",
    "        print(f\"E{epoch} | train loss: {train_loss:.3f} | val loss: {val_loss:.3f}\")\n",
    "\n",
    "    return train_losses, val_losses\n",
    "\n",
    "\n"
   ]
  },
  {
   "cell_type": "markdown",
   "id": "1fa1a11d",
   "metadata": {},
   "source": [
    "### run_model функция"
   ]
  },
  {
   "cell_type": "code",
   "execution_count": 62,
   "id": "697e984a",
   "metadata": {},
   "outputs": [],
   "source": [
    "def run_model(train_dl,val_dl,model,device,\n",
    "              lr=0.01, epochs=50, \n",
    "              lossf=None,opt=torch.optim.AdamW\n",
    "             ):\n",
    "    '''\n",
    "    Given train and val DataLoaders and a NN model, fit the mode to the training\n",
    "    data. By default, use MSE loss and an SGD optimizer\n",
    "    '''\n",
    "    # define optimizer\n",
    "    if opt:\n",
    "        optimizer = opt(model.parameters(), lr=lr)\n",
    "    else: # if no opt provided, just use SGD\n",
    "        optimizer = torch.optim.SGD(model.parameters(), lr=lr)\n",
    "    \n",
    "    # define loss function\n",
    "    if lossf:\n",
    "        loss_func = lossf\n",
    "    else: # if no loss function provided, just use MSE\n",
    "        loss_func = torch.nn.MSELoss()\n",
    "    \n",
    "    # run the training loop\n",
    "    train_losses, val_losses = fit(\n",
    "                                epochs, \n",
    "                                model, \n",
    "                                loss_func, \n",
    "                                optimizer, \n",
    "                                train_dl, \n",
    "                                val_dl, \n",
    "                                device)\n",
    "\n",
    "    return train_losses, val_losses"
   ]
  },
  {
   "cell_type": "markdown",
   "id": "00483aa1",
   "metadata": {},
   "source": [
    "### Запускаем Модель Model_lin"
   ]
  },
  {
   "cell_type": "code",
   "execution_count": 99,
   "id": "748a846a",
   "metadata": {},
   "outputs": [
    {
     "data": {
      "application/vnd.jupyter.widget-view+json": {
       "model_id": "b157454a7216496da3c185cd839d792d",
       "version_major": 2,
       "version_minor": 0
      },
      "text/plain": [
       "  0%|          | 0/50 [00:00<?, ?it/s]"
      ]
     },
     "metadata": {},
     "output_type": "display_data"
    },
    {
     "name": "stdout",
     "output_type": "stream",
     "text": [
      "E0 | train loss: 0.493 | val loss: 0.478\n",
      "E1 | train loss: 0.468 | val loss: 0.475\n",
      "E2 | train loss: 0.467 | val loss: 0.478\n",
      "E3 | train loss: 0.465 | val loss: 0.476\n",
      "E4 | train loss: 0.466 | val loss: 0.477\n",
      "E5 | train loss: 0.467 | val loss: 0.479\n",
      "E6 | train loss: 0.467 | val loss: 0.478\n",
      "E7 | train loss: 0.466 | val loss: 0.478\n",
      "E8 | train loss: 0.465 | val loss: 0.476\n",
      "E9 | train loss: 0.466 | val loss: 0.479\n",
      "E10 | train loss: 0.467 | val loss: 0.477\n",
      "E11 | train loss: 0.467 | val loss: 0.478\n",
      "E12 | train loss: 0.466 | val loss: 0.480\n",
      "E13 | train loss: 0.466 | val loss: 0.476\n",
      "E14 | train loss: 0.466 | val loss: 0.476\n",
      "E15 | train loss: 0.465 | val loss: 0.477\n",
      "E16 | train loss: 0.466 | val loss: 0.477\n",
      "E17 | train loss: 0.466 | val loss: 0.478\n",
      "E18 | train loss: 0.466 | val loss: 0.478\n",
      "E19 | train loss: 0.466 | val loss: 0.478\n",
      "E20 | train loss: 0.467 | val loss: 0.480\n",
      "E21 | train loss: 0.466 | val loss: 0.477\n",
      "E22 | train loss: 0.466 | val loss: 0.478\n",
      "E23 | train loss: 0.466 | val loss: 0.477\n",
      "E24 | train loss: 0.465 | val loss: 0.481\n",
      "E25 | train loss: 0.467 | val loss: 0.477\n",
      "E26 | train loss: 0.466 | val loss: 0.477\n",
      "E27 | train loss: 0.466 | val loss: 0.478\n",
      "E28 | train loss: 0.466 | val loss: 0.476\n",
      "E29 | train loss: 0.467 | val loss: 0.478\n",
      "E30 | train loss: 0.466 | val loss: 0.476\n",
      "E31 | train loss: 0.466 | val loss: 0.477\n",
      "E32 | train loss: 0.468 | val loss: 0.477\n",
      "E33 | train loss: 0.467 | val loss: 0.477\n",
      "E34 | train loss: 0.467 | val loss: 0.478\n",
      "E35 | train loss: 0.466 | val loss: 0.477\n",
      "E36 | train loss: 0.466 | val loss: 0.480\n",
      "E37 | train loss: 0.467 | val loss: 0.478\n",
      "E38 | train loss: 0.466 | val loss: 0.477\n",
      "E39 | train loss: 0.466 | val loss: 0.477\n",
      "E40 | train loss: 0.466 | val loss: 0.481\n",
      "E41 | train loss: 0.467 | val loss: 0.478\n",
      "E42 | train loss: 0.467 | val loss: 0.477\n",
      "E43 | train loss: 0.466 | val loss: 0.477\n",
      "E44 | train loss: 0.467 | val loss: 0.476\n",
      "E45 | train loss: 0.466 | val loss: 0.478\n",
      "E46 | train loss: 0.467 | val loss: 0.477\n",
      "E47 | train loss: 0.466 | val loss: 0.477\n",
      "E48 | train loss: 0.466 | val loss: 0.478\n",
      "E49 | train loss: 0.467 | val loss: 0.477\n"
     ]
    }
   ],
   "source": [
    "# get the sequence length from the first seq in the df\n",
    "seq_len = len(train_df['seq'].values[0])\n",
    "\n",
    "# create Linear model object\n",
    "model_lin = DNA_Linear(seq_len)\n",
    "model_lin.to(DEVICE) # put on GPU\n",
    "\n",
    "# run the model with default settings!\n",
    "lin_train_losses, lin_val_losses = run_model(\n",
    "    train_dl, \n",
    "    val_dl, \n",
    "    model_lin,\n",
    "    DEVICE,\n",
    "    lossf = torch.nn.BCELoss()\n",
    ")"
   ]
  },
  {
   "cell_type": "code",
   "execution_count": null,
   "id": "74951af3",
   "metadata": {},
   "outputs": [],
   "source": []
  },
  {
   "cell_type": "code",
   "execution_count": 100,
   "id": "5b4c00d3",
   "metadata": {},
   "outputs": [],
   "source": [
    "def quick_loss_plot(data_label_list,loss_type=\"BCE Loss\",sparse_n=0):\n",
    "    '''\n",
    "    For each train/test loss trajectory, plot loss by epoch\n",
    "    '''\n",
    "    for i,(train_data,test_data,label) in enumerate(data_label_list):    \n",
    "        plt.plot(train_data,linestyle='--',color=f\"C{i}\", label=f\"{label} Train\")\n",
    "        plt.plot(test_data,color=f\"C{i}\", label=f\"{label} Val\",linewidth=3.0)\n",
    "\n",
    "    plt.legend()\n",
    "    plt.ylabel(loss_type)\n",
    "    plt.xlabel(\"Epoch\")\n",
    "    plt.legend(bbox_to_anchor=(1,1),loc='upper left')\n",
    "    plt.show()"
   ]
  },
  {
   "cell_type": "code",
   "execution_count": 101,
   "id": "3421d6e7",
   "metadata": {},
   "outputs": [
    {
     "data": {
      "image/png": "[encoded data removed]",
      "text/plain": [
       "<Figure size 432x288 with 1 Axes>"
      ]
     },
     "metadata": {
      "needs_background": "light"
     },
     "output_type": "display_data"
    }
   ],
   "source": [
    "lin_data_label = (lin_train_losses,lin_val_losses,\"Lin\")\n",
    "quick_loss_plot([lin_data_label])"
   ]
  },
  {
   "cell_type": "markdown",
   "id": "83718283",
   "metadata": {},
   "source": [
    "### Запускаем Модель Model_cnn"
   ]
  },
  {
   "cell_type": "code",
   "execution_count": 102,
   "id": "abbe712b",
   "metadata": {},
   "outputs": [
    {
     "data": {
      "application/vnd.jupyter.widget-view+json": {
       "model_id": "47298fa5924541dc946d786793c5dcef",
       "version_major": 2,
       "version_minor": 0
      },
      "text/plain": [
       "  0%|          | 0/50 [00:00<?, ?it/s]"
      ]
     },
     "metadata": {},
     "output_type": "display_data"
    },
    {
     "name": "stdout",
     "output_type": "stream",
     "text": [
      "E0 | train loss: 0.484 | val loss: 0.485\n",
      "E1 | train loss: 0.480 | val loss: 0.485\n",
      "E2 | train loss: 0.481 | val loss: 0.485\n",
      "E3 | train loss: 0.483 | val loss: 0.488\n",
      "E4 | train loss: 0.480 | val loss: 0.485\n",
      "E5 | train loss: 0.480 | val loss: 0.486\n",
      "E6 | train loss: 0.480 | val loss: 0.485\n",
      "E7 | train loss: 0.481 | val loss: 0.488\n",
      "E8 | train loss: 0.481 | val loss: 0.486\n",
      "E9 | train loss: 0.480 | val loss: 0.486\n",
      "E10 | train loss: 0.480 | val loss: 0.486\n",
      "E11 | train loss: 0.480 | val loss: 0.486\n",
      "E12 | train loss: 0.480 | val loss: 0.486\n",
      "E13 | train loss: 0.480 | val loss: 0.488\n",
      "E14 | train loss: 0.480 | val loss: 0.487\n",
      "E15 | train loss: 0.482 | val loss: 0.486\n",
      "E16 | train loss: 0.481 | val loss: 0.485\n",
      "E17 | train loss: 0.480 | val loss: 0.486\n",
      "E18 | train loss: 0.481 | val loss: 0.486\n",
      "E19 | train loss: 0.481 | val loss: 0.485\n",
      "E20 | train loss: 0.481 | val loss: 0.485\n",
      "E21 | train loss: 0.480 | val loss: 0.488\n",
      "E22 | train loss: 0.481 | val loss: 0.486\n",
      "E23 | train loss: 0.482 | val loss: 0.485\n",
      "E24 | train loss: 0.481 | val loss: 0.487\n",
      "E25 | train loss: 0.480 | val loss: 0.485\n",
      "E26 | train loss: 0.480 | val loss: 0.488\n",
      "E27 | train loss: 0.481 | val loss: 0.488\n",
      "E28 | train loss: 0.480 | val loss: 0.486\n",
      "E29 | train loss: 0.480 | val loss: 0.486\n",
      "E30 | train loss: 0.480 | val loss: 0.485\n",
      "E31 | train loss: 0.482 | val loss: 0.487\n",
      "E32 | train loss: 0.480 | val loss: 0.486\n",
      "E33 | train loss: 0.480 | val loss: 0.485\n",
      "E34 | train loss: 0.481 | val loss: 0.488\n",
      "E35 | train loss: 0.481 | val loss: 0.485\n",
      "E36 | train loss: 0.480 | val loss: 0.487\n",
      "E37 | train loss: 0.480 | val loss: 0.487\n",
      "E38 | train loss: 0.481 | val loss: 0.489\n",
      "E39 | train loss: 0.483 | val loss: 0.487\n",
      "E40 | train loss: 0.481 | val loss: 0.485\n",
      "E41 | train loss: 0.480 | val loss: 0.486\n",
      "E42 | train loss: 0.482 | val loss: 0.485\n",
      "E43 | train loss: 0.480 | val loss: 0.486\n",
      "E44 | train loss: 0.481 | val loss: 0.486\n",
      "E45 | train loss: 0.479 | val loss: 0.486\n",
      "E46 | train loss: 0.480 | val loss: 0.488\n",
      "E47 | train loss: 0.480 | val loss: 0.488\n",
      "E48 | train loss: 0.481 | val loss: 0.488\n",
      "E49 | train loss: 0.480 | val loss: 0.489\n"
     ]
    }
   ],
   "source": [
    "seq_len = len(train_df['seq'].values[0])\n",
    "\n",
    "# create Linear model object\n",
    "model_cnn = DNA_CNN(seq_len)\n",
    "model_cnn.to(DEVICE) # put on GPU\n",
    "\n",
    "# run the model with default settings!\n",
    "cnn_train_losses, cnn_val_losses = run_model(\n",
    "    train_dl, \n",
    "    val_dl, \n",
    "    model_cnn,\n",
    "    DEVICE,\n",
    "    lossf = torch.nn.BCELoss()\n",
    ")"
   ]
  },
  {
   "cell_type": "code",
   "execution_count": 103,
   "id": "8a640cab",
   "metadata": {},
   "outputs": [
    {
     "data": {
      "image/png": "[encoded data removed]",
      "text/plain": [
       "<Figure size 432x288 with 1 Axes>"
      ]
     },
     "metadata": {
      "needs_background": "light"
     },
     "output_type": "display_data"
    }
   ],
   "source": [
    "cnn_data_label = (cnn_train_losses,cnn_val_losses,\"CNN\")\n",
    "quick_loss_plot([lin_data_label,cnn_data_label])"
   ]
  },
  {
   "cell_type": "code",
   "execution_count": 104,
   "id": "8e39990b",
   "metadata": {},
   "outputs": [],
   "source": [
    "def quick_seq_pred(model, seqs, oracle):\n",
    "    '''\n",
    "    Given a model and some sequences, get the model's predictions\n",
    "    for those sequences and compare to the oracle (true) output\n",
    "    \n",
    "    '''\n",
    "    \n",
    "    df = pd.DataFrame(data = {'seq': [], 'pred': [], 'actual': []})\n",
    "    \n",
    "    for dna in seqs:\n",
    "        s = torch.tensor(one_hot_encode(dna)).unsqueeze(0).to(DEVICE)# One_Hot_Encode\n",
    "        \n",
    "        pred = model(s.float()) # model predicted value\n",
    "        \n",
    "        actual = oracle[dna] # actual value\n",
    "        \n",
    "        df = df.append({'seq': dna, 'pred': pred.item(), 'actual': actual}, ignore_index = True)\n",
    "    return df\n",
    "    "
   ]
  },
  {
   "cell_type": "code",
   "execution_count": 105,
   "id": "cde30ee4",
   "metadata": {},
   "outputs": [],
   "source": [
    "def graph_roc(df,model):\n",
    "    y_true=df[\"actual\"]\n",
    "    y_score=df[\"pred\"]\n",
    "\n",
    "    fpr, tpr, treshold = roc_curve(y_true, y_score)\n",
    "    auc_score = roc_auc_score(y_true, y_score)\n",
    "    roc_auc = auc(fpr, tpr)\n",
    "\n",
    "    print(\"roc_auc_scor: \",auc_score)\n",
    "    plt.plot(fpr, tpr, color='darkorange',\n",
    "         label='ROC кривая (area = %0.2f)' % roc_auc)\n",
    "    plt.plot([0, 1], [0, 1], color='navy', linestyle='--')\n",
    "    plt.xlim([0.0, 1.0])\n",
    "    plt.ylim([0.0, 1.05])\n",
    "    plt.xlabel('False Positive Rate')\n",
    "    plt.ylabel('True Positive Rate')\n",
    "    plt.title(f'ROC-кривая {model}')\n",
    "    plt.legend(loc=\"lower right\")\n",
    "    plt.show()"
   ]
  },
  {
   "cell_type": "markdown",
   "id": "3c0f3580",
   "metadata": {},
   "source": [
    "### ROC_AUC на валидации linear"
   ]
  },
  {
   "cell_type": "code",
   "execution_count": 106,
   "id": "598827aa",
   "metadata": {},
   "outputs": [],
   "source": [
    "oracle = dict(val_df[['seq','binary']].values)\n",
    "\n",
    "\n",
    "df1 = quick_seq_pred(model_lin, oracle.keys(), oracle)"
   ]
  },
  {
   "cell_type": "code",
   "execution_count": 107,
   "id": "354a5c37",
   "metadata": {},
   "outputs": [
    {
     "name": "stdout",
     "output_type": "stream",
     "text": [
      "roc_auc_scor:  0.6033503532470048\n"
     ]
    },
    {
     "data": {
      "image/png": "[encoded data removed]",
      "text/plain": [
       "<Figure size 432x288 with 1 Axes>"
      ]
     },
     "metadata": {
      "needs_background": "light"
     },
     "output_type": "display_data"
    }
   ],
   "source": [
    "graph_roc(df1,\"model_lin_val\")"
   ]
  },
  {
   "cell_type": "markdown",
   "id": "68c0ae7a",
   "metadata": {},
   "source": [
    "### ROC_AUC на тесте linear"
   ]
  },
  {
   "cell_type": "code",
   "execution_count": 108,
   "id": "8fbc816e",
   "metadata": {},
   "outputs": [],
   "source": [
    "oracle = dict(test_df[['seq','binary']].values)\n",
    "\n",
    "df2 = quick_seq_pred(model_lin, oracle.keys(), oracle)"
   ]
  },
  {
   "cell_type": "code",
   "execution_count": 109,
   "id": "2ee60d3d",
   "metadata": {},
   "outputs": [
    {
     "name": "stdout",
     "output_type": "stream",
     "text": [
      "roc_auc_scor:  0.6186375896561317\n"
     ]
    },
    {
     "data": {
      "image/png": "[encoded data removed]",
      "text/plain": [
       "<Figure size 432x288 with 1 Axes>"
      ]
     },
     "metadata": {
      "needs_background": "light"
     },
     "output_type": "display_data"
    }
   ],
   "source": [
    "graph_roc(df2,\"model_lin_test\")"
   ]
  },
  {
   "cell_type": "markdown",
   "id": "6181338c",
   "metadata": {},
   "source": [
    "### ROC_AUC на валидации cnn"
   ]
  },
  {
   "cell_type": "code",
   "execution_count": 110,
   "id": "e1406314",
   "metadata": {},
   "outputs": [],
   "source": [
    "oracle = dict(val_df[['seq','binary']].values)\n",
    "\n",
    "df3 = quick_seq_pred(model_cnn, oracle.keys(), oracle)"
   ]
  },
  {
   "cell_type": "code",
   "execution_count": 111,
   "id": "22a1655b",
   "metadata": {},
   "outputs": [
    {
     "name": "stdout",
     "output_type": "stream",
     "text": [
      "roc_auc_scor:  0.5\n"
     ]
    },
    {
     "data": {
      "image/png": "[encoded data removed]",
      "text/plain": [
       "<Figure size 432x288 with 1 Axes>"
      ]
     },
     "metadata": {
      "needs_background": "light"
     },
     "output_type": "display_data"
    }
   ],
   "source": [
    "graph_roc(df3,\"model_cnn_val\")"
   ]
  },
  {
   "cell_type": "markdown",
   "id": "4e8893b2",
   "metadata": {},
   "source": [
    "### ROC_AUC на тесте cnn"
   ]
  },
  {
   "cell_type": "code",
   "execution_count": 112,
   "id": "b8210bf9",
   "metadata": {},
   "outputs": [],
   "source": [
    "oracle = dict(test_df[['seq','binary']].values)\n",
    "\n",
    "df4 = quick_seq_pred(model_cnn, oracle.keys(), oracle)"
   ]
  },
  {
   "cell_type": "code",
   "execution_count": 113,
   "id": "9725f2a9",
   "metadata": {},
   "outputs": [
    {
     "name": "stdout",
     "output_type": "stream",
     "text": [
      "roc_auc_scor:  0.5\n"
     ]
    },
    {
     "data": {
      "image/png": "[encoded data removed]",
      "text/plain": [
       "<Figure size 432x288 with 1 Axes>"
      ]
     },
     "metadata": {
      "needs_background": "light"
     },
     "output_type": "display_data"
    }
   ],
   "source": [
    "graph_roc(df4,\"model_cnn_test\")"
   ]
  },
  {
   "cell_type": "code",
   "execution_count": 114,
   "id": "86dc2859",
   "metadata": {},
   "outputs": [
    {
     "data": {
      "text/html": [
       "<div>\n",
       "<style scoped>\n",
       "    .dataframe tbody tr th:only-of-type {\n",
       "        vertical-align: middle;\n",
       "    }\n",
       "\n",
       "    .dataframe tbody tr th {\n",
       "        vertical-align: top;\n",
       "    }\n",
       "\n",
       "    .dataframe thead th {\n",
       "        text-align: right;\n",
       "    }\n",
       "</style>\n",
       "<table border=\"1\" class=\"dataframe\">\n",
       "  <thead>\n",
       "    <tr style=\"text-align: right;\">\n",
       "      <th></th>\n",
       "      <th>seq</th>\n",
       "      <th>pred</th>\n",
       "      <th>actual</th>\n",
       "    </tr>\n",
       "  </thead>\n",
       "  <tbody>\n",
       "  </tbody>\n",
       "</table>\n",
       "</div>"
      ],
      "text/plain": [
       "Empty DataFrame\n",
       "Columns: [seq, pred, actual]\n",
       "Index: []"
      ]
     },
     "execution_count": 114,
     "metadata": {},
     "output_type": "execute_result"
    }
   ],
   "source": [
    "df1[df1[\"pred\"]>0.5]"
   ]
  },
  {
   "cell_type": "code",
   "execution_count": 115,
   "id": "49dbe868",
   "metadata": {},
   "outputs": [
    {
     "data": {
      "text/html": [
       "<div>\n",
       "<style scoped>\n",
       "    .dataframe tbody tr th:only-of-type {\n",
       "        vertical-align: middle;\n",
       "    }\n",
       "\n",
       "    .dataframe tbody tr th {\n",
       "        vertical-align: top;\n",
       "    }\n",
       "\n",
       "    .dataframe thead th {\n",
       "        text-align: right;\n",
       "    }\n",
       "</style>\n",
       "<table border=\"1\" class=\"dataframe\">\n",
       "  <thead>\n",
       "    <tr style=\"text-align: right;\">\n",
       "      <th></th>\n",
       "      <th>seq</th>\n",
       "      <th>pred</th>\n",
       "      <th>actual</th>\n",
       "    </tr>\n",
       "  </thead>\n",
       "  <tbody>\n",
       "  </tbody>\n",
       "</table>\n",
       "</div>"
      ],
      "text/plain": [
       "Empty DataFrame\n",
       "Columns: [seq, pred, actual]\n",
       "Index: []"
      ]
     },
     "execution_count": 115,
     "metadata": {},
     "output_type": "execute_result"
    }
   ],
   "source": [
    "df2[df2[\"pred\"]>0.5]"
   ]
  },
  {
   "cell_type": "code",
   "execution_count": 116,
   "id": "fde81adb",
   "metadata": {},
   "outputs": [
    {
     "data": {
      "text/html": [
       "<div>\n",
       "<style scoped>\n",
       "    .dataframe tbody tr th:only-of-type {\n",
       "        vertical-align: middle;\n",
       "    }\n",
       "\n",
       "    .dataframe tbody tr th {\n",
       "        vertical-align: top;\n",
       "    }\n",
       "\n",
       "    .dataframe thead th {\n",
       "        text-align: right;\n",
       "    }\n",
       "</style>\n",
       "<table border=\"1\" class=\"dataframe\">\n",
       "  <thead>\n",
       "    <tr style=\"text-align: right;\">\n",
       "      <th></th>\n",
       "      <th>seq</th>\n",
       "      <th>pred</th>\n",
       "      <th>actual</th>\n",
       "    </tr>\n",
       "  </thead>\n",
       "  <tbody>\n",
       "  </tbody>\n",
       "</table>\n",
       "</div>"
      ],
      "text/plain": [
       "Empty DataFrame\n",
       "Columns: [seq, pred, actual]\n",
       "Index: []"
      ]
     },
     "execution_count": 116,
     "metadata": {},
     "output_type": "execute_result"
    }
   ],
   "source": [
    "df3[df3[\"pred\"]>0.5]"
   ]
  },
  {
   "cell_type": "code",
   "execution_count": 117,
   "id": "f1ad6806",
   "metadata": {},
   "outputs": [
    {
     "data": {
      "text/html": [
       "<div>\n",
       "<style scoped>\n",
       "    .dataframe tbody tr th:only-of-type {\n",
       "        vertical-align: middle;\n",
       "    }\n",
       "\n",
       "    .dataframe tbody tr th {\n",
       "        vertical-align: top;\n",
       "    }\n",
       "\n",
       "    .dataframe thead th {\n",
       "        text-align: right;\n",
       "    }\n",
       "</style>\n",
       "<table border=\"1\" class=\"dataframe\">\n",
       "  <thead>\n",
       "    <tr style=\"text-align: right;\">\n",
       "      <th></th>\n",
       "      <th>seq</th>\n",
       "      <th>pred</th>\n",
       "      <th>actual</th>\n",
       "    </tr>\n",
       "  </thead>\n",
       "  <tbody>\n",
       "  </tbody>\n",
       "</table>\n",
       "</div>"
      ],
      "text/plain": [
       "Empty DataFrame\n",
       "Columns: [seq, pred, actual]\n",
       "Index: []"
      ]
     },
     "execution_count": 117,
     "metadata": {},
     "output_type": "execute_result"
    }
   ],
   "source": [
    "df4[df4[\"pred\"]>0.5]"
   ]
  },
  {
   "cell_type": "code",
   "execution_count": null,
   "id": "18603f98",
   "metadata": {},
   "outputs": [],
   "source": []
  }
 ],
 "metadata": {
  "celltoolbar": "Tags",
  "kernelspec": {
   "display_name": "Python 3",
   "language": "python",
   "name": "python3"
  },
  "language_info": {
   "codemirror_mode": {
    "name": "ipython",
    "version": 3
   },
   "file_extension": ".py",
   "mimetype": "text/x-python",
   "name": "python",
   "nbconvert_exporter": "python",
   "pygments_lexer": "ipython3",
   "version": "3.8.8"
  }
 },
 "nbformat": 4,
 "nbformat_minor": 5
}
