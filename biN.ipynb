{
 "cells": [
  {
   "cell_type": "code",
   "execution_count": 130,
   "id": "44782eb9",
   "metadata": {},
   "outputs": [],
   "source": [
    "from torch.utils.data import Dataset, DataLoader\n",
    "import pandas as pd\n",
    "import random\n",
    "import torch\n",
    "from torch import nn\n",
    "import numpy as np\n",
    "import matplotlib.pyplot as plt\n",
    "from tqdm.notebook import tqdm\n",
    "from torch.nn import functional as F\n",
    "from sklearn.metrics import accuracy_score\n",
    "from sklearn.metrics import roc_auc_score\n",
    "from sklearn.metrics import roc_curve, auc\n",
    "import seaborn as sns\n",
    "\n"
   ]
  },
  {
   "cell_type": "code",
   "execution_count": 2,
   "id": "4e99dc89",
   "metadata": {},
   "outputs": [],
   "source": [
    "def one_hot_encode(seq):\n",
    "    \"\"\"\n",
    "    Given a DNA sequence, return its one-hot encoding\n",
    "    \"\"\"\n",
    "    # Make sure seq has only allowed bases\n",
    "    allowed = set(\"ACGUN\")\n",
    "    if not set(seq).issubset(allowed):\n",
    "        invalid = set(seq) - allowed\n",
    "        raise ValueError(f\"Sequence contains chars not in allowed DNA alphabet (ACGTN): {invalid}\")\n",
    "        \n",
    "    # Dictionary returning one-hot encoding for each nucleotide \n",
    "    nuc_d = {'A':[1.0,0.0,0.0,0.0],\n",
    "             'C':[0.0,1.0,0.0,0.0],\n",
    "             'G':[0.0,0.0,1.0,0.0],\n",
    "             'U':[0.0,0.0,0.0,1.0],\n",
    "             'N':[0.0,0.0,0.0,0.0]}\n",
    "    \n",
    "    # Create array from nucleotide sequence\n",
    "    vec=np.array([nuc_d[x] for x in seq])\n",
    "        \n",
    "    return vec"
   ]
  },
  {
   "cell_type": "code",
   "execution_count": 3,
   "id": "23e827a0",
   "metadata": {
    "tags": [
     "example"
    ]
   },
   "outputs": [
    {
     "data": {
      "text/plain": [
       "array([[1., 0., 0., 0.],\n",
       "       [0., 1., 0., 0.],\n",
       "       [0., 0., 1., 0.],\n",
       "       [0., 0., 0., 1.]])"
      ]
     },
     "execution_count": 3,
     "metadata": {},
     "output_type": "execute_result"
    }
   ],
   "source": [
    "one_hot_encode(\"ACGU\")"
   ]
  },
  {
   "cell_type": "code",
   "execution_count": 4,
   "id": "d0c7e06f",
   "metadata": {},
   "outputs": [
    {
     "data": {
      "text/plain": [
       "device(type='cpu')"
      ]
     },
     "execution_count": 4,
     "metadata": {},
     "output_type": "execute_result"
    }
   ],
   "source": [
    "DEVICE = torch.device('cuda' if torch.cuda.is_available() else 'cpu')\n",
    "DEVICE"
   ]
  },
  {
   "cell_type": "markdown",
   "id": "6aea97b5",
   "metadata": {},
   "source": [
    "### Загрузка датасета бинов"
   ]
  },
  {
   "cell_type": "code",
   "execution_count": 161,
   "id": "3938ae48",
   "metadata": {
    "scrolled": true
   },
   "outputs": [
    {
     "name": "stdout",
     "output_type": "stream",
     "text": [
      "(1934, 10)\n",
      "(9758, 10)\n"
     ]
    }
   ],
   "source": [
    "\n",
    "prob = pd.read_csv('20long.csv') # сразу загружается таблица бинов\n",
    "#prob[\"binary\"] = prob.max(axis = 1)\n",
    "#prob.loc[prob['F3 probability'] < 0.6, 'binary'] = 0\n",
    "#prob.loc[prob['F4 probability'] < 0.6, 'binary'] = 0 \n",
    "prob.loc[prob['F7 probability'] < 0.6, 'binary'] = 0\n",
    "prob.loc[prob['F8 probability'] < 0.6, 'binary'] = 0\n",
    "#prob.loc[prob['F3 probability'] > 0.6, 'binary'] = 1\n",
    "#prob.loc[prob['F4 probability'] > 0.6, 'binary'] = 1 \n",
    "prob.loc[prob['F7 probability'] > 0.6, 'binary'] = 1 \n",
    "prob.loc[prob['F8 probability'] > 0.6, 'binary'] = 1 \n",
    "\n",
    "prob.binary = prob.binary.astype(int)\n",
    "print(prob[prob[\"F2 probability\"] >= 0.6].shape)\n",
    "print(prob[prob[\"F2 probability\"] < 0.6].shape)"
   ]
  },
  {
   "cell_type": "code",
   "execution_count": 84,
   "id": "8970c7f5",
   "metadata": {
    "tags": [
     "split"
    ]
   },
   "outputs": [],
   "source": [
    "def quick_split(df, split_frac=0.8, verbose=False):\n",
    "    '''\n",
    "    Given a df of samples, randomly split indices between\n",
    "    train and test at the desired fraction\n",
    "    '''\n",
    "    cols = df.columns # original columns, use to clean up reindexed cols\n",
    "    df = df.reset_index()\n",
    "\n",
    "    # shuffle indices\n",
    "    idxs = list(range(df.shape[0]))\n",
    "    random.shuffle(idxs)\n",
    "\n",
    "    # split shuffled index list by split_frac\n",
    "    split = int(len(idxs)*split_frac)\n",
    "    train_idxs = idxs[:split]\n",
    "    test_idxs = idxs[split:]\n",
    "    \n",
    "    # split dfs and return\n",
    "    train_df = df[df.index.isin(train_idxs)]\n",
    "    test_df = df[df.index.isin(test_idxs)]\n",
    "        \n",
    "    return train_df[cols], test_df[cols]"
   ]
  },
  {
   "cell_type": "markdown",
   "id": "644e2da2",
   "metadata": {},
   "source": [
    "### Разделение на train-test"
   ]
  },
  {
   "cell_type": "code",
   "execution_count": 85,
   "id": "ae21c1f8",
   "metadata": {
    "scrolled": true,
    "tags": [
     "split"
    ]
   },
   "outputs": [
    {
     "name": "stdout",
     "output_type": "stream",
     "text": [
      "Train: (7482, 10)\n",
      "Val: (1871, 10)\n",
      "Test: (2339, 10)\n",
      "Train.1: (4886, 10)\n",
      "Train.0: (2596, 10)\n"
     ]
    }
   ],
   "source": [
    "full_train_df, test_df = quick_split(prob)\n",
    "train_df, val_df = quick_split(full_train_df)\n",
    "\n",
    "print(\"Train:\", train_df.shape)\n",
    "print(\"Val:\", val_df.shape)\n",
    "print(\"Test:\", test_df.shape)\n",
    "print(\"Train.1:\", train_df[train_df[\"binary\"] == 1].shape)\n",
    "print(\"Train.0:\", train_df[train_df[\"binary\"] == 0].shape)"
   ]
  },
  {
   "cell_type": "markdown",
   "id": "ee54704c",
   "metadata": {},
   "source": [
    "#### Если использовать в таблице бины для фракций 1 2 3 4, то примерно шестая часть записей в каждом датафрейме имеет y_true = 1\n",
    "#### Если используются фракции 2 3 4, то положительных ответов примерно столько же сколько отрицательных"
   ]
  },
  {
   "cell_type": "markdown",
   "id": "cdff1fa7",
   "metadata": {},
   "source": [
    "#### Создание датасета OHE - y_true"
   ]
  },
  {
   "cell_type": "code",
   "execution_count": 86,
   "id": "87e05f0a",
   "metadata": {},
   "outputs": [],
   "source": [
    "class SeqDatasetOHE(Dataset):\n",
    "    '''\n",
    "    Dataset for one-hot-encoded sequences\n",
    "    '''\n",
    "    def __init__(self,\n",
    "                 df,\n",
    "                 seq_col='seq',\n",
    "                 target_col='binary'\n",
    "                ):\n",
    "        # +--------------------+\n",
    "        # | Get the X examples |\n",
    "        # +--------------------+\n",
    "        # extract the DNA from the appropriate column in the df\n",
    "        self.seqs = list(df[seq_col].values) # лист всех последовательностей\n",
    "        self.seq_len = len(self.seqs[0])\n",
    "        \n",
    "        # one-hot encode sequences, then stack in a torch tensor\n",
    "        self.ohe_seqs = torch.stack([torch.tensor(one_hot_encode(x)) for x in self.seqs])\n",
    "        \n",
    "        # +------------------+\n",
    "        # | Get the Y labels |\n",
    "        # +------------------+\n",
    "        self.labels = torch.tensor(list(df[target_col].values)).unsqueeze(1)\n",
    "\n",
    "        \n",
    "    def __len__(self): return len(self.seqs)\n",
    "    \n",
    "    def __getitem__(self,idx):\n",
    "        # Given an index, return a tuple of an X with it's associated Y\n",
    "        # This is called inside DataLoader\n",
    "        seq = self.ohe_seqs[idx]\n",
    "        label = self.labels[idx]\n",
    "        \n",
    "        return seq, label"
   ]
  },
  {
   "cell_type": "markdown",
   "id": "1acbe369",
   "metadata": {},
   "source": [
    "### Даталоадер"
   ]
  },
  {
   "cell_type": "code",
   "execution_count": 87,
   "id": "366ac6d4",
   "metadata": {
    "tags": [
     "dataloader",
     "data"
    ]
   },
   "outputs": [],
   "source": [
    "def build_dataloaders(train_df,\n",
    "                      test_df,\n",
    "                      seq_col='seq',\n",
    "                      target_col='binary',\n",
    "                      batch_size=128,\n",
    "                      shuffle=True\n",
    "                     ):\n",
    "    '''\n",
    "    Given a train and test df with some batch construction\n",
    "    details, put them into custom SeqDatasetOHE() objects. \n",
    "    Give the Datasets to the DataLoaders and return.\n",
    "    '''\n",
    "    \n",
    "    # create Datasets    \n",
    "    train_ds = SeqDatasetOHE(train_df,seq_col=seq_col,target_col=target_col)\n",
    "    test_ds = SeqDatasetOHE(test_df,seq_col=seq_col,target_col=target_col)\n",
    "\n",
    "    # Put DataSets into DataLoaders\n",
    "    train_dl = DataLoader(train_ds, batch_size=batch_size, shuffle=shuffle)\n",
    "    test_dl = DataLoader(test_ds, batch_size=batch_size)\n",
    "\n",
    "    \n",
    "    return train_dl,test_dl"
   ]
  },
  {
   "cell_type": "code",
   "execution_count": 88,
   "id": "88036d92",
   "metadata": {},
   "outputs": [],
   "source": [
    "train_dl, val_dl = build_dataloaders(train_df, val_df)"
   ]
  },
  {
   "cell_type": "code",
   "execution_count": null,
   "id": "963645f7",
   "metadata": {},
   "outputs": [],
   "source": []
  },
  {
   "cell_type": "markdown",
   "id": "738f98ad",
   "metadata": {},
   "source": [
    "## Линейная модель"
   ]
  },
  {
   "cell_type": "code",
   "execution_count": 55,
   "id": "ed7f3413",
   "metadata": {
    "tags": [
     "model",
     "linear"
    ]
   },
   "outputs": [],
   "source": [
    "# very simple linear model\n",
    "class DNA_Linear(nn.Module):\n",
    "    def __init__(self, seq_len):\n",
    "        super().__init__()\n",
    "        self.seq_len = seq_len\n",
    "        \n",
    "        # the 4 is for our one-hot encoded vector length 4!\n",
    "        self.lin1 = nn.Linear(4*seq_len,1)\n",
    "        \n",
    "        self.S = nn.Sigmoid()\n",
    "\n",
    "        \n",
    "\n",
    "    def forward(self, x):\n",
    "        \n",
    "        # reshape to flatten sequence dimension\n",
    "        x = x.view(x.shape[0],self.seq_len*4)\n",
    "        \n",
    "        # Linear wraps up the weights/bias dot product operations\n",
    "        x = self.lin1(x)\n",
    "        \n",
    "        x = self.S(x)\n",
    "\n",
    "        \n",
    "        return x\n",
    "        #return out\n",
    "\n",
    "   "
   ]
  },
  {
   "cell_type": "markdown",
   "id": "4809b630",
   "metadata": {},
   "source": [
    "## Сверточная модель"
   ]
  },
  {
   "cell_type": "code",
   "execution_count": 56,
   "id": "65db6ff1",
   "metadata": {
    "tags": [
     "model",
     "cnn"
    ]
   },
   "outputs": [],
   "source": [
    "# basic CNN model\n",
    "class DNA_CNN(nn.Module):\n",
    "    def __init__(self,\n",
    "                 seq_len,\n",
    "                 num_filters=23*4,\n",
    "                 kernel_size=7):\n",
    "        super().__init__()\n",
    "        \n",
    "        self.seq_len = seq_len\n",
    "        \n",
    "        self.conv_net = nn.Sequential(\n",
    "            \n",
    "            # 4 is for the 4 nucleotides\n",
    "            nn.Conv1d(in_channels=4, out_channels = num_filters, kernel_size=kernel_size), # 23*4*(7-2+1)\n",
    "            \n",
    "            nn.Sigmoid(),\n",
    "            \n",
    "            nn.Flatten(),\n",
    "            \n",
    "            nn.Linear(num_filters*(seq_len-kernel_size+1), 32),\n",
    "            \n",
    "            nn.Sigmoid(),\n",
    "            \n",
    "            nn.Linear(32,1),\n",
    "            \n",
    "            nn.Sigmoid()\n",
    "        ) \n",
    "    def forward(self, x):\n",
    "        \n",
    "        # reshape view to batch_size x 4channel x seq_len\n",
    "        # permute to put channel in correct order\n",
    "        x = x.permute(0,2,1) \n",
    "        \n",
    "        #print(xb.shape)\n",
    "        x = self.conv_net(x)\n",
    "        return x\n",
    "    "
   ]
  },
  {
   "cell_type": "markdown",
   "id": "ac927a59",
   "metadata": {},
   "source": [
    "## small cnn"
   ]
  },
  {
   "cell_type": "code",
   "execution_count": 81,
   "id": "a1f77862",
   "metadata": {},
   "outputs": [],
   "source": [
    "class small_cnn(nn.Module):\n",
    "    def __init__(self,\n",
    "                seq_len,\n",
    "                block_sizes=[16, 24, 32, 40, 48],\n",
    "                kernel_size=7):\n",
    "        \n",
    "        super().__init__()\n",
    "        self.seq_len = seq_len\n",
    "      \n",
    "        nn_blocks = []\n",
    "      \n",
    "        for in_bs, out_bs in zip([4] + block_sizes, block_sizes):\n",
    "            \n",
    "            block = nn.Sequential(\n",
    "                nn.Conv1d(in_bs, out_bs, kernel_size=kernel_size, padding=1),\n",
    "                nn.Sigmoid(),\n",
    "                nn.BatchNorm1d(out_bs)\n",
    "            )\n",
    "            \n",
    "            nn_blocks.append(block)\n",
    "            \n",
    "        self.conv_net = nn.Sequential(\n",
    "            *nn_blocks,\n",
    "            nn.Flatten(),\n",
    "            nn.Linear(block_sizes[-1] * (seq_len + len(block_sizes)*(3-kernel_size)), 1),\n",
    "            nn.Sigmoid()\n",
    "        )\n",
    "\n",
    "    def forward(self, x):\n",
    "        # reshape view to batch_size x 4channel x seq_len\n",
    "        # permute to put channel in correct order\n",
    "        x = x.permute(0,2,1) \n",
    "        \n",
    "        out = self.conv_net(x)\n",
    "        \n",
    "        return out"
   ]
  },
  {
   "cell_type": "code",
   "execution_count": null,
   "id": "7065bae4",
   "metadata": {},
   "outputs": [],
   "source": []
  },
  {
   "cell_type": "markdown",
   "id": "91ae9147",
   "metadata": {},
   "source": [
    "### функция потерь FocalLoss"
   ]
  },
  {
   "cell_type": "code",
   "execution_count": 58,
   "id": "acedf358",
   "metadata": {},
   "outputs": [],
   "source": [
    "\"\"\"https://discuss.pytorch.org/t/is-this-a-correct-implementation-for-focal-loss-in-pytorch/43327/4\"\"\"\n",
    "class FocalLoss(nn.Module):\n",
    "\n",
    "    def __init__(self, alpha = 0.25, gamma = 2.0):\n",
    "        super(FocalLoss, self).__init__()\n",
    "        self.gamma = torch.tensor(gamma, dtype = torch.float32)\n",
    "        self.alpha = alpha\n",
    "        self.eps = 1e-6\n",
    "\n",
    "    def forward(self, input, target):\n",
    "        \n",
    "        BCE_loss = F.binary_cross_entropy_with_logits(input, target, reduction='none')\n",
    "        pt = torch.exp(-BCE_loss) # prevents nans when probability 0\n",
    "        focal_loss = self.alpha * (1-pt)**self.gamma * BCE_loss\n",
    "        return focal_loss.mean()"
   ]
  },
  {
   "cell_type": "markdown",
   "id": "51c44a97",
   "metadata": {},
   "source": [
    "### Лосс-функция "
   ]
  },
  {
   "cell_type": "code",
   "execution_count": null,
   "id": "c20b364d",
   "metadata": {},
   "outputs": [],
   "source": []
  },
  {
   "cell_type": "code",
   "execution_count": null,
   "id": "fff4e168",
   "metadata": {},
   "outputs": [],
   "source": []
  },
  {
   "cell_type": "code",
   "execution_count": 59,
   "id": "cf192685",
   "metadata": {
    "tags": [
     "loss"
    ]
   },
   "outputs": [],
   "source": [
    "def loss_batch(model, loss_func, x, y, opt=None):\n",
    "    \n",
    "    logits = model(x.float())\n",
    "    \n",
    "    loss = loss_func(logits, y.float())\n",
    "    \n",
    "    if opt is not None: # Вывод для train\n",
    "        \n",
    "        opt.zero_grad()\n",
    "        \n",
    "        loss.backward()\n",
    "        \n",
    "        opt.step()\n",
    "        \n",
    "        return loss.item(), len(x)\n",
    "\n",
    "    return loss.item(), len(x), logits # Вывод для val"
   ]
  },
  {
   "cell_type": "markdown",
   "id": "e6177d59",
   "metadata": {},
   "source": [
    "### Train + Val"
   ]
  },
  {
   "cell_type": "code",
   "execution_count": 60,
   "id": "d778c34c",
   "metadata": {
    "tags": [
     "train"
    ]
   },
   "outputs": [],
   "source": [
    "# +--------------------------------+\n",
    "# | Training and fitting functions |\n",
    "# +--------------------------------+\n",
    "\n",
    "def train_step(model, train_dl, loss_func, device, opt):\n",
    "    '''\n",
    "    Execute 1 set of batched training within an epoch\n",
    "    '''\n",
    "    # Set model to Training mode\n",
    "    model.train()\n",
    "    \n",
    "    tl = [] # train losses\n",
    "    ns = [] # batch sizes, n\n",
    "    \n",
    "    \n",
    "    # loop through train DataLoader\n",
    "    for batch in train_dl:\n",
    "        \n",
    "        # take seq, labels\n",
    "        x, y = batch\n",
    "        \n",
    "        # put on GPU\n",
    "        x, y = x.to(device),y.to(device)\n",
    "        \n",
    "        # provide opt so backprop happens\n",
    "        t, n = loss_batch(model, loss_func, x, y, opt=opt)\n",
    "        \n",
    "        # collect train loss and batch sizes\n",
    "        tl.append(t)\n",
    "        ns.append(n)\n",
    "    \n",
    "    # average the losses over all batches    \n",
    "    train_loss = np.sum(np.multiply(tl, ns)) / np.sum(ns)\n",
    "    \n",
    "    return train_loss"
   ]
  },
  {
   "cell_type": "code",
   "execution_count": 61,
   "id": "58f4a3e8",
   "metadata": {
    "tags": [
     "val"
    ]
   },
   "outputs": [],
   "source": [
    "def val_step(model, val_dl, loss_func, device):\n",
    "    '''\n",
    "    Execute 1 set of batched validation within an epoch\n",
    "    '''\n",
    "    # Set model to Evaluation mode\n",
    "    model.eval()\n",
    "    \n",
    "    y_pred_list = []\n",
    "    y_true_list = []\n",
    "    \n",
    "    with torch.no_grad():\n",
    "        vl = [] # val losses\n",
    "        ns = [] # batch sizes, n\n",
    "        \n",
    "        # loop through validation DataLoader\n",
    "        for batch in val_dl:\n",
    "            \n",
    "            # take seq, labels\n",
    "            x, y = batch\n",
    "            \n",
    "            # put on GPU\n",
    "            x, y = x.to(device),y.to(device)\n",
    "\n",
    "            # Do NOT provide opt here, so backprop does not happen\n",
    "            v, n, logits = loss_batch(model, loss_func, x, y)\n",
    "\n",
    "            # collect val loss and batch sizes\n",
    "            vl.append(v)\n",
    "            ns.append(n)\n",
    "            \n",
    "            \n",
    "            y_pred = torch.argmax(logits, dim=1)\n",
    "            \n",
    "            \n",
    "            y_pred_list.extend(y_pred.cpu().numpy())\n",
    "            y_true_list.extend(y.numpy())\n",
    "\n",
    "    # average the losses over all batches\n",
    "    val_loss = np.sum(np.multiply(vl, ns)) / np.sum(ns)\n",
    "    \n",
    "    roc_auc = roc_auc_score(y_true = y_true_list, y_score = y_pred_list)\n",
    "    \n",
    "    \n",
    "    return val_loss, roc_auc\n",
    "    \n"
   ]
  },
  {
   "cell_type": "markdown",
   "id": "11465f90",
   "metadata": {},
   "source": [
    "### fit"
   ]
  },
  {
   "cell_type": "code",
   "execution_count": 62,
   "id": "bee59074",
   "metadata": {
    "tags": [
     "fit"
    ]
   },
   "outputs": [],
   "source": [
    "def fit(epochs, model, loss_func, opt, train_dl, val_dl,device,patience=1000):\n",
    "    '''\n",
    "    Fit the model params to the training data, eval on unseen data.\n",
    "    Loop for a number of epochs and keep train of train and val losses \n",
    "    along the way\n",
    "    '''\n",
    "    # keep track of losses\n",
    "    train_losses = []    \n",
    "    val_losses = []\n",
    "    \n",
    "    # loop through epochs\n",
    "    for epoch in tqdm(range(epochs)):\n",
    "        \n",
    "        # take a training step\n",
    "        train_loss = train_step(model,train_dl,loss_func,device,opt)\n",
    "        train_losses.append(train_loss)\n",
    "\n",
    "        # take a validation step\n",
    "        val_loss, acc = val_step(model,val_dl,loss_func,device)\n",
    "        val_losses.append(val_loss)\n",
    "        \n",
    "        print(f\"E{epoch} | train loss: {train_loss:.3f} | val loss: {val_loss:.3f}\")\n",
    "\n",
    "    return train_losses, val_losses\n",
    "\n",
    "\n"
   ]
  },
  {
   "cell_type": "markdown",
   "id": "1fa1a11d",
   "metadata": {},
   "source": [
    "### run_model функция"
   ]
  },
  {
   "cell_type": "code",
   "execution_count": 116,
   "id": "697e984a",
   "metadata": {},
   "outputs": [],
   "source": [
    "def run_model(train_dl,val_dl,model,device,\n",
    "              lr=0.01, epochs=300, \n",
    "              lossf=None,opt=None\n",
    "             ):\n",
    "    '''\n",
    "    Given train and val DataLoaders and a NN model, fit the mode to the training\n",
    "    data. By default, use MSE loss and an SGD optimizer\n",
    "    '''\n",
    "    # define optimizer\n",
    "    if opt:\n",
    "        optimizer = opt(model.parameters(), lr=lr)\n",
    "    else: # if no opt provided, just use SGD\n",
    "        optimizer = torch.optim.SGD(model.parameters(), lr=lr)\n",
    "    \n",
    "    # define loss function\n",
    "    if lossf:\n",
    "        loss_func = lossf\n",
    "    else: # if no loss function provided, just use MSE\n",
    "        loss_func = torch.nn.MSELoss()\n",
    "    \n",
    "    # run the training loop\n",
    "    train_losses, val_losses = fit(\n",
    "                                epochs, \n",
    "                                model, \n",
    "                                loss_func, \n",
    "                                optimizer, \n",
    "                                train_dl, \n",
    "                                val_dl, \n",
    "                                device)\n",
    "\n",
    "    return train_losses, val_losses"
   ]
  },
  {
   "cell_type": "markdown",
   "id": "00483aa1",
   "metadata": {},
   "source": [
    "### Запускаем Модель Model_lin"
   ]
  },
  {
   "cell_type": "code",
   "execution_count": 117,
   "id": "748a846a",
   "metadata": {},
   "outputs": [
    {
     "data": {
      "application/vnd.jupyter.widget-view+json": {
       "model_id": "1eff43d5ec4e44ca870b4d14d9ff6c78",
       "version_major": 2,
       "version_minor": 0
      },
      "text/plain": [
       "  0%|          | 0/300 [00:00<?, ?it/s]"
      ]
     },
     "metadata": {},
     "output_type": "display_data"
    },
    {
     "name": "stdout",
     "output_type": "stream",
     "text": [
      "E0 | train loss: 0.037 | val loss: 0.035\n",
      "E1 | train loss: 0.034 | val loss: 0.034\n",
      "E2 | train loss: 0.032 | val loss: 0.033\n",
      "E3 | train loss: 0.032 | val loss: 0.032\n",
      "E4 | train loss: 0.032 | val loss: 0.032\n",
      "E5 | train loss: 0.031 | val loss: 0.032\n",
      "E6 | train loss: 0.031 | val loss: 0.032\n",
      "E7 | train loss: 0.031 | val loss: 0.032\n",
      "E8 | train loss: 0.031 | val loss: 0.032\n",
      "E9 | train loss: 0.031 | val loss: 0.032\n",
      "E10 | train loss: 0.031 | val loss: 0.032\n",
      "E11 | train loss: 0.031 | val loss: 0.032\n",
      "E12 | train loss: 0.031 | val loss: 0.032\n",
      "E13 | train loss: 0.031 | val loss: 0.032\n",
      "E14 | train loss: 0.031 | val loss: 0.031\n",
      "E15 | train loss: 0.031 | val loss: 0.031\n",
      "E16 | train loss: 0.031 | val loss: 0.031\n",
      "E17 | train loss: 0.031 | val loss: 0.031\n",
      "E18 | train loss: 0.031 | val loss: 0.031\n",
      "E19 | train loss: 0.031 | val loss: 0.031\n",
      "E20 | train loss: 0.031 | val loss: 0.031\n",
      "E21 | train loss: 0.030 | val loss: 0.031\n",
      "E22 | train loss: 0.030 | val loss: 0.031\n",
      "E23 | train loss: 0.030 | val loss: 0.031\n",
      "E24 | train loss: 0.030 | val loss: 0.031\n",
      "E25 | train loss: 0.030 | val loss: 0.031\n",
      "E26 | train loss: 0.030 | val loss: 0.031\n",
      "E27 | train loss: 0.030 | val loss: 0.032\n",
      "E28 | train loss: 0.030 | val loss: 0.031\n",
      "E29 | train loss: 0.030 | val loss: 0.031\n",
      "E30 | train loss: 0.030 | val loss: 0.031\n",
      "E31 | train loss: 0.030 | val loss: 0.031\n",
      "E32 | train loss: 0.030 | val loss: 0.031\n",
      "E33 | train loss: 0.030 | val loss: 0.031\n",
      "E34 | train loss: 0.030 | val loss: 0.031\n",
      "E35 | train loss: 0.030 | val loss: 0.031\n",
      "E36 | train loss: 0.030 | val loss: 0.031\n",
      "E37 | train loss: 0.030 | val loss: 0.031\n",
      "E38 | train loss: 0.030 | val loss: 0.031\n",
      "E39 | train loss: 0.030 | val loss: 0.031\n",
      "E40 | train loss: 0.030 | val loss: 0.031\n",
      "E41 | train loss: 0.030 | val loss: 0.031\n",
      "E42 | train loss: 0.030 | val loss: 0.031\n",
      "E43 | train loss: 0.030 | val loss: 0.031\n",
      "E44 | train loss: 0.030 | val loss: 0.031\n",
      "E45 | train loss: 0.030 | val loss: 0.031\n",
      "E46 | train loss: 0.030 | val loss: 0.031\n",
      "E47 | train loss: 0.030 | val loss: 0.031\n",
      "E48 | train loss: 0.030 | val loss: 0.031\n",
      "E49 | train loss: 0.030 | val loss: 0.031\n",
      "E50 | train loss: 0.030 | val loss: 0.031\n",
      "E51 | train loss: 0.030 | val loss: 0.031\n",
      "E52 | train loss: 0.030 | val loss: 0.031\n",
      "E53 | train loss: 0.030 | val loss: 0.031\n",
      "E54 | train loss: 0.030 | val loss: 0.031\n",
      "E55 | train loss: 0.030 | val loss: 0.031\n",
      "E56 | train loss: 0.030 | val loss: 0.031\n",
      "E57 | train loss: 0.030 | val loss: 0.031\n",
      "E58 | train loss: 0.030 | val loss: 0.031\n",
      "E59 | train loss: 0.030 | val loss: 0.031\n",
      "E60 | train loss: 0.030 | val loss: 0.031\n",
      "E61 | train loss: 0.030 | val loss: 0.031\n",
      "E62 | train loss: 0.030 | val loss: 0.031\n",
      "E63 | train loss: 0.030 | val loss: 0.031\n",
      "E64 | train loss: 0.030 | val loss: 0.031\n",
      "E65 | train loss: 0.030 | val loss: 0.031\n",
      "E66 | train loss: 0.030 | val loss: 0.031\n",
      "E67 | train loss: 0.030 | val loss: 0.031\n",
      "E68 | train loss: 0.030 | val loss: 0.031\n",
      "E69 | train loss: 0.030 | val loss: 0.031\n",
      "E70 | train loss: 0.030 | val loss: 0.031\n",
      "E71 | train loss: 0.030 | val loss: 0.031\n",
      "E72 | train loss: 0.030 | val loss: 0.031\n",
      "E73 | train loss: 0.030 | val loss: 0.031\n",
      "E74 | train loss: 0.030 | val loss: 0.031\n",
      "E75 | train loss: 0.030 | val loss: 0.031\n",
      "E76 | train loss: 0.030 | val loss: 0.031\n",
      "E77 | train loss: 0.030 | val loss: 0.031\n",
      "E78 | train loss: 0.030 | val loss: 0.031\n",
      "E79 | train loss: 0.030 | val loss: 0.031\n",
      "E80 | train loss: 0.030 | val loss: 0.031\n",
      "E81 | train loss: 0.030 | val loss: 0.031\n",
      "E82 | train loss: 0.030 | val loss: 0.031\n",
      "E83 | train loss: 0.030 | val loss: 0.031\n",
      "E84 | train loss: 0.030 | val loss: 0.031\n",
      "E85 | train loss: 0.030 | val loss: 0.031\n",
      "E86 | train loss: 0.030 | val loss: 0.031\n",
      "E87 | train loss: 0.030 | val loss: 0.031\n",
      "E88 | train loss: 0.030 | val loss: 0.031\n",
      "E89 | train loss: 0.030 | val loss: 0.031\n",
      "E90 | train loss: 0.030 | val loss: 0.031\n",
      "E91 | train loss: 0.030 | val loss: 0.031\n",
      "E92 | train loss: 0.030 | val loss: 0.031\n",
      "E93 | train loss: 0.030 | val loss: 0.031\n",
      "E94 | train loss: 0.030 | val loss: 0.031\n",
      "E95 | train loss: 0.030 | val loss: 0.031\n",
      "E96 | train loss: 0.030 | val loss: 0.031\n",
      "E97 | train loss: 0.030 | val loss: 0.031\n",
      "E98 | train loss: 0.030 | val loss: 0.031\n",
      "E99 | train loss: 0.030 | val loss: 0.031\n",
      "E100 | train loss: 0.030 | val loss: 0.031\n",
      "E101 | train loss: 0.030 | val loss: 0.031\n",
      "E102 | train loss: 0.030 | val loss: 0.031\n",
      "E103 | train loss: 0.030 | val loss: 0.031\n",
      "E104 | train loss: 0.030 | val loss: 0.031\n",
      "E105 | train loss: 0.030 | val loss: 0.031\n",
      "E106 | train loss: 0.030 | val loss: 0.031\n",
      "E107 | train loss: 0.030 | val loss: 0.031\n",
      "E108 | train loss: 0.030 | val loss: 0.031\n",
      "E109 | train loss: 0.030 | val loss: 0.031\n",
      "E110 | train loss: 0.030 | val loss: 0.031\n",
      "E111 | train loss: 0.030 | val loss: 0.031\n",
      "E112 | train loss: 0.030 | val loss: 0.031\n",
      "E113 | train loss: 0.030 | val loss: 0.031\n",
      "E114 | train loss: 0.030 | val loss: 0.031\n",
      "E115 | train loss: 0.030 | val loss: 0.031\n",
      "E116 | train loss: 0.030 | val loss: 0.031\n",
      "E117 | train loss: 0.030 | val loss: 0.031\n",
      "E118 | train loss: 0.030 | val loss: 0.031\n",
      "E119 | train loss: 0.030 | val loss: 0.031\n",
      "E120 | train loss: 0.030 | val loss: 0.031\n",
      "E121 | train loss: 0.030 | val loss: 0.031\n",
      "E122 | train loss: 0.030 | val loss: 0.031\n",
      "E123 | train loss: 0.030 | val loss: 0.031\n",
      "E124 | train loss: 0.030 | val loss: 0.031\n",
      "E125 | train loss: 0.030 | val loss: 0.031\n",
      "E126 | train loss: 0.030 | val loss: 0.031\n",
      "E127 | train loss: 0.030 | val loss: 0.031\n",
      "E128 | train loss: 0.030 | val loss: 0.031\n",
      "E129 | train loss: 0.030 | val loss: 0.031\n",
      "E130 | train loss: 0.030 | val loss: 0.031\n",
      "E131 | train loss: 0.030 | val loss: 0.031\n",
      "E132 | train loss: 0.030 | val loss: 0.031\n",
      "E133 | train loss: 0.030 | val loss: 0.031\n",
      "E134 | train loss: 0.030 | val loss: 0.031\n",
      "E135 | train loss: 0.030 | val loss: 0.031\n",
      "E136 | train loss: 0.030 | val loss: 0.031\n",
      "E137 | train loss: 0.030 | val loss: 0.031\n",
      "E138 | train loss: 0.030 | val loss: 0.031\n",
      "E139 | train loss: 0.030 | val loss: 0.031\n",
      "E140 | train loss: 0.030 | val loss: 0.031\n",
      "E141 | train loss: 0.030 | val loss: 0.031\n",
      "E142 | train loss: 0.030 | val loss: 0.031\n",
      "E143 | train loss: 0.030 | val loss: 0.031\n",
      "E144 | train loss: 0.030 | val loss: 0.031\n",
      "E145 | train loss: 0.030 | val loss: 0.031\n",
      "E146 | train loss: 0.030 | val loss: 0.031\n",
      "E147 | train loss: 0.030 | val loss: 0.031\n",
      "E148 | train loss: 0.030 | val loss: 0.031\n",
      "E149 | train loss: 0.030 | val loss: 0.031\n",
      "E150 | train loss: 0.030 | val loss: 0.031\n",
      "E151 | train loss: 0.030 | val loss: 0.031\n",
      "E152 | train loss: 0.030 | val loss: 0.031\n",
      "E153 | train loss: 0.030 | val loss: 0.031\n",
      "E154 | train loss: 0.030 | val loss: 0.031\n",
      "E155 | train loss: 0.030 | val loss: 0.031\n",
      "E156 | train loss: 0.030 | val loss: 0.031\n",
      "E157 | train loss: 0.030 | val loss: 0.031\n",
      "E158 | train loss: 0.030 | val loss: 0.031\n",
      "E159 | train loss: 0.030 | val loss: 0.031\n",
      "E160 | train loss: 0.030 | val loss: 0.031\n",
      "E161 | train loss: 0.030 | val loss: 0.031\n",
      "E162 | train loss: 0.030 | val loss: 0.031\n",
      "E163 | train loss: 0.030 | val loss: 0.031\n",
      "E164 | train loss: 0.030 | val loss: 0.031\n",
      "E165 | train loss: 0.030 | val loss: 0.031\n",
      "E166 | train loss: 0.030 | val loss: 0.031\n",
      "E167 | train loss: 0.030 | val loss: 0.031\n",
      "E168 | train loss: 0.030 | val loss: 0.031\n",
      "E169 | train loss: 0.030 | val loss: 0.031\n",
      "E170 | train loss: 0.030 | val loss: 0.031\n",
      "E171 | train loss: 0.030 | val loss: 0.031\n",
      "E172 | train loss: 0.030 | val loss: 0.031\n",
      "E173 | train loss: 0.030 | val loss: 0.031\n",
      "E174 | train loss: 0.030 | val loss: 0.031\n",
      "E175 | train loss: 0.030 | val loss: 0.031\n",
      "E176 | train loss: 0.030 | val loss: 0.031\n",
      "E177 | train loss: 0.030 | val loss: 0.031\n",
      "E178 | train loss: 0.030 | val loss: 0.031\n",
      "E179 | train loss: 0.030 | val loss: 0.031\n",
      "E180 | train loss: 0.030 | val loss: 0.031\n",
      "E181 | train loss: 0.030 | val loss: 0.031\n",
      "E182 | train loss: 0.030 | val loss: 0.031\n",
      "E183 | train loss: 0.030 | val loss: 0.031\n",
      "E184 | train loss: 0.030 | val loss: 0.031\n",
      "E185 | train loss: 0.030 | val loss: 0.031\n",
      "E186 | train loss: 0.030 | val loss: 0.031\n",
      "E187 | train loss: 0.030 | val loss: 0.031\n",
      "E188 | train loss: 0.030 | val loss: 0.031\n",
      "E189 | train loss: 0.030 | val loss: 0.031\n",
      "E190 | train loss: 0.030 | val loss: 0.031\n",
      "E191 | train loss: 0.030 | val loss: 0.031\n",
      "E192 | train loss: 0.030 | val loss: 0.031\n",
      "E193 | train loss: 0.030 | val loss: 0.031\n",
      "E194 | train loss: 0.030 | val loss: 0.031\n"
     ]
    },
    {
     "name": "stdout",
     "output_type": "stream",
     "text": [
      "E195 | train loss: 0.030 | val loss: 0.031\n",
      "E196 | train loss: 0.030 | val loss: 0.031\n",
      "E197 | train loss: 0.030 | val loss: 0.031\n",
      "E198 | train loss: 0.030 | val loss: 0.031\n",
      "E199 | train loss: 0.030 | val loss: 0.031\n",
      "E200 | train loss: 0.030 | val loss: 0.031\n",
      "E201 | train loss: 0.030 | val loss: 0.031\n",
      "E202 | train loss: 0.030 | val loss: 0.031\n",
      "E203 | train loss: 0.030 | val loss: 0.031\n",
      "E204 | train loss: 0.030 | val loss: 0.031\n",
      "E205 | train loss: 0.030 | val loss: 0.031\n",
      "E206 | train loss: 0.030 | val loss: 0.031\n",
      "E207 | train loss: 0.030 | val loss: 0.031\n",
      "E208 | train loss: 0.030 | val loss: 0.031\n",
      "E209 | train loss: 0.030 | val loss: 0.031\n",
      "E210 | train loss: 0.030 | val loss: 0.031\n",
      "E211 | train loss: 0.030 | val loss: 0.031\n",
      "E212 | train loss: 0.030 | val loss: 0.031\n",
      "E213 | train loss: 0.030 | val loss: 0.031\n",
      "E214 | train loss: 0.030 | val loss: 0.031\n",
      "E215 | train loss: 0.030 | val loss: 0.031\n",
      "E216 | train loss: 0.030 | val loss: 0.031\n",
      "E217 | train loss: 0.030 | val loss: 0.031\n",
      "E218 | train loss: 0.030 | val loss: 0.031\n",
      "E219 | train loss: 0.030 | val loss: 0.032\n",
      "E220 | train loss: 0.030 | val loss: 0.031\n",
      "E221 | train loss: 0.030 | val loss: 0.031\n",
      "E222 | train loss: 0.030 | val loss: 0.031\n",
      "E223 | train loss: 0.030 | val loss: 0.031\n",
      "E224 | train loss: 0.030 | val loss: 0.031\n",
      "E225 | train loss: 0.030 | val loss: 0.031\n",
      "E226 | train loss: 0.030 | val loss: 0.031\n",
      "E227 | train loss: 0.030 | val loss: 0.031\n",
      "E228 | train loss: 0.030 | val loss: 0.031\n",
      "E229 | train loss: 0.030 | val loss: 0.031\n",
      "E230 | train loss: 0.030 | val loss: 0.031\n",
      "E231 | train loss: 0.030 | val loss: 0.031\n",
      "E232 | train loss: 0.030 | val loss: 0.031\n",
      "E233 | train loss: 0.030 | val loss: 0.031\n",
      "E234 | train loss: 0.030 | val loss: 0.031\n",
      "E235 | train loss: 0.030 | val loss: 0.031\n",
      "E236 | train loss: 0.030 | val loss: 0.031\n",
      "E237 | train loss: 0.030 | val loss: 0.031\n",
      "E238 | train loss: 0.030 | val loss: 0.031\n",
      "E239 | train loss: 0.030 | val loss: 0.031\n",
      "E240 | train loss: 0.030 | val loss: 0.031\n",
      "E241 | train loss: 0.030 | val loss: 0.031\n",
      "E242 | train loss: 0.030 | val loss: 0.031\n",
      "E243 | train loss: 0.030 | val loss: 0.031\n",
      "E244 | train loss: 0.030 | val loss: 0.031\n",
      "E245 | train loss: 0.030 | val loss: 0.031\n",
      "E246 | train loss: 0.030 | val loss: 0.031\n",
      "E247 | train loss: 0.030 | val loss: 0.031\n",
      "E248 | train loss: 0.030 | val loss: 0.031\n",
      "E249 | train loss: 0.030 | val loss: 0.031\n",
      "E250 | train loss: 0.030 | val loss: 0.031\n",
      "E251 | train loss: 0.030 | val loss: 0.031\n",
      "E252 | train loss: 0.030 | val loss: 0.031\n",
      "E253 | train loss: 0.030 | val loss: 0.031\n",
      "E254 | train loss: 0.030 | val loss: 0.031\n",
      "E255 | train loss: 0.030 | val loss: 0.031\n",
      "E256 | train loss: 0.030 | val loss: 0.031\n",
      "E257 | train loss: 0.030 | val loss: 0.031\n",
      "E258 | train loss: 0.030 | val loss: 0.031\n",
      "E259 | train loss: 0.030 | val loss: 0.031\n",
      "E260 | train loss: 0.030 | val loss: 0.031\n",
      "E261 | train loss: 0.030 | val loss: 0.031\n",
      "E262 | train loss: 0.030 | val loss: 0.031\n",
      "E263 | train loss: 0.030 | val loss: 0.031\n",
      "E264 | train loss: 0.030 | val loss: 0.031\n",
      "E265 | train loss: 0.030 | val loss: 0.031\n",
      "E266 | train loss: 0.030 | val loss: 0.031\n",
      "E267 | train loss: 0.030 | val loss: 0.031\n",
      "E268 | train loss: 0.030 | val loss: 0.031\n",
      "E269 | train loss: 0.030 | val loss: 0.031\n",
      "E270 | train loss: 0.030 | val loss: 0.031\n",
      "E271 | train loss: 0.030 | val loss: 0.031\n",
      "E272 | train loss: 0.030 | val loss: 0.031\n",
      "E273 | train loss: 0.030 | val loss: 0.031\n",
      "E274 | train loss: 0.030 | val loss: 0.031\n",
      "E275 | train loss: 0.030 | val loss: 0.031\n",
      "E276 | train loss: 0.030 | val loss: 0.031\n",
      "E277 | train loss: 0.030 | val loss: 0.031\n",
      "E278 | train loss: 0.030 | val loss: 0.031\n",
      "E279 | train loss: 0.030 | val loss: 0.031\n",
      "E280 | train loss: 0.030 | val loss: 0.031\n",
      "E281 | train loss: 0.030 | val loss: 0.031\n",
      "E282 | train loss: 0.030 | val loss: 0.031\n",
      "E283 | train loss: 0.030 | val loss: 0.031\n",
      "E284 | train loss: 0.030 | val loss: 0.031\n",
      "E285 | train loss: 0.030 | val loss: 0.031\n",
      "E286 | train loss: 0.030 | val loss: 0.031\n",
      "E287 | train loss: 0.030 | val loss: 0.031\n",
      "E288 | train loss: 0.030 | val loss: 0.031\n",
      "E289 | train loss: 0.030 | val loss: 0.031\n",
      "E290 | train loss: 0.030 | val loss: 0.031\n",
      "E291 | train loss: 0.030 | val loss: 0.031\n",
      "E292 | train loss: 0.030 | val loss: 0.031\n",
      "E293 | train loss: 0.030 | val loss: 0.031\n",
      "E294 | train loss: 0.030 | val loss: 0.031\n",
      "E295 | train loss: 0.030 | val loss: 0.031\n",
      "E296 | train loss: 0.030 | val loss: 0.031\n",
      "E297 | train loss: 0.030 | val loss: 0.031\n",
      "E298 | train loss: 0.030 | val loss: 0.031\n",
      "E299 | train loss: 0.030 | val loss: 0.031\n"
     ]
    }
   ],
   "source": [
    "# get the sequence length from the first seq in the df\n",
    "seq_len = len(train_df['seq'].values[0])\n",
    "\n",
    "# create Linear model object\n",
    "model_lin = DNA_Linear(seq_len)\n",
    "model_lin.to(DEVICE) # put on GPU\n",
    "\n",
    "# run the model with default settings!\n",
    "lin_train_losses, lin_val_losses = run_model(\n",
    "    train_dl, \n",
    "    val_dl, \n",
    "    model_lin,\n",
    "    DEVICE,\n",
    "    lossf = FocalLoss(),\n",
    "    opt = torch.optim.AdamW\n",
    ")"
   ]
  },
  {
   "cell_type": "code",
   "execution_count": null,
   "id": "74951af3",
   "metadata": {},
   "outputs": [],
   "source": []
  },
  {
   "cell_type": "code",
   "execution_count": 91,
   "id": "5b4c00d3",
   "metadata": {},
   "outputs": [],
   "source": [
    "def quick_loss_plot(data_label_list,loss_type=\"BCE Loss\",sparse_n=0):\n",
    "    '''\n",
    "    For each train/test loss trajectory, plot loss by epoch\n",
    "    '''\n",
    "    for i,(train_data,test_data,label) in enumerate(data_label_list):    \n",
    "        plt.plot(train_data,linestyle='--',color=f\"C{i}\", label=f\"{label} Train\")\n",
    "        plt.plot(test_data,color=f\"C{i}\", label=f\"{label} Val\",linewidth=3.0)\n",
    "\n",
    "    plt.legend()\n",
    "    plt.ylabel(loss_type)\n",
    "    plt.xlabel(\"Epoch\")\n",
    "    plt.legend(bbox_to_anchor=(1,1),loc='upper left')\n",
    "    plt.show()"
   ]
  },
  {
   "cell_type": "code",
   "execution_count": 119,
   "id": "3421d6e7",
   "metadata": {},
   "outputs": [
    {
     "data": {
      "image/png": "[encoded data removed]",
      "text/plain": [
       "<Figure size 432x288 with 1 Axes>"
      ]
     },
     "metadata": {
      "needs_background": "light"
     },
     "output_type": "display_data"
    }
   ],
   "source": [
    "lin_data_label = (lin_train_losses,lin_val_losses,\"Lin\")\n",
    "quick_loss_plot([lin_data_label])"
   ]
  },
  {
   "cell_type": "markdown",
   "id": "83718283",
   "metadata": {},
   "source": [
    "### Запускаем Модель Model_cnn"
   ]
  },
  {
   "cell_type": "code",
   "execution_count": 94,
   "id": "b741691e",
   "metadata": {},
   "outputs": [
    {
     "data": {
      "application/vnd.jupyter.widget-view+json": {
       "model_id": "4a9650fb23454dd4be72e951423ef241",
       "version_major": 2,
       "version_minor": 0
      },
      "text/plain": [
       "  0%|          | 0/100 [00:00<?, ?it/s]"
      ]
     },
     "metadata": {},
     "output_type": "display_data"
    },
    {
     "name": "stdout",
     "output_type": "stream",
     "text": [
      "E0 | train loss: 0.041 | val loss: 0.041\n",
      "E1 | train loss: 0.041 | val loss: 0.041\n",
      "E2 | train loss: 0.041 | val loss: 0.041\n",
      "E3 | train loss: 0.041 | val loss: 0.041\n",
      "E4 | train loss: 0.041 | val loss: 0.041\n",
      "E5 | train loss: 0.041 | val loss: 0.041\n",
      "E6 | train loss: 0.041 | val loss: 0.041\n",
      "E7 | train loss: 0.041 | val loss: 0.041\n",
      "E8 | train loss: 0.041 | val loss: 0.041\n",
      "E9 | train loss: 0.041 | val loss: 0.041\n",
      "E10 | train loss: 0.041 | val loss: 0.041\n",
      "E11 | train loss: 0.041 | val loss: 0.041\n",
      "E12 | train loss: 0.041 | val loss: 0.041\n",
      "E13 | train loss: 0.041 | val loss: 0.041\n",
      "E14 | train loss: 0.041 | val loss: 0.041\n",
      "E15 | train loss: 0.041 | val loss: 0.041\n",
      "E16 | train loss: 0.041 | val loss: 0.041\n",
      "E17 | train loss: 0.041 | val loss: 0.041\n",
      "E18 | train loss: 0.041 | val loss: 0.041\n",
      "E19 | train loss: 0.041 | val loss: 0.041\n",
      "E20 | train loss: 0.041 | val loss: 0.041\n",
      "E21 | train loss: 0.041 | val loss: 0.041\n",
      "E22 | train loss: 0.041 | val loss: 0.041\n",
      "E23 | train loss: 0.041 | val loss: 0.041\n",
      "E24 | train loss: 0.041 | val loss: 0.041\n",
      "E25 | train loss: 0.041 | val loss: 0.041\n",
      "E26 | train loss: 0.041 | val loss: 0.041\n",
      "E27 | train loss: 0.041 | val loss: 0.041\n",
      "E28 | train loss: 0.041 | val loss: 0.041\n",
      "E29 | train loss: 0.041 | val loss: 0.041\n",
      "E30 | train loss: 0.041 | val loss: 0.041\n",
      "E31 | train loss: 0.041 | val loss: 0.041\n",
      "E32 | train loss: 0.041 | val loss: 0.041\n",
      "E33 | train loss: 0.041 | val loss: 0.041\n",
      "E34 | train loss: 0.041 | val loss: 0.041\n",
      "E35 | train loss: 0.041 | val loss: 0.041\n",
      "E36 | train loss: 0.041 | val loss: 0.041\n",
      "E37 | train loss: 0.041 | val loss: 0.041\n",
      "E38 | train loss: 0.041 | val loss: 0.041\n",
      "E39 | train loss: 0.041 | val loss: 0.041\n",
      "E40 | train loss: 0.041 | val loss: 0.041\n",
      "E41 | train loss: 0.041 | val loss: 0.041\n",
      "E42 | train loss: 0.041 | val loss: 0.041\n",
      "E43 | train loss: 0.041 | val loss: 0.041\n",
      "E44 | train loss: 0.041 | val loss: 0.041\n",
      "E45 | train loss: 0.041 | val loss: 0.041\n",
      "E46 | train loss: 0.041 | val loss: 0.041\n",
      "E47 | train loss: 0.041 | val loss: 0.041\n",
      "E48 | train loss: 0.041 | val loss: 0.041\n",
      "E49 | train loss: 0.041 | val loss: 0.041\n",
      "E50 | train loss: 0.041 | val loss: 0.041\n",
      "E51 | train loss: 0.041 | val loss: 0.041\n",
      "E52 | train loss: 0.041 | val loss: 0.041\n",
      "E53 | train loss: 0.041 | val loss: 0.041\n",
      "E54 | train loss: 0.041 | val loss: 0.041\n",
      "E55 | train loss: 0.041 | val loss: 0.041\n",
      "E56 | train loss: 0.041 | val loss: 0.041\n",
      "E57 | train loss: 0.041 | val loss: 0.041\n",
      "E58 | train loss: 0.041 | val loss: 0.041\n",
      "E59 | train loss: 0.041 | val loss: 0.041\n",
      "E60 | train loss: 0.041 | val loss: 0.041\n",
      "E61 | train loss: 0.041 | val loss: 0.041\n",
      "E62 | train loss: 0.041 | val loss: 0.041\n",
      "E63 | train loss: 0.041 | val loss: 0.041\n",
      "E64 | train loss: 0.041 | val loss: 0.041\n",
      "E65 | train loss: 0.041 | val loss: 0.041\n",
      "E66 | train loss: 0.041 | val loss: 0.041\n",
      "E67 | train loss: 0.041 | val loss: 0.041\n",
      "E68 | train loss: 0.041 | val loss: 0.041\n",
      "E69 | train loss: 0.041 | val loss: 0.041\n",
      "E70 | train loss: 0.041 | val loss: 0.041\n",
      "E71 | train loss: 0.041 | val loss: 0.041\n",
      "E72 | train loss: 0.041 | val loss: 0.041\n",
      "E73 | train loss: 0.041 | val loss: 0.041\n",
      "E74 | train loss: 0.041 | val loss: 0.041\n",
      "E75 | train loss: 0.041 | val loss: 0.041\n",
      "E76 | train loss: 0.041 | val loss: 0.041\n",
      "E77 | train loss: 0.041 | val loss: 0.041\n",
      "E78 | train loss: 0.041 | val loss: 0.041\n",
      "E79 | train loss: 0.041 | val loss: 0.041\n",
      "E80 | train loss: 0.041 | val loss: 0.041\n",
      "E81 | train loss: 0.041 | val loss: 0.041\n",
      "E82 | train loss: 0.041 | val loss: 0.041\n",
      "E83 | train loss: 0.041 | val loss: 0.041\n",
      "E84 | train loss: 0.041 | val loss: 0.041\n",
      "E85 | train loss: 0.041 | val loss: 0.041\n",
      "E86 | train loss: 0.041 | val loss: 0.041\n",
      "E87 | train loss: 0.041 | val loss: 0.041\n",
      "E88 | train loss: 0.041 | val loss: 0.041\n",
      "E89 | train loss: 0.041 | val loss: 0.041\n",
      "E90 | train loss: 0.041 | val loss: 0.041\n",
      "E91 | train loss: 0.041 | val loss: 0.041\n",
      "E92 | train loss: 0.041 | val loss: 0.041\n",
      "E93 | train loss: 0.041 | val loss: 0.041\n",
      "E94 | train loss: 0.041 | val loss: 0.041\n",
      "E95 | train loss: 0.041 | val loss: 0.041\n",
      "E96 | train loss: 0.041 | val loss: 0.041\n",
      "E97 | train loss: 0.041 | val loss: 0.041\n",
      "E98 | train loss: 0.041 | val loss: 0.041\n",
      "E99 | train loss: 0.041 | val loss: 0.041\n"
     ]
    }
   ],
   "source": [
    "seq_len = len(train_df['seq'].values[0])\n",
    "\n",
    "# create Linear model object\n",
    "model_cnn = DNA_CNN(seq_len)\n",
    "model_cnn.to(DEVICE) # put on GPU\n",
    "\n",
    "# run the model with default settings!\n",
    "cnn_train_losses, cnn_val_losses = run_model(\n",
    "    train_dl, \n",
    "    val_dl, \n",
    "    model_cnn,\n",
    "    DEVICE,\n",
    "    lossf = FocalLoss(),\n",
    "    opt = torch.optim.AdamW\n",
    ")"
   ]
  },
  {
   "cell_type": "code",
   "execution_count": 128,
   "id": "71498c84",
   "metadata": {},
   "outputs": [
    {
     "name": "stdout",
     "output_type": "stream",
     "text": [
      "torch.Size([128, 23, 4]) torch.Size([128, 1])\n"
     ]
    },
    {
     "data": {
      "text/plain": [
       "(874, 10)"
      ]
     },
     "execution_count": 128,
     "metadata": {},
     "output_type": "execute_result"
    }
   ],
   "source": [
    "for x,y in train_dl:\n",
    "    print(x.shape,y.shape)\n",
    "    break\n",
    "test_df[test_df[\"binary\"] == 0].shape"
   ]
  },
  {
   "cell_type": "code",
   "execution_count": 120,
   "id": "abbe712b",
   "metadata": {},
   "outputs": [
    {
     "data": {
      "application/vnd.jupyter.widget-view+json": {
       "model_id": "5b2dd047b9f84a7a8b60d50a21c2e0c7",
       "version_major": 2,
       "version_minor": 0
      },
      "text/plain": [
       "  0%|          | 0/300 [00:00<?, ?it/s]"
      ]
     },
     "metadata": {},
     "output_type": "display_data"
    },
    {
     "name": "stdout",
     "output_type": "stream",
     "text": [
      "E0 | train loss: 0.033 | val loss: 0.032\n",
      "E1 | train loss: 0.031 | val loss: 0.033\n",
      "E2 | train loss: 0.030 | val loss: 0.031\n",
      "E3 | train loss: 0.029 | val loss: 0.030\n",
      "E4 | train loss: 0.029 | val loss: 0.031\n",
      "E5 | train loss: 0.029 | val loss: 0.038\n",
      "E6 | train loss: 0.029 | val loss: 0.029\n",
      "E7 | train loss: 0.028 | val loss: 0.029\n",
      "E8 | train loss: 0.028 | val loss: 0.030\n",
      "E9 | train loss: 0.028 | val loss: 0.030\n",
      "E10 | train loss: 0.027 | val loss: 0.029\n",
      "E11 | train loss: 0.027 | val loss: 0.030\n",
      "E12 | train loss: 0.027 | val loss: 0.030\n",
      "E13 | train loss: 0.027 | val loss: 0.030\n",
      "E14 | train loss: 0.027 | val loss: 0.030\n",
      "E15 | train loss: 0.027 | val loss: 0.030\n",
      "E16 | train loss: 0.027 | val loss: 0.030\n",
      "E17 | train loss: 0.027 | val loss: 0.030\n",
      "E18 | train loss: 0.027 | val loss: 0.030\n",
      "E19 | train loss: 0.027 | val loss: 0.029\n",
      "E20 | train loss: 0.027 | val loss: 0.029\n",
      "E21 | train loss: 0.026 | val loss: 0.030\n",
      "E22 | train loss: 0.026 | val loss: 0.030\n",
      "E23 | train loss: 0.026 | val loss: 0.029\n",
      "E24 | train loss: 0.026 | val loss: 0.030\n",
      "E25 | train loss: 0.026 | val loss: 0.030\n",
      "E26 | train loss: 0.026 | val loss: 0.030\n",
      "E27 | train loss: 0.026 | val loss: 0.030\n",
      "E28 | train loss: 0.026 | val loss: 0.030\n",
      "E29 | train loss: 0.026 | val loss: 0.030\n",
      "E30 | train loss: 0.026 | val loss: 0.030\n",
      "E31 | train loss: 0.026 | val loss: 0.030\n",
      "E32 | train loss: 0.026 | val loss: 0.030\n",
      "E33 | train loss: 0.026 | val loss: 0.030\n",
      "E34 | train loss: 0.026 | val loss: 0.030\n",
      "E35 | train loss: 0.026 | val loss: 0.030\n",
      "E36 | train loss: 0.026 | val loss: 0.031\n",
      "E37 | train loss: 0.026 | val loss: 0.030\n",
      "E38 | train loss: 0.026 | val loss: 0.030\n",
      "E39 | train loss: 0.026 | val loss: 0.030\n",
      "E40 | train loss: 0.026 | val loss: 0.030\n",
      "E41 | train loss: 0.026 | val loss: 0.030\n",
      "E42 | train loss: 0.026 | val loss: 0.030\n",
      "E43 | train loss: 0.025 | val loss: 0.030\n",
      "E44 | train loss: 0.025 | val loss: 0.030\n",
      "E45 | train loss: 0.025 | val loss: 0.030\n",
      "E46 | train loss: 0.025 | val loss: 0.030\n",
      "E47 | train loss: 0.025 | val loss: 0.030\n",
      "E48 | train loss: 0.026 | val loss: 0.031\n",
      "E49 | train loss: 0.026 | val loss: 0.030\n",
      "E50 | train loss: 0.025 | val loss: 0.030\n",
      "E51 | train loss: 0.025 | val loss: 0.029\n",
      "E52 | train loss: 0.025 | val loss: 0.030\n",
      "E53 | train loss: 0.025 | val loss: 0.029\n",
      "E54 | train loss: 0.025 | val loss: 0.030\n",
      "E55 | train loss: 0.026 | val loss: 0.031\n",
      "E56 | train loss: 0.025 | val loss: 0.030\n",
      "E57 | train loss: 0.025 | val loss: 0.030\n",
      "E58 | train loss: 0.025 | val loss: 0.030\n",
      "E59 | train loss: 0.025 | val loss: 0.030\n",
      "E60 | train loss: 0.025 | val loss: 0.030\n",
      "E61 | train loss: 0.025 | val loss: 0.030\n",
      "E62 | train loss: 0.025 | val loss: 0.030\n",
      "E63 | train loss: 0.026 | val loss: 0.030\n",
      "E64 | train loss: 0.025 | val loss: 0.030\n",
      "E65 | train loss: 0.025 | val loss: 0.031\n",
      "E66 | train loss: 0.025 | val loss: 0.030\n",
      "E67 | train loss: 0.025 | val loss: 0.029\n",
      "E68 | train loss: 0.025 | val loss: 0.030\n",
      "E69 | train loss: 0.025 | val loss: 0.030\n",
      "E70 | train loss: 0.025 | val loss: 0.029\n",
      "E71 | train loss: 0.025 | val loss: 0.030\n",
      "E72 | train loss: 0.025 | val loss: 0.030\n",
      "E73 | train loss: 0.025 | val loss: 0.030\n",
      "E74 | train loss: 0.025 | val loss: 0.030\n",
      "E75 | train loss: 0.025 | val loss: 0.031\n",
      "E76 | train loss: 0.025 | val loss: 0.030\n",
      "E77 | train loss: 0.025 | val loss: 0.030\n",
      "E78 | train loss: 0.025 | val loss: 0.030\n",
      "E79 | train loss: 0.025 | val loss: 0.030\n",
      "E80 | train loss: 0.025 | val loss: 0.031\n",
      "E81 | train loss: 0.025 | val loss: 0.031\n",
      "E82 | train loss: 0.025 | val loss: 0.030\n",
      "E83 | train loss: 0.025 | val loss: 0.030\n",
      "E84 | train loss: 0.025 | val loss: 0.030\n",
      "E85 | train loss: 0.025 | val loss: 0.031\n",
      "E86 | train loss: 0.025 | val loss: 0.031\n",
      "E87 | train loss: 0.024 | val loss: 0.032\n",
      "E88 | train loss: 0.025 | val loss: 0.030\n",
      "E89 | train loss: 0.025 | val loss: 0.030\n",
      "E90 | train loss: 0.024 | val loss: 0.030\n",
      "E91 | train loss: 0.025 | val loss: 0.030\n",
      "E92 | train loss: 0.025 | val loss: 0.030\n",
      "E93 | train loss: 0.025 | val loss: 0.030\n",
      "E94 | train loss: 0.025 | val loss: 0.031\n",
      "E95 | train loss: 0.025 | val loss: 0.031\n",
      "E96 | train loss: 0.025 | val loss: 0.030\n",
      "E97 | train loss: 0.025 | val loss: 0.030\n",
      "E98 | train loss: 0.025 | val loss: 0.030\n",
      "E99 | train loss: 0.025 | val loss: 0.030\n",
      "E100 | train loss: 0.025 | val loss: 0.030\n",
      "E101 | train loss: 0.024 | val loss: 0.031\n",
      "E102 | train loss: 0.024 | val loss: 0.030\n",
      "E103 | train loss: 0.024 | val loss: 0.030\n",
      "E104 | train loss: 0.024 | val loss: 0.030\n",
      "E105 | train loss: 0.025 | val loss: 0.030\n",
      "E106 | train loss: 0.025 | val loss: 0.030\n",
      "E107 | train loss: 0.025 | val loss: 0.030\n",
      "E108 | train loss: 0.024 | val loss: 0.030\n",
      "E109 | train loss: 0.024 | val loss: 0.030\n",
      "E110 | train loss: 0.024 | val loss: 0.033\n",
      "E111 | train loss: 0.024 | val loss: 0.031\n",
      "E112 | train loss: 0.024 | val loss: 0.030\n",
      "E113 | train loss: 0.024 | val loss: 0.030\n",
      "E114 | train loss: 0.024 | val loss: 0.031\n",
      "E115 | train loss: 0.024 | val loss: 0.030\n",
      "E116 | train loss: 0.024 | val loss: 0.030\n",
      "E117 | train loss: 0.025 | val loss: 0.031\n",
      "E118 | train loss: 0.025 | val loss: 0.029\n",
      "E119 | train loss: 0.024 | val loss: 0.031\n",
      "E120 | train loss: 0.025 | val loss: 0.030\n",
      "E121 | train loss: 0.025 | val loss: 0.030\n",
      "E122 | train loss: 0.024 | val loss: 0.030\n",
      "E123 | train loss: 0.025 | val loss: 0.031\n",
      "E124 | train loss: 0.024 | val loss: 0.029\n",
      "E125 | train loss: 0.024 | val loss: 0.030\n",
      "E126 | train loss: 0.025 | val loss: 0.030\n",
      "E127 | train loss: 0.024 | val loss: 0.031\n",
      "E128 | train loss: 0.025 | val loss: 0.031\n",
      "E129 | train loss: 0.025 | val loss: 0.031\n",
      "E130 | train loss: 0.024 | val loss: 0.031\n",
      "E131 | train loss: 0.024 | val loss: 0.030\n",
      "E132 | train loss: 0.024 | val loss: 0.032\n",
      "E133 | train loss: 0.024 | val loss: 0.030\n",
      "E134 | train loss: 0.024 | val loss: 0.031\n",
      "E135 | train loss: 0.024 | val loss: 0.032\n",
      "E136 | train loss: 0.024 | val loss: 0.030\n",
      "E137 | train loss: 0.024 | val loss: 0.030\n",
      "E138 | train loss: 0.024 | val loss: 0.030\n",
      "E139 | train loss: 0.024 | val loss: 0.030\n",
      "E140 | train loss: 0.024 | val loss: 0.030\n",
      "E141 | train loss: 0.024 | val loss: 0.031\n",
      "E142 | train loss: 0.024 | val loss: 0.031\n",
      "E143 | train loss: 0.024 | val loss: 0.030\n",
      "E144 | train loss: 0.024 | val loss: 0.030\n",
      "E145 | train loss: 0.024 | val loss: 0.029\n",
      "E146 | train loss: 0.023 | val loss: 0.030\n",
      "E147 | train loss: 0.023 | val loss: 0.030\n",
      "E148 | train loss: 0.024 | val loss: 0.030\n",
      "E149 | train loss: 0.024 | val loss: 0.031\n",
      "E150 | train loss: 0.024 | val loss: 0.030\n",
      "E151 | train loss: 0.024 | val loss: 0.030\n",
      "E152 | train loss: 0.024 | val loss: 0.030\n",
      "E153 | train loss: 0.024 | val loss: 0.030\n",
      "E154 | train loss: 0.024 | val loss: 0.030\n",
      "E155 | train loss: 0.024 | val loss: 0.030\n",
      "E156 | train loss: 0.024 | val loss: 0.030\n",
      "E157 | train loss: 0.024 | val loss: 0.031\n",
      "E158 | train loss: 0.024 | val loss: 0.030\n",
      "E159 | train loss: 0.024 | val loss: 0.031\n",
      "E160 | train loss: 0.024 | val loss: 0.029\n",
      "E161 | train loss: 0.024 | val loss: 0.029\n",
      "E162 | train loss: 0.024 | val loss: 0.031\n",
      "E163 | train loss: 0.024 | val loss: 0.030\n",
      "E164 | train loss: 0.024 | val loss: 0.030\n",
      "E165 | train loss: 0.024 | val loss: 0.030\n",
      "E166 | train loss: 0.024 | val loss: 0.030\n",
      "E167 | train loss: 0.024 | val loss: 0.032\n",
      "E168 | train loss: 0.024 | val loss: 0.029\n",
      "E169 | train loss: 0.024 | val loss: 0.030\n",
      "E170 | train loss: 0.024 | val loss: 0.030\n",
      "E171 | train loss: 0.024 | val loss: 0.030\n",
      "E172 | train loss: 0.024 | val loss: 0.031\n",
      "E173 | train loss: 0.024 | val loss: 0.030\n",
      "E174 | train loss: 0.025 | val loss: 0.030\n",
      "E175 | train loss: 0.024 | val loss: 0.030\n",
      "E176 | train loss: 0.024 | val loss: 0.031\n",
      "E177 | train loss: 0.024 | val loss: 0.030\n",
      "E178 | train loss: 0.024 | val loss: 0.030\n",
      "E179 | train loss: 0.024 | val loss: 0.033\n",
      "E180 | train loss: 0.024 | val loss: 0.030\n",
      "E181 | train loss: 0.024 | val loss: 0.030\n",
      "E182 | train loss: 0.024 | val loss: 0.031\n",
      "E183 | train loss: 0.024 | val loss: 0.030\n",
      "E184 | train loss: 0.025 | val loss: 0.030\n",
      "E185 | train loss: 0.024 | val loss: 0.030\n",
      "E186 | train loss: 0.024 | val loss: 0.031\n",
      "E187 | train loss: 0.025 | val loss: 0.030\n",
      "E188 | train loss: 0.024 | val loss: 0.031\n",
      "E189 | train loss: 0.024 | val loss: 0.030\n",
      "E190 | train loss: 0.024 | val loss: 0.030\n",
      "E191 | train loss: 0.024 | val loss: 0.030\n",
      "E192 | train loss: 0.024 | val loss: 0.030\n",
      "E193 | train loss: 0.025 | val loss: 0.030\n"
     ]
    },
    {
     "name": "stdout",
     "output_type": "stream",
     "text": [
      "E194 | train loss: 0.025 | val loss: 0.031\n",
      "E195 | train loss: 0.024 | val loss: 0.031\n",
      "E196 | train loss: 0.024 | val loss: 0.030\n",
      "E197 | train loss: 0.024 | val loss: 0.030\n",
      "E198 | train loss: 0.024 | val loss: 0.030\n",
      "E199 | train loss: 0.024 | val loss: 0.030\n",
      "E200 | train loss: 0.024 | val loss: 0.030\n",
      "E201 | train loss: 0.024 | val loss: 0.033\n",
      "E202 | train loss: 0.024 | val loss: 0.030\n",
      "E203 | train loss: 0.024 | val loss: 0.030\n",
      "E204 | train loss: 0.024 | val loss: 0.031\n",
      "E205 | train loss: 0.024 | val loss: 0.030\n",
      "E206 | train loss: 0.024 | val loss: 0.032\n",
      "E207 | train loss: 0.024 | val loss: 0.033\n",
      "E208 | train loss: 0.024 | val loss: 0.031\n",
      "E209 | train loss: 0.024 | val loss: 0.030\n",
      "E210 | train loss: 0.024 | val loss: 0.030\n",
      "E211 | train loss: 0.023 | val loss: 0.030\n",
      "E212 | train loss: 0.023 | val loss: 0.031\n",
      "E213 | train loss: 0.024 | val loss: 0.031\n",
      "E214 | train loss: 0.024 | val loss: 0.031\n",
      "E215 | train loss: 0.024 | val loss: 0.030\n",
      "E216 | train loss: 0.024 | val loss: 0.030\n",
      "E217 | train loss: 0.024 | val loss: 0.030\n",
      "E218 | train loss: 0.024 | val loss: 0.030\n",
      "E219 | train loss: 0.024 | val loss: 0.031\n",
      "E220 | train loss: 0.024 | val loss: 0.029\n",
      "E221 | train loss: 0.024 | val loss: 0.030\n",
      "E222 | train loss: 0.024 | val loss: 0.029\n",
      "E223 | train loss: 0.024 | val loss: 0.029\n",
      "E224 | train loss: 0.024 | val loss: 0.030\n",
      "E225 | train loss: 0.024 | val loss: 0.030\n",
      "E226 | train loss: 0.023 | val loss: 0.030\n",
      "E227 | train loss: 0.024 | val loss: 0.030\n",
      "E228 | train loss: 0.023 | val loss: 0.031\n",
      "E229 | train loss: 0.024 | val loss: 0.031\n",
      "E230 | train loss: 0.023 | val loss: 0.030\n",
      "E231 | train loss: 0.024 | val loss: 0.030\n",
      "E232 | train loss: 0.023 | val loss: 0.032\n",
      "E233 | train loss: 0.023 | val loss: 0.031\n",
      "E234 | train loss: 0.023 | val loss: 0.030\n",
      "E235 | train loss: 0.024 | val loss: 0.030\n",
      "E236 | train loss: 0.024 | val loss: 0.030\n",
      "E237 | train loss: 0.024 | val loss: 0.030\n",
      "E238 | train loss: 0.024 | val loss: 0.030\n",
      "E239 | train loss: 0.024 | val loss: 0.032\n",
      "E240 | train loss: 0.024 | val loss: 0.033\n",
      "E241 | train loss: 0.024 | val loss: 0.031\n",
      "E242 | train loss: 0.024 | val loss: 0.030\n",
      "E243 | train loss: 0.023 | val loss: 0.032\n",
      "E244 | train loss: 0.023 | val loss: 0.030\n",
      "E245 | train loss: 0.024 | val loss: 0.030\n",
      "E246 | train loss: 0.024 | val loss: 0.031\n",
      "E247 | train loss: 0.023 | val loss: 0.030\n",
      "E248 | train loss: 0.024 | val loss: 0.030\n",
      "E249 | train loss: 0.024 | val loss: 0.030\n",
      "E250 | train loss: 0.024 | val loss: 0.030\n",
      "E251 | train loss: 0.024 | val loss: 0.031\n",
      "E252 | train loss: 0.024 | val loss: 0.031\n",
      "E253 | train loss: 0.024 | val loss: 0.031\n",
      "E254 | train loss: 0.024 | val loss: 0.031\n",
      "E255 | train loss: 0.024 | val loss: 0.032\n",
      "E256 | train loss: 0.023 | val loss: 0.030\n",
      "E257 | train loss: 0.023 | val loss: 0.032\n",
      "E258 | train loss: 0.024 | val loss: 0.030\n",
      "E259 | train loss: 0.023 | val loss: 0.030\n",
      "E260 | train loss: 0.024 | val loss: 0.033\n",
      "E261 | train loss: 0.023 | val loss: 0.030\n",
      "E262 | train loss: 0.024 | val loss: 0.030\n",
      "E263 | train loss: 0.024 | val loss: 0.030\n",
      "E264 | train loss: 0.024 | val loss: 0.030\n",
      "E265 | train loss: 0.024 | val loss: 0.030\n",
      "E266 | train loss: 0.024 | val loss: 0.030\n",
      "E267 | train loss: 0.024 | val loss: 0.032\n",
      "E268 | train loss: 0.024 | val loss: 0.030\n",
      "E269 | train loss: 0.023 | val loss: 0.031\n",
      "E270 | train loss: 0.024 | val loss: 0.030\n",
      "E271 | train loss: 0.024 | val loss: 0.032\n",
      "E272 | train loss: 0.024 | val loss: 0.033\n",
      "E273 | train loss: 0.024 | val loss: 0.029\n",
      "E274 | train loss: 0.025 | val loss: 0.031\n",
      "E275 | train loss: 0.024 | val loss: 0.030\n",
      "E276 | train loss: 0.024 | val loss: 0.031\n",
      "E277 | train loss: 0.024 | val loss: 0.030\n",
      "E278 | train loss: 0.024 | val loss: 0.030\n",
      "E279 | train loss: 0.024 | val loss: 0.031\n",
      "E280 | train loss: 0.024 | val loss: 0.030\n",
      "E281 | train loss: 0.024 | val loss: 0.030\n",
      "E282 | train loss: 0.024 | val loss: 0.031\n",
      "E283 | train loss: 0.024 | val loss: 0.030\n",
      "E284 | train loss: 0.024 | val loss: 0.031\n",
      "E285 | train loss: 0.024 | val loss: 0.030\n",
      "E286 | train loss: 0.024 | val loss: 0.030\n",
      "E287 | train loss: 0.024 | val loss: 0.030\n",
      "E288 | train loss: 0.024 | val loss: 0.030\n",
      "E289 | train loss: 0.023 | val loss: 0.032\n",
      "E290 | train loss: 0.023 | val loss: 0.030\n",
      "E291 | train loss: 0.023 | val loss: 0.030\n",
      "E292 | train loss: 0.024 | val loss: 0.031\n",
      "E293 | train loss: 0.024 | val loss: 0.030\n",
      "E294 | train loss: 0.024 | val loss: 0.033\n",
      "E295 | train loss: 0.024 | val loss: 0.030\n",
      "E296 | train loss: 0.024 | val loss: 0.031\n",
      "E297 | train loss: 0.024 | val loss: 0.030\n",
      "E298 | train loss: 0.024 | val loss: 0.031\n",
      "E299 | train loss: 0.023 | val loss: 0.029\n"
     ]
    }
   ],
   "source": [
    "seq_len = len(train_df['seq'].values[0])\n",
    "\n",
    "# create Linear model object\n",
    "model_cnn = small_cnn(seq_len)\n",
    "model_cnn.to(DEVICE) # put on GPU\n",
    "\n",
    "# run the model with default settings!\n",
    "cnn_train_losses, cnn_val_losses = run_model(\n",
    "    train_dl, \n",
    "    val_dl, \n",
    "    model_cnn,\n",
    "    DEVICE,\n",
    "    lossf = FocalLoss(),\n",
    "    opt = torch.optim.AdamW\n",
    ")"
   ]
  },
  {
   "cell_type": "code",
   "execution_count": 121,
   "id": "8a640cab",
   "metadata": {},
   "outputs": [
    {
     "data": {
      "image/png": "[encoded data removed]",
      "text/plain": [
       "<Figure size 432x288 with 1 Axes>"
      ]
     },
     "metadata": {
      "needs_background": "light"
     },
     "output_type": "display_data"
    }
   ],
   "source": [
    "cnn_data_label = (cnn_train_losses,cnn_val_losses,\"CNN\")\n",
    "quick_loss_plot([lin_data_label,cnn_data_label])"
   ]
  },
  {
   "cell_type": "code",
   "execution_count": 101,
   "id": "8e39990b",
   "metadata": {},
   "outputs": [],
   "source": [
    "def quick_seq_pred(model, seqs, oracle):\n",
    "    '''\n",
    "    Given a model and some sequences, get the model's predictions\n",
    "    for those sequences and compare to the oracle (true) output\n",
    "    \n",
    "    '''\n",
    "    \n",
    "    df = pd.DataFrame(data = {'seq': [], 'pred': [], 'actual': []})\n",
    "    \n",
    "    for dna in seqs:\n",
    "        s = torch.tensor(one_hot_encode(dna)).unsqueeze(0).to(DEVICE)# One_Hot_Encode\n",
    "        \n",
    "        pred = model(s.float()) # model predicted value\n",
    "        \n",
    "        actual = oracle[dna] # actual value\n",
    "        \n",
    "        df = df.append({'seq': dna, 'pred': pred.item(), 'actual': actual}, ignore_index = True)\n",
    "    return df\n",
    "    "
   ]
  },
  {
   "cell_type": "code",
   "execution_count": 102,
   "id": "cde30ee4",
   "metadata": {},
   "outputs": [],
   "source": [
    "def graph_roc(df,model):\n",
    "    y_true=df[\"actual\"]\n",
    "    y_score=df[\"pred\"]\n",
    "\n",
    "    fpr, tpr, treshold = roc_curve(y_true, y_score)\n",
    "    auc_score = roc_auc_score(y_true, y_score)\n",
    "    roc_auc = auc(fpr, tpr)\n",
    "\n",
    "    print(\"roc_auc_scor: \",auc_score)\n",
    "    plt.plot(fpr, tpr, color='darkorange',\n",
    "         label='ROC кривая (area = %0.2f)' % roc_auc)\n",
    "    plt.plot([0, 1], [0, 1], color='navy', linestyle='--')\n",
    "    plt.xlim([0.0, 1.0])\n",
    "    plt.ylim([0.0, 1.05])\n",
    "    plt.xlabel('False Positive Rate')\n",
    "    plt.ylabel('True Positive Rate')\n",
    "    plt.title(f'ROC-кривая {model}')\n",
    "    plt.legend(loc=\"lower right\")\n",
    "    plt.show()"
   ]
  },
  {
   "cell_type": "markdown",
   "id": "3c0f3580",
   "metadata": {},
   "source": [
    "### ROC_AUC на валидации linear"
   ]
  },
  {
   "cell_type": "code",
   "execution_count": 103,
   "id": "598827aa",
   "metadata": {},
   "outputs": [],
   "source": [
    "oracle = dict(val_df[['seq','binary']].values)\n",
    "\n",
    "\n",
    "df1 = quick_seq_pred(model_lin, oracle.keys(), oracle)"
   ]
  },
  {
   "cell_type": "code",
   "execution_count": 104,
   "id": "354a5c37",
   "metadata": {},
   "outputs": [
    {
     "name": "stdout",
     "output_type": "stream",
     "text": [
      "roc_auc_scor:  0.8538096138096138\n"
     ]
    },
    {
     "data": {
      "image/png": "[encoded data removed]",
      "text/plain": [
       "<Figure size 432x288 with 1 Axes>"
      ]
     },
     "metadata": {
      "needs_background": "light"
     },
     "output_type": "display_data"
    }
   ],
   "source": [
    "graph_roc(df1,\"model_lin_val\")"
   ]
  },
  {
   "cell_type": "markdown",
   "id": "68c0ae7a",
   "metadata": {},
   "source": [
    "### ROC_AUC на тесте linear"
   ]
  },
  {
   "cell_type": "code",
   "execution_count": 105,
   "id": "8fbc816e",
   "metadata": {},
   "outputs": [],
   "source": [
    "oracle = dict(test_df[['seq','binary']].values)\n",
    "\n",
    "df2 = quick_seq_pred(model_lin, oracle.keys(), oracle)"
   ]
  },
  {
   "cell_type": "code",
   "execution_count": 106,
   "id": "2ee60d3d",
   "metadata": {},
   "outputs": [
    {
     "name": "stdout",
     "output_type": "stream",
     "text": [
      "roc_auc_scor:  0.8769234073460844\n"
     ]
    },
    {
     "data": {
      "image/png": "[encoded data removed]",
      "text/plain": [
       "<Figure size 432x288 with 1 Axes>"
      ]
     },
     "metadata": {
      "needs_background": "light"
     },
     "output_type": "display_data"
    }
   ],
   "source": [
    "graph_roc(df2,\"model_lin_test\")"
   ]
  },
  {
   "cell_type": "code",
   "execution_count": 132,
   "id": "d5f2eda7",
   "metadata": {},
   "outputs": [
    {
     "name": "stderr",
     "output_type": "stream",
     "text": [
      "C:\\Users\\Niki\\anaconda3\\lib\\site-packages\\seaborn\\distributions.py:2557: FutureWarning: `distplot` is a deprecated function and will be removed in a future version. Please adapt your code to use either `displot` (a figure-level function with similar flexibility) or `histplot` (an axes-level function for histograms).\n",
      "  warnings.warn(msg, FutureWarning)\n"
     ]
    },
    {
     "data": {
      "image/png": "[encoded data removed]",
      "text/plain": [
       "<Figure size 432x288 with 1 Axes>"
      ]
     },
     "metadata": {
      "needs_background": "light"
     },
     "output_type": "display_data"
    }
   ],
   "source": [
    "sns_plot = sns.distplot(df2['pred'])\n",
    "fig = sns_plot.get_figure()\n",
    "h = df2['pred'].hist()\n",
    "fig = h.get_figure()"
   ]
  },
  {
   "cell_type": "markdown",
   "id": "6181338c",
   "metadata": {},
   "source": [
    "### ROC_AUC на валидации cnn"
   ]
  },
  {
   "cell_type": "code",
   "execution_count": 107,
   "id": "e1406314",
   "metadata": {},
   "outputs": [],
   "source": [
    "oracle = dict(val_df[['seq','binary']].values)\n",
    "\n",
    "df3 = quick_seq_pred(model_cnn, oracle.keys(), oracle)"
   ]
  },
  {
   "cell_type": "code",
   "execution_count": 108,
   "id": "22a1655b",
   "metadata": {},
   "outputs": [
    {
     "name": "stdout",
     "output_type": "stream",
     "text": [
      "roc_auc_scor:  0.8918988218988219\n"
     ]
    },
    {
     "data": {
      "image/png": "[encoded data removed]",
      "text/plain": [
       "<Figure size 432x288 with 1 Axes>"
      ]
     },
     "metadata": {
      "needs_background": "light"
     },
     "output_type": "display_data"
    }
   ],
   "source": [
    "graph_roc(df3,\"model_cnn_val\")"
   ]
  },
  {
   "cell_type": "markdown",
   "id": "4e8893b2",
   "metadata": {},
   "source": [
    "### ROC_AUC на тесте cnn"
   ]
  },
  {
   "cell_type": "code",
   "execution_count": 109,
   "id": "b8210bf9",
   "metadata": {},
   "outputs": [],
   "source": [
    "oracle = dict(test_df[['seq','binary']].values)\n",
    "\n",
    "df4 = quick_seq_pred(model_cnn, oracle.keys(), oracle)"
   ]
  },
  {
   "cell_type": "code",
   "execution_count": 110,
   "id": "9725f2a9",
   "metadata": {},
   "outputs": [
    {
     "name": "stdout",
     "output_type": "stream",
     "text": [
      "roc_auc_scor:  0.9119574979889253\n"
     ]
    },
    {
     "data": {
      "image/png": "[encoded data removed]",
      "text/plain": [
       "<Figure size 432x288 with 1 Axes>"
      ]
     },
     "metadata": {
      "needs_background": "light"
     },
     "output_type": "display_data"
    }
   ],
   "source": [
    "graph_roc(df4,\"model_cnn_test\")"
   ]
  },
  {
   "cell_type": "code",
   "execution_count": 122,
   "id": "86dc2859",
   "metadata": {},
   "outputs": [
    {
     "data": {
      "text/html": [
       "<div>\n",
       "<style scoped>\n",
       "    .dataframe tbody tr th:only-of-type {\n",
       "        vertical-align: middle;\n",
       "    }\n",
       "\n",
       "    .dataframe tbody tr th {\n",
       "        vertical-align: top;\n",
       "    }\n",
       "\n",
       "    .dataframe thead th {\n",
       "        text-align: right;\n",
       "    }\n",
       "</style>\n",
       "<table border=\"1\" class=\"dataframe\">\n",
       "  <thead>\n",
       "    <tr style=\"text-align: right;\">\n",
       "      <th></th>\n",
       "      <th>seq</th>\n",
       "      <th>pred</th>\n",
       "      <th>actual</th>\n",
       "    </tr>\n",
       "  </thead>\n",
       "  <tbody>\n",
       "    <tr>\n",
       "      <th>5</th>\n",
       "      <td>AACCCAGCAGUACAUGCUUGAUG</td>\n",
       "      <td>0.999545</td>\n",
       "      <td>0.0</td>\n",
       "    </tr>\n",
       "    <tr>\n",
       "      <th>69</th>\n",
       "      <td>AGGAAAACAGUAUGAGAAAAAUG</td>\n",
       "      <td>0.978856</td>\n",
       "      <td>0.0</td>\n",
       "    </tr>\n",
       "    <tr>\n",
       "      <th>94</th>\n",
       "      <td>AUCAUAAAGUUGUUACCAUCAUG</td>\n",
       "      <td>0.632286</td>\n",
       "      <td>0.0</td>\n",
       "    </tr>\n",
       "    <tr>\n",
       "      <th>98</th>\n",
       "      <td>UAGAUUGAGAACCCACCUGCAUG</td>\n",
       "      <td>0.999950</td>\n",
       "      <td>0.0</td>\n",
       "    </tr>\n",
       "    <tr>\n",
       "      <th>103</th>\n",
       "      <td>UAAAAAGUAAUCCUUAGCGUAUG</td>\n",
       "      <td>0.999903</td>\n",
       "      <td>0.0</td>\n",
       "    </tr>\n",
       "    <tr>\n",
       "      <th>...</th>\n",
       "      <td>...</td>\n",
       "      <td>...</td>\n",
       "      <td>...</td>\n",
       "    </tr>\n",
       "    <tr>\n",
       "      <th>1861</th>\n",
       "      <td>AUGUGGGCCGCUACAACUACAUG</td>\n",
       "      <td>0.999999</td>\n",
       "      <td>1.0</td>\n",
       "    </tr>\n",
       "    <tr>\n",
       "      <th>1862</th>\n",
       "      <td>AUUGAGAGAAAUCAAAUAUCAUG</td>\n",
       "      <td>0.979964</td>\n",
       "      <td>1.0</td>\n",
       "    </tr>\n",
       "    <tr>\n",
       "      <th>1864</th>\n",
       "      <td>UAUGUACCUAAGGAGGGAGAAUG</td>\n",
       "      <td>0.666868</td>\n",
       "      <td>1.0</td>\n",
       "    </tr>\n",
       "    <tr>\n",
       "      <th>1865</th>\n",
       "      <td>UUCAAGCCACAGGAGCAUGAAUG</td>\n",
       "      <td>0.908704</td>\n",
       "      <td>1.0</td>\n",
       "    </tr>\n",
       "    <tr>\n",
       "      <th>1869</th>\n",
       "      <td>UGCUACAGAAUAAUUACAAGAUG</td>\n",
       "      <td>0.995330</td>\n",
       "      <td>0.0</td>\n",
       "    </tr>\n",
       "  </tbody>\n",
       "</table>\n",
       "<p>891 rows × 3 columns</p>\n",
       "</div>"
      ],
      "text/plain": [
       "                          seq      pred  actual\n",
       "5     AACCCAGCAGUACAUGCUUGAUG  0.999545     0.0\n",
       "69    AGGAAAACAGUAUGAGAAAAAUG  0.978856     0.0\n",
       "94    AUCAUAAAGUUGUUACCAUCAUG  0.632286     0.0\n",
       "98    UAGAUUGAGAACCCACCUGCAUG  0.999950     0.0\n",
       "103   UAAAAAGUAAUCCUUAGCGUAUG  0.999903     0.0\n",
       "...                       ...       ...     ...\n",
       "1861  AUGUGGGCCGCUACAACUACAUG  0.999999     1.0\n",
       "1862  AUUGAGAGAAAUCAAAUAUCAUG  0.979964     1.0\n",
       "1864  UAUGUACCUAAGGAGGGAGAAUG  0.666868     1.0\n",
       "1865  UUCAAGCCACAGGAGCAUGAAUG  0.908704     1.0\n",
       "1869  UGCUACAGAAUAAUUACAAGAUG  0.995330     0.0\n",
       "\n",
       "[891 rows x 3 columns]"
      ]
     },
     "execution_count": 122,
     "metadata": {},
     "output_type": "execute_result"
    }
   ],
   "source": [
    "df1[df1[\"pred\"]>0.5]"
   ]
  },
  {
   "cell_type": "code",
   "execution_count": 123,
   "id": "49dbe868",
   "metadata": {},
   "outputs": [
    {
     "data": {
      "text/html": [
       "<div>\n",
       "<style scoped>\n",
       "    .dataframe tbody tr th:only-of-type {\n",
       "        vertical-align: middle;\n",
       "    }\n",
       "\n",
       "    .dataframe tbody tr th {\n",
       "        vertical-align: top;\n",
       "    }\n",
       "\n",
       "    .dataframe thead th {\n",
       "        text-align: right;\n",
       "    }\n",
       "</style>\n",
       "<table border=\"1\" class=\"dataframe\">\n",
       "  <thead>\n",
       "    <tr style=\"text-align: right;\">\n",
       "      <th></th>\n",
       "      <th>seq</th>\n",
       "      <th>pred</th>\n",
       "      <th>actual</th>\n",
       "    </tr>\n",
       "  </thead>\n",
       "  <tbody>\n",
       "    <tr>\n",
       "      <th>2</th>\n",
       "      <td>GGCUUUGUCUACAUCUUUCAAUG</td>\n",
       "      <td>1.000000</td>\n",
       "      <td>0.0</td>\n",
       "    </tr>\n",
       "    <tr>\n",
       "      <th>25</th>\n",
       "      <td>AAACAUGUGAAUCCAGAAUCAUG</td>\n",
       "      <td>0.996997</td>\n",
       "      <td>0.0</td>\n",
       "    </tr>\n",
       "    <tr>\n",
       "      <th>36</th>\n",
       "      <td>AUAAUGGUCGUAAGAGGAGCAUG</td>\n",
       "      <td>0.917437</td>\n",
       "      <td>0.0</td>\n",
       "    </tr>\n",
       "    <tr>\n",
       "      <th>51</th>\n",
       "      <td>CAAAGAGGAGAUCAAAGACCAUG</td>\n",
       "      <td>0.824511</td>\n",
       "      <td>0.0</td>\n",
       "    </tr>\n",
       "    <tr>\n",
       "      <th>70</th>\n",
       "      <td>CUAUAUCCUACCUAUAAUCCAUG</td>\n",
       "      <td>1.000000</td>\n",
       "      <td>0.0</td>\n",
       "    </tr>\n",
       "    <tr>\n",
       "      <th>...</th>\n",
       "      <td>...</td>\n",
       "      <td>...</td>\n",
       "      <td>...</td>\n",
       "    </tr>\n",
       "    <tr>\n",
       "      <th>2323</th>\n",
       "      <td>AUCUCGGCAUUACACGACAUAUG</td>\n",
       "      <td>0.999945</td>\n",
       "      <td>1.0</td>\n",
       "    </tr>\n",
       "    <tr>\n",
       "      <th>2324</th>\n",
       "      <td>GCCAGCGGGGCUUUGGCGGUAUG</td>\n",
       "      <td>0.999428</td>\n",
       "      <td>1.0</td>\n",
       "    </tr>\n",
       "    <tr>\n",
       "      <th>2326</th>\n",
       "      <td>GAACAAAGUACACAAACACGAUG</td>\n",
       "      <td>0.999902</td>\n",
       "      <td>1.0</td>\n",
       "    </tr>\n",
       "    <tr>\n",
       "      <th>2331</th>\n",
       "      <td>GUUGCACAUAAAAGAGAAAAAUG</td>\n",
       "      <td>0.997651</td>\n",
       "      <td>1.0</td>\n",
       "    </tr>\n",
       "    <tr>\n",
       "      <th>2334</th>\n",
       "      <td>UGUGAUAAAGGUUCUGUGUAAUG</td>\n",
       "      <td>0.849047</td>\n",
       "      <td>1.0</td>\n",
       "    </tr>\n",
       "  </tbody>\n",
       "</table>\n",
       "<p>1142 rows × 3 columns</p>\n",
       "</div>"
      ],
      "text/plain": [
       "                          seq      pred  actual\n",
       "2     GGCUUUGUCUACAUCUUUCAAUG  1.000000     0.0\n",
       "25    AAACAUGUGAAUCCAGAAUCAUG  0.996997     0.0\n",
       "36    AUAAUGGUCGUAAGAGGAGCAUG  0.917437     0.0\n",
       "51    CAAAGAGGAGAUCAAAGACCAUG  0.824511     0.0\n",
       "70    CUAUAUCCUACCUAUAAUCCAUG  1.000000     0.0\n",
       "...                       ...       ...     ...\n",
       "2323  AUCUCGGCAUUACACGACAUAUG  0.999945     1.0\n",
       "2324  GCCAGCGGGGCUUUGGCGGUAUG  0.999428     1.0\n",
       "2326  GAACAAAGUACACAAACACGAUG  0.999902     1.0\n",
       "2331  GUUGCACAUAAAAGAGAAAAAUG  0.997651     1.0\n",
       "2334  UGUGAUAAAGGUUCUGUGUAAUG  0.849047     1.0\n",
       "\n",
       "[1142 rows x 3 columns]"
      ]
     },
     "execution_count": 123,
     "metadata": {},
     "output_type": "execute_result"
    }
   ],
   "source": [
    "df2[df2[\"pred\"]>0.5]"
   ]
  },
  {
   "cell_type": "code",
   "execution_count": 124,
   "id": "fde81adb",
   "metadata": {},
   "outputs": [
    {
     "data": {
      "text/html": [
       "<div>\n",
       "<style scoped>\n",
       "    .dataframe tbody tr th:only-of-type {\n",
       "        vertical-align: middle;\n",
       "    }\n",
       "\n",
       "    .dataframe tbody tr th {\n",
       "        vertical-align: top;\n",
       "    }\n",
       "\n",
       "    .dataframe thead th {\n",
       "        text-align: right;\n",
       "    }\n",
       "</style>\n",
       "<table border=\"1\" class=\"dataframe\">\n",
       "  <thead>\n",
       "    <tr style=\"text-align: right;\">\n",
       "      <th></th>\n",
       "      <th>seq</th>\n",
       "      <th>pred</th>\n",
       "      <th>actual</th>\n",
       "    </tr>\n",
       "  </thead>\n",
       "  <tbody>\n",
       "    <tr>\n",
       "      <th>5</th>\n",
       "      <td>AACCCAGCAGUACAUGCUUGAUG</td>\n",
       "      <td>1.000000</td>\n",
       "      <td>0.0</td>\n",
       "    </tr>\n",
       "    <tr>\n",
       "      <th>50</th>\n",
       "      <td>AAUGAUUUGUAGAGGUGUUUAUG</td>\n",
       "      <td>0.984649</td>\n",
       "      <td>0.0</td>\n",
       "    </tr>\n",
       "    <tr>\n",
       "      <th>63</th>\n",
       "      <td>AAAUAUAAGGAGCAACGCGAAUG</td>\n",
       "      <td>0.912745</td>\n",
       "      <td>0.0</td>\n",
       "    </tr>\n",
       "    <tr>\n",
       "      <th>69</th>\n",
       "      <td>AGGAAAACAGUAUGAGAAAAAUG</td>\n",
       "      <td>1.000000</td>\n",
       "      <td>0.0</td>\n",
       "    </tr>\n",
       "    <tr>\n",
       "      <th>94</th>\n",
       "      <td>AUCAUAAAGUUGUUACCAUCAUG</td>\n",
       "      <td>1.000000</td>\n",
       "      <td>0.0</td>\n",
       "    </tr>\n",
       "    <tr>\n",
       "      <th>...</th>\n",
       "      <td>...</td>\n",
       "      <td>...</td>\n",
       "      <td>...</td>\n",
       "    </tr>\n",
       "    <tr>\n",
       "      <th>1860</th>\n",
       "      <td>GUAAUUUACUGUGGCCUUGUAUG</td>\n",
       "      <td>1.000000</td>\n",
       "      <td>1.0</td>\n",
       "    </tr>\n",
       "    <tr>\n",
       "      <th>1861</th>\n",
       "      <td>AUGUGGGCCGCUACAACUACAUG</td>\n",
       "      <td>1.000000</td>\n",
       "      <td>1.0</td>\n",
       "    </tr>\n",
       "    <tr>\n",
       "      <th>1862</th>\n",
       "      <td>AUUGAGAGAAAUCAAAUAUCAUG</td>\n",
       "      <td>1.000000</td>\n",
       "      <td>1.0</td>\n",
       "    </tr>\n",
       "    <tr>\n",
       "      <th>1864</th>\n",
       "      <td>UAUGUACCUAAGGAGGGAGAAUG</td>\n",
       "      <td>0.979517</td>\n",
       "      <td>1.0</td>\n",
       "    </tr>\n",
       "    <tr>\n",
       "      <th>1869</th>\n",
       "      <td>UGCUACAGAAUAAUUACAAGAUG</td>\n",
       "      <td>1.000000</td>\n",
       "      <td>0.0</td>\n",
       "    </tr>\n",
       "  </tbody>\n",
       "</table>\n",
       "<p>1186 rows × 3 columns</p>\n",
       "</div>"
      ],
      "text/plain": [
       "                          seq      pred  actual\n",
       "5     AACCCAGCAGUACAUGCUUGAUG  1.000000     0.0\n",
       "50    AAUGAUUUGUAGAGGUGUUUAUG  0.984649     0.0\n",
       "63    AAAUAUAAGGAGCAACGCGAAUG  0.912745     0.0\n",
       "69    AGGAAAACAGUAUGAGAAAAAUG  1.000000     0.0\n",
       "94    AUCAUAAAGUUGUUACCAUCAUG  1.000000     0.0\n",
       "...                       ...       ...     ...\n",
       "1860  GUAAUUUACUGUGGCCUUGUAUG  1.000000     1.0\n",
       "1861  AUGUGGGCCGCUACAACUACAUG  1.000000     1.0\n",
       "1862  AUUGAGAGAAAUCAAAUAUCAUG  1.000000     1.0\n",
       "1864  UAUGUACCUAAGGAGGGAGAAUG  0.979517     1.0\n",
       "1869  UGCUACAGAAUAAUUACAAGAUG  1.000000     0.0\n",
       "\n",
       "[1186 rows x 3 columns]"
      ]
     },
     "execution_count": 124,
     "metadata": {},
     "output_type": "execute_result"
    }
   ],
   "source": [
    "df3[df3[\"pred\"]>0.5]"
   ]
  },
  {
   "cell_type": "code",
   "execution_count": 125,
   "id": "f1ad6806",
   "metadata": {},
   "outputs": [
    {
     "data": {
      "text/html": [
       "<div>\n",
       "<style scoped>\n",
       "    .dataframe tbody tr th:only-of-type {\n",
       "        vertical-align: middle;\n",
       "    }\n",
       "\n",
       "    .dataframe tbody tr th {\n",
       "        vertical-align: top;\n",
       "    }\n",
       "\n",
       "    .dataframe thead th {\n",
       "        text-align: right;\n",
       "    }\n",
       "</style>\n",
       "<table border=\"1\" class=\"dataframe\">\n",
       "  <thead>\n",
       "    <tr style=\"text-align: right;\">\n",
       "      <th></th>\n",
       "      <th>seq</th>\n",
       "      <th>pred</th>\n",
       "      <th>actual</th>\n",
       "    </tr>\n",
       "  </thead>\n",
       "  <tbody>\n",
       "    <tr>\n",
       "      <th>2</th>\n",
       "      <td>GGCUUUGUCUACAUCUUUCAAUG</td>\n",
       "      <td>1.000000</td>\n",
       "      <td>0.0</td>\n",
       "    </tr>\n",
       "    <tr>\n",
       "      <th>6</th>\n",
       "      <td>AUGCCAAAAGGAAAACAGGUAUG</td>\n",
       "      <td>0.985330</td>\n",
       "      <td>0.0</td>\n",
       "    </tr>\n",
       "    <tr>\n",
       "      <th>25</th>\n",
       "      <td>AAACAUGUGAAUCCAGAAUCAUG</td>\n",
       "      <td>1.000000</td>\n",
       "      <td>0.0</td>\n",
       "    </tr>\n",
       "    <tr>\n",
       "      <th>36</th>\n",
       "      <td>AUAAUGGUCGUAAGAGGAGCAUG</td>\n",
       "      <td>0.999981</td>\n",
       "      <td>0.0</td>\n",
       "    </tr>\n",
       "    <tr>\n",
       "      <th>70</th>\n",
       "      <td>CUAUAUCCUACCUAUAAUCCAUG</td>\n",
       "      <td>1.000000</td>\n",
       "      <td>0.0</td>\n",
       "    </tr>\n",
       "    <tr>\n",
       "      <th>...</th>\n",
       "      <td>...</td>\n",
       "      <td>...</td>\n",
       "      <td>...</td>\n",
       "    </tr>\n",
       "    <tr>\n",
       "      <th>2331</th>\n",
       "      <td>GUUGCACAUAAAAGAGAAAAAUG</td>\n",
       "      <td>0.999999</td>\n",
       "      <td>1.0</td>\n",
       "    </tr>\n",
       "    <tr>\n",
       "      <th>2334</th>\n",
       "      <td>UGUGAUAAAGGUUCUGUGUAAUG</td>\n",
       "      <td>1.000000</td>\n",
       "      <td>1.0</td>\n",
       "    </tr>\n",
       "    <tr>\n",
       "      <th>2335</th>\n",
       "      <td>ACAAACGUGGGAACAAAAUCAUG</td>\n",
       "      <td>0.760301</td>\n",
       "      <td>0.0</td>\n",
       "    </tr>\n",
       "    <tr>\n",
       "      <th>2337</th>\n",
       "      <td>CACAAGAAAGAAGGUGGAGCAUG</td>\n",
       "      <td>0.772339</td>\n",
       "      <td>0.0</td>\n",
       "    </tr>\n",
       "    <tr>\n",
       "      <th>2338</th>\n",
       "      <td>UAACGACGAGAACAAAGAACAUG</td>\n",
       "      <td>0.632379</td>\n",
       "      <td>0.0</td>\n",
       "    </tr>\n",
       "  </tbody>\n",
       "</table>\n",
       "<p>1459 rows × 3 columns</p>\n",
       "</div>"
      ],
      "text/plain": [
       "                          seq      pred  actual\n",
       "2     GGCUUUGUCUACAUCUUUCAAUG  1.000000     0.0\n",
       "6     AUGCCAAAAGGAAAACAGGUAUG  0.985330     0.0\n",
       "25    AAACAUGUGAAUCCAGAAUCAUG  1.000000     0.0\n",
       "36    AUAAUGGUCGUAAGAGGAGCAUG  0.999981     0.0\n",
       "70    CUAUAUCCUACCUAUAAUCCAUG  1.000000     0.0\n",
       "...                       ...       ...     ...\n",
       "2331  GUUGCACAUAAAAGAGAAAAAUG  0.999999     1.0\n",
       "2334  UGUGAUAAAGGUUCUGUGUAAUG  1.000000     1.0\n",
       "2335  ACAAACGUGGGAACAAAAUCAUG  0.760301     0.0\n",
       "2337  CACAAGAAAGAAGGUGGAGCAUG  0.772339     0.0\n",
       "2338  UAACGACGAGAACAAAGAACAUG  0.632379     0.0\n",
       "\n",
       "[1459 rows x 3 columns]"
      ]
     },
     "execution_count": 125,
     "metadata": {},
     "output_type": "execute_result"
    }
   ],
   "source": [
    "df4[df4[\"pred\"]>0.5]"
   ]
  },
  {
   "cell_type": "code",
   "execution_count": null,
   "id": "18603f98",
   "metadata": {},
   "outputs": [],
   "source": []
  },
  {
   "cell_type": "code",
   "execution_count": null,
   "id": "a036c42d",
   "metadata": {},
   "outputs": [],
   "source": []
  }
 ],
 "metadata": {
  "celltoolbar": "Tags",
  "kernelspec": {
   "display_name": "Python 3",
   "language": "python",
   "name": "python3"
  },
  "language_info": {
   "codemirror_mode": {
    "name": "ipython",
    "version": 3
   },
   "file_extension": ".py",
   "mimetype": "text/x-python",
   "name": "python",
   "nbconvert_exporter": "python",
   "pygments_lexer": "ipython3",
   "version": "3.8.8"
  }
 },
 "nbformat": 4,
 "nbformat_minor": 5
}
