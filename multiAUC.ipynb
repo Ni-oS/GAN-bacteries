{
 "cells": [
  {
   "cell_type": "code",
   "execution_count": 1,
   "id": "534da831",
   "metadata": {},
   "outputs": [],
   "source": [
    "from torch.utils.data import Dataset, DataLoader\n",
    "import pandas as pd\n",
    "import random\n",
    "import torch\n",
    "from torch import nn\n",
    "import numpy as np\n",
    "import matplotlib.pyplot as plt\n",
    "from tqdm.notebook import tqdm\n",
    "from torch.nn import functional as F\n",
    "from sklearn.metrics import accuracy_score\n",
    "from sklearn.metrics import roc_auc_score\n",
    "from sklearn.metrics import roc_curve, auc\n",
    "import seaborn as sns"
   ]
  },
  {
   "cell_type": "markdown",
   "id": "adc08b1f",
   "metadata": {},
   "source": [
    "функция One_Hot_Encoding"
   ]
  },
  {
   "cell_type": "code",
   "execution_count": 2,
   "id": "0916c4ac",
   "metadata": {},
   "outputs": [],
   "source": [
    "def one_hot_encode(seq):\n",
    "    \"\"\"\n",
    "    Given a DNA sequence, return its one-hot encoding\n",
    "    \"\"\"\n",
    "    # Make sure seq has only allowed bases\n",
    "    allowed = set(\"ACGUN\")\n",
    "    if not set(seq).issubset(allowed):\n",
    "        invalid = set(seq) - allowed\n",
    "        raise ValueError(f\"Sequence contains chars not in allowed DNA alphabet (ACGTN): {invalid}\")\n",
    "        \n",
    "    # Dictionary returning one-hot encoding for each nucleotide \n",
    "    nuc_d = {'A':[1.0,0.0,0.0,0.0],\n",
    "             'C':[0.0,1.0,0.0,0.0],\n",
    "             'G':[0.0,0.0,1.0,0.0],\n",
    "             'U':[0.0,0.0,0.0,1.0],\n",
    "             'N':[0.0,0.0,0.0,0.0]}\n",
    "    \n",
    "    # Create array from nucleotide sequence\n",
    "    vec=np.array([nuc_d[x] for x in seq])\n",
    "        \n",
    "    return vec"
   ]
  },
  {
   "cell_type": "code",
   "execution_count": 3,
   "id": "a47b56a2",
   "metadata": {},
   "outputs": [
    {
     "data": {
      "text/plain": [
       "device(type='cpu')"
      ]
     },
     "execution_count": 3,
     "metadata": {},
     "output_type": "execute_result"
    }
   ],
   "source": [
    "DEVICE = torch.device('cuda' if torch.cuda.is_available() else 'cpu')\n",
    "DEVICE"
   ]
  },
  {
   "cell_type": "markdown",
   "id": "38b9dc1d",
   "metadata": {},
   "source": [
    "загрузим датасет с бинами и преобразуем"
   ]
  },
  {
   "cell_type": "code",
   "execution_count": 4,
   "id": "8064a5b1",
   "metadata": {},
   "outputs": [],
   "source": [
    "\n",
    "data = pd.read_csv('20long.csv') # сразу загружается таблица бинов\n",
    "data[\"label\"] = 0\n",
    "\n",
    "\n",
    "for i in range(len(data.columns)-3):\n",
    "    \n",
    "    data.loc[data[f'F{i+1} probability'] > 0.6, \"label\"] = i\n",
    "    \n",
    "\n",
    "data.loc[data['F7 probability'] > 0.6, \"label\"] = 6 \n",
    "data.loc[data['F8 probability'] > 0.6, \"label\"] = 6\n",
    "data.label = data.label.astype(int)\n",
    "\n",
    "#print(data[data[\"label\"] == 1].shape)\n",
    "\n",
    "prob = data[[\"seq\",\"label\"]]\n"
   ]
  },
  {
   "cell_type": "markdown",
   "id": "14f06e71",
   "metadata": {},
   "source": [
    "представленность классов и количества в классах по всем имеющимся данным"
   ]
  },
  {
   "cell_type": "code",
   "execution_count": 7,
   "id": "d702bdbb",
   "metadata": {},
   "outputs": [
    {
     "name": "stdout",
     "output_type": "stream",
     "text": [
      "F1 :     0 (1878, 2)\n",
      "F2 :     1 (1933, 2)\n",
      "F3 :     2 (2158, 2)\n",
      "F4 :     3 (1798, 2)\n",
      "F5 :     4 (1376, 2)\n",
      "F6 :     5 (1471, 2)\n",
      "F78 :    6 (1078, 2)\n"
     ]
    }
   ],
   "source": [
    "for i in range(7):\n",
    "    pr = f\"F{i+1} :    \"\n",
    "    \n",
    "    if i == 6:\n",
    "        pr = pr = f\"F78 :   \"\n",
    "        \n",
    "    print(pr,i,prob[prob[prob.columns[1]] == i].shape)"
   ]
  },
  {
   "cell_type": "markdown",
   "id": "2be6540c",
   "metadata": {},
   "source": [
    "функция разделения данных на train test"
   ]
  },
  {
   "cell_type": "code",
   "execution_count": 9,
   "id": "e5bafc38",
   "metadata": {},
   "outputs": [],
   "source": [
    "def quick_split(df, split_frac=0.8, verbose=False):\n",
    "    '''\n",
    "    Given a df of samples, randomly split indices between\n",
    "    train and test at the desired fraction\n",
    "    '''\n",
    "    cols = df.columns # original columns, use to clean up reindexed cols\n",
    "    df = df.reset_index()\n",
    "\n",
    "    # shuffle indices\n",
    "    idxs = list(range(df.shape[0]))\n",
    "    random.shuffle(idxs)\n",
    "\n",
    "    # split shuffled index list by split_frac\n",
    "    split = int(len(idxs)*split_frac)\n",
    "    train_idxs = idxs[:split]\n",
    "    test_idxs = idxs[split:]\n",
    "    \n",
    "    # split dfs and return\n",
    "    train_df = df[df.index.isin(train_idxs)]\n",
    "    test_df = df[df.index.isin(test_idxs)]\n",
    "        \n",
    "    return train_df[cols], test_df[cols]"
   ]
  },
  {
   "cell_type": "markdown",
   "id": "5d7c02f0",
   "metadata": {},
   "source": [
    "разделим данные на train, val, test"
   ]
  },
  {
   "cell_type": "code",
   "execution_count": 10,
   "id": "8ee129ae",
   "metadata": {},
   "outputs": [],
   "source": [
    "full_train_df, test_df = quick_split(prob)\n",
    "train_df, val_df = quick_split(full_train_df)"
   ]
  },
  {
   "cell_type": "markdown",
   "id": "69e7c7c3",
   "metadata": {},
   "source": [
    "итого данных получилось в каждом наборе:"
   ]
  },
  {
   "cell_type": "code",
   "execution_count": 11,
   "id": "0e25e45c",
   "metadata": {},
   "outputs": [
    {
     "name": "stdout",
     "output_type": "stream",
     "text": [
      "Train: (7482, 2)\n",
      "Val: (1871, 2)\n",
      "Test: (2339, 2)\n"
     ]
    }
   ],
   "source": [
    "print(\"Train:\", train_df.shape)\n",
    "print(\"Val:\", val_df.shape)\n",
    "print(\"Test:\", test_df.shape)"
   ]
  },
  {
   "cell_type": "markdown",
   "id": "321d5a73",
   "metadata": {},
   "source": [
    "Train содержит 7482 записей, Val - 1871 записей, Test - 2339 записей"
   ]
  },
  {
   "cell_type": "markdown",
   "id": "b99f11cd",
   "metadata": {},
   "source": [
    "посмотрим представленность данных в датасете train"
   ]
  },
  {
   "cell_type": "code",
   "execution_count": 19,
   "id": "b4506d09",
   "metadata": {},
   "outputs": [
    {
     "name": "stdout",
     "output_type": "stream",
     "text": [
      "Train_dataframe, Class  F1 :     label:  0 (1208, 2)\n",
      "Train_dataframe, Class  F2 :     label:  1 (1225, 2)\n",
      "Train_dataframe, Class  F3 :     label:  2 (1370, 2)\n",
      "Train_dataframe, Class  F4 :     label:  3 (1149, 2)\n",
      "Train_dataframe, Class  F5 :     label:  4 (894, 2)\n",
      "Train_dataframe, Class  F6 :     label:  5 (933, 2)\n",
      "Train_dataframe, Class  F78 :    label:  6 (703, 2)\n"
     ]
    }
   ],
   "source": [
    "for i in range(7):\n",
    "    pr = f\"F{i+1} :    \"\n",
    "    \n",
    "    if i == 6:\n",
    "        pr = f\"F78 :   \"\n",
    "        \n",
    "    print(\"Train_dataframe, Class \", pr, \"label: \", i, train_df[train_df[train_df.columns[1]] == i].shape)\n"
   ]
  },
  {
   "cell_type": "code",
   "execution_count": 15,
   "id": "2cb150ee",
   "metadata": {},
   "outputs": [
    {
     "name": "stdout",
     "output_type": "stream",
     "text": [
      "                          seq  label\n",
      "2     CACAUAACUGGAGACACAGCAUG      6\n",
      "5     AGAGAUAGAGGAGGAUUAAAAUG      6\n",
      "6     AGAGAAAGAGGAGGGCAAAGAUG      6\n",
      "7     AUAUGGUGGAGGAAAUAGUCAUG      6\n",
      "9     GUAUGAAGAGGAGAAAAGGUAUG      6\n",
      "...                       ...    ...\n",
      "9347  AGAAUAACUGGAGGAGGAAAAUG      5\n",
      "9348  AUUCAUGGGUGAGAAAAUAUAUG      5\n",
      "9349  GUUAUUAAAAGAGAGCAAACAUG      5\n",
      "9351  UGCUACAGAAUAAUUACAAGAUG      5\n",
      "9352  UUAUCAUUGAAGGUAUACAUAUG      5\n",
      "\n",
      "[7482 rows x 2 columns]\n"
     ]
    }
   ],
   "source": [
    "print(train_df)"
   ]
  },
  {
   "cell_type": "markdown",
   "id": "86ee04b4",
   "metadata": {},
   "source": [
    "создадим датасет OHE - actual Y"
   ]
  },
  {
   "cell_type": "code",
   "execution_count": 20,
   "id": "0ddfca15",
   "metadata": {},
   "outputs": [],
   "source": [
    "class SeqDatasetOHE(Dataset):\n",
    "    '''\n",
    "    Dataset for one-hot-encoded sequences\n",
    "    '''\n",
    "    def __init__(self,\n",
    "                 df,\n",
    "                 seq_col='seq',\n",
    "                 target_col='label'\n",
    "                ):\n",
    "        # +--------------------+\n",
    "        # | Get the X examples |\n",
    "        # +--------------------+\n",
    "        # extract the DNA from the appropriate column in the df\n",
    "        self.seqs = list(df[seq_col].values) # лист всех последовательностей\n",
    "        self.seq_len = len(self.seqs[0])\n",
    "        \n",
    "        # one-hot encode sequences, then stack in a torch tensor\n",
    "        self.ohe_seqs = torch.stack([torch.tensor(one_hot_encode(x)) for x in self.seqs])\n",
    "        \n",
    "        # +------------------+\n",
    "        # | Get the Y labels |\n",
    "        # +------------------+\n",
    "        self.labels = torch.tensor(list(df[target_col].values)).unsqueeze(1)\n",
    "\n",
    "        \n",
    "    def __len__(self): return len(self.seqs)\n",
    "    \n",
    "    def __getitem__(self,idx):\n",
    "        # Given an index, return a tuple of an X with it's associated Y\n",
    "        # This is called inside DataLoader\n",
    "        seq = self.ohe_seqs[idx]\n",
    "        label = self.labels[idx]\n",
    "        \n",
    "        return seq, label"
   ]
  },
  {
   "cell_type": "code",
   "execution_count": 21,
   "id": "e3d55f72",
   "metadata": {},
   "outputs": [],
   "source": [
    "def build_dataloaders(train_df,\n",
    "                      test_df,\n",
    "                      seq_col='seq',\n",
    "                      target_col='label',\n",
    "                      batch_size=128,\n",
    "                      shuffle=True\n",
    "                     ):\n",
    "    '''\n",
    "    Given a train and test df with some batch construction\n",
    "    details, put them into custom SeqDatasetOHE() objects. \n",
    "    Give the Datasets to the DataLoaders and return.\n",
    "    '''\n",
    "    \n",
    "    # create Datasets    \n",
    "    train_ds = SeqDatasetOHE(train_df,seq_col=seq_col,target_col=target_col)\n",
    "    test_ds = SeqDatasetOHE(test_df,seq_col=seq_col,target_col=target_col)\n",
    "\n",
    "    # Put DataSets into DataLoaders\n",
    "    train_dl = DataLoader(train_ds, batch_size=batch_size, shuffle=shuffle)\n",
    "    test_dl = DataLoader(test_ds, batch_size=batch_size)\n",
    "\n",
    "    \n",
    "    return train_dl,test_dl"
   ]
  },
  {
   "cell_type": "code",
   "execution_count": 22,
   "id": "f16afb5e",
   "metadata": {},
   "outputs": [],
   "source": [
    "train_dl, val_dl = build_dataloaders(train_df, val_df)"
   ]
  },
  {
   "cell_type": "markdown",
   "id": "7cbcdea9",
   "metadata": {},
   "source": [
    "### визуализация лосса"
   ]
  },
  {
   "cell_type": "code",
   "execution_count": 30,
   "id": "a97a4d19",
   "metadata": {},
   "outputs": [],
   "source": [
    "def quick_loss_plot(data_label_list,loss_type=\"BCE Loss\",sparse_n=0):\n",
    "    '''\n",
    "    For each train/test loss trajectory, plot loss by epoch\n",
    "    '''\n",
    "    for i,(train_data,test_data,label) in enumerate(data_label_list):    \n",
    "        plt.plot(train_data,linestyle='--',color=f\"C{i}\", label=f\"{label} Train\")\n",
    "        plt.plot(test_data,color=f\"C{i}\", label=f\"{label} Val\",linewidth=3.0)\n",
    "\n",
    "    plt.legend()\n",
    "    plt.ylabel(loss_type)\n",
    "    plt.xlabel(\"Epoch\")\n",
    "    plt.legend(bbox_to_anchor=(1,1),loc='upper left')\n",
    "    plt.show()"
   ]
  },
  {
   "cell_type": "markdown",
   "id": "a91fa70a",
   "metadata": {},
   "source": [
    "### создание датасета Seq - predicted - actual"
   ]
  },
  {
   "cell_type": "markdown",
   "id": "be6909ed",
   "metadata": {},
   "source": [
    "используется для проверки модели на тестовых данных \n",
    "\n",
    "выдаёт датафрейм и вектор содержащий предсказанные значения( для удобства, чтобы можно было выбрать например все предсказанные значения для последнего бина y_pred[:, 6])"
   ]
  },
  {
   "cell_type": "code",
   "execution_count": 47,
   "id": "bdff383f",
   "metadata": {},
   "outputs": [],
   "source": [
    "def quick_seq_pred(model, seqs, oracle):\n",
    "    '''\n",
    "    Given a model and some sequences, get the model's predictions\n",
    "    for those sequences and compare to the oracle (true) output\n",
    "    \n",
    "    '''\n",
    "    vect = []\n",
    "    df = pd.DataFrame(data = {'seq': [], 'pred': [], 'actual': []})\n",
    "    \n",
    "    for dna in seqs:\n",
    "        s = torch.tensor(one_hot_encode(dna)).unsqueeze(0).to(DEVICE)# One_Hot_Encode\n",
    "        #model.train(False)\n",
    "        \n",
    "        pred = model(s.float()) # model predicted value\n",
    "    \n",
    "        actual = oracle[dna] # actual value        \n",
    "        \n",
    "        df = df.append({'seq': dna, 'pred': pred.cpu().detach().numpy()[0], 'actual': actual}, ignore_index = True)\n",
    "        \n",
    "        # вектор из предсказанных векторов передаём отдельно; костыль, чтобы данные подходили по размерности\n",
    "        vect.append(pred.cpu().detach().numpy()[0])\n",
    "        y_pred = np.asarray(vect)\n",
    "        \n",
    "    return df, y_pred\n",
    "    "
   ]
  },
  {
   "cell_type": "markdown",
   "id": "de60512a",
   "metadata": {},
   "source": [
    "## Small_CNN"
   ]
  },
  {
   "cell_type": "code",
   "execution_count": 23,
   "id": "1d294fd5",
   "metadata": {},
   "outputs": [],
   "source": [
    "class Small_CNN(nn.Module):\n",
    "    def __init__(self,\n",
    "                seq_len,\n",
    "                block_sizes=[16, 24, 32, 40, 48],\n",
    "                kernel_size=7):\n",
    "        \n",
    "        super().__init__()\n",
    "        self.seq_len = seq_len\n",
    "      \n",
    "        nn_blocks = []\n",
    "      \n",
    "        for in_bs, out_bs in zip([4] + block_sizes, block_sizes):\n",
    "            \n",
    "            block = nn.Sequential(\n",
    "                nn.Conv1d(in_bs, out_bs, kernel_size=kernel_size, padding=1),\n",
    "                nn.Sigmoid(),\n",
    "                nn.BatchNorm1d(out_bs)\n",
    "            )\n",
    "            \n",
    "            nn_blocks.append(block)\n",
    "            \n",
    "        self.conv_net = nn.Sequential(\n",
    "            *nn_blocks,\n",
    "            nn.Flatten(),\n",
    "            nn.Linear(block_sizes[-1] * (seq_len + len(block_sizes)*(3-kernel_size)), 7),\n",
    "        )\n",
    "\n",
    "    def forward(self, x):\n",
    "        # reshape view to batch_size x 4channel x seq_len\n",
    "        # permute to put channel in correct order\n",
    "        x = x.permute(0,2,1) \n",
    "        \n",
    "        out = self.conv_net(x)\n",
    "        \n",
    "        return out\n",
    "    "
   ]
  },
  {
   "cell_type": "markdown",
   "id": "841ae419",
   "metadata": {},
   "source": [
    "## evaluate"
   ]
  },
  {
   "cell_type": "code",
   "execution_count": 24,
   "id": "7a6a8070",
   "metadata": {},
   "outputs": [],
   "source": [
    "def evaluate(model, dataloader, loss_fn):\n",
    "    \n",
    "    losses = []\n",
    "\n",
    "    for i, batch in enumerate(dataloader):\n",
    "        \n",
    "        # так получаем текущий батч\n",
    "        X_batch, y_batch = batch\n",
    "        \n",
    "        with torch.no_grad():\n",
    "            #print(X_batch[0])\n",
    "            #print(X_batch[0].shape)\n",
    "            logits = model(X_batch.to(device).float())\n",
    "            #print(logits)\n",
    "            #print(logits.shape)\n",
    "            loss = loss_fn(logits, y_batch.long().squeeze(1).to(device))\n",
    "            losses.append(loss.item())\n",
    "            \n",
    "    return np.mean(losses)\n",
    "\n"
   ]
  },
  {
   "cell_type": "markdown",
   "id": "c759eb98",
   "metadata": {},
   "source": [
    "## train"
   ]
  },
  {
   "cell_type": "code",
   "execution_count": 77,
   "id": "cc15b40d",
   "metadata": {},
   "outputs": [],
   "source": [
    "def train(model,train_dataloader, val_dataloader, loss_fn, optimizer, n_epoch=3):\n",
    "    \n",
    "    train_losses = []\n",
    "    val_losses = []\n",
    "    \n",
    "    \n",
    "    # цикл обучения сети\n",
    "    for epoch in range(n_epoch):\n",
    "\n",
    "        model.train(True)\n",
    "        \n",
    "        running_losses = []\n",
    "        running_accuracies = []\n",
    "        \n",
    "        \n",
    "        for i, batch in enumerate(train_dataloader):\n",
    "            # так получаем текущий батч\n",
    "            X_batch, y_batch = batch \n",
    "            \n",
    "            # forward pass (получение ответов на батч картинок)\n",
    "            logits = model(X_batch.to(device).float()) \n",
    "            #print(y_batch.long().squeeze(1).to(device))\n",
    "            #print(y_batch.long().to(device))\n",
    "            #print(logits)\n",
    "            # вычисление лосса от выданных сетью ответов и правильных ответов на батч\n",
    "            loss = loss_fn(logits, y_batch.long().squeeze(1).to(device)) \n",
    "            running_losses.append(loss.item())\n",
    "            \n",
    "            loss.backward() # backpropagation (вычисление градиентов)\n",
    "            optimizer.step() # обновление весов сети\n",
    "            optimizer.zero_grad() # обнуляем веса\n",
    "            \n",
    "\n",
    "        model.train(False)\n",
    "        \n",
    "        train_loss = np.mean(running_losses)\n",
    "        \n",
    "        val_loss = evaluate(model, val_dataloader, loss_fn=loss_fn)\n",
    "    \n",
    "        #print(f\"E{epoch+1} | train loss: {train_loss:.3f} | val loss: {val_loss:.3f}\")\n",
    "        \n",
    "        train_losses.append(train_loss)\n",
    "        val_losses.append(val_loss)\n",
    "        \n",
    "    return train_losses, val_losses"
   ]
  },
  {
   "cell_type": "markdown",
   "id": "644c761d",
   "metadata": {},
   "source": [
    "## объявление модели"
   ]
  },
  {
   "cell_type": "markdown",
   "id": "cfde00ca",
   "metadata": {},
   "source": [
    "только для 30 эпох( поэтому называется model30)"
   ]
  },
  {
   "cell_type": "code",
   "execution_count": 64,
   "id": "7b0265e8",
   "metadata": {},
   "outputs": [],
   "source": [
    "seq_len = len(train_df['seq'].values[0])\n",
    "\n",
    "# объявим модель\n",
    "model30 = Small_CNN(seq_len)\n",
    "device = torch.device(\"cuda\" if torch.cuda.is_available() else \"cpu\")\n",
    "model30 = model30.to(device)\n",
    "\n",
    "# выбираем функцию потерь\n",
    "loss_fn = torch.nn.CrossEntropyLoss()\n",
    "\n",
    "# выбираем алгоритм оптимизации и learning_rate. \n",
    "learning_rate = 1e-3\n",
    "optimizer = torch.optim.AdamW(model30.parameters(), weight_decay = 0.1, lr=learning_rate)"
   ]
  },
  {
   "cell_type": "code",
   "execution_count": 65,
   "id": "db91b362",
   "metadata": {},
   "outputs": [],
   "source": [
    "# запустим обучение модели\n",
    "cnn_train_losses, cnn_val_losses = train(model30, train_dl, val_dl, loss_fn, optimizer, n_epoch=30)"
   ]
  },
  {
   "cell_type": "markdown",
   "id": "900130d3",
   "metadata": {},
   "source": [
    "отрисуем лосс"
   ]
  },
  {
   "cell_type": "code",
   "execution_count": 66,
   "id": "6719885b",
   "metadata": {},
   "outputs": [
    {
     "data": {
      "image/png": "[encoded data removed]",
      "text/plain": [
       "<Figure size 360x360 with 1 Axes>"
      ]
     },
     "metadata": {
      "needs_background": "light"
     },
     "output_type": "display_data"
    }
   ],
   "source": [
    "cnn_data_label = (cnn_train_losses,cnn_val_losses,\"CNN_30epoch\")\n",
    "quick_loss_plot([cnn_data_label])"
   ]
  },
  {
   "cell_type": "markdown",
   "id": "3bdd52a3",
   "metadata": {},
   "source": [
    "переобучение еще не началось"
   ]
  },
  {
   "cell_type": "markdown",
   "id": "ced2776e",
   "metadata": {},
   "source": [
    "#### проверим на тестовых данных"
   ]
  },
  {
   "cell_type": "code",
   "execution_count": 67,
   "id": "48fbd825",
   "metadata": {},
   "outputs": [],
   "source": [
    "# тут собирается словарь для тестовой выборки для использования в quick seq pred\n",
    "oracle = dict(test_df[['seq','label']].values)\n",
    "\n",
    "test_quick30, y_pred30 = quick_seq_pred(model30, oracle.keys(), oracle)"
   ]
  },
  {
   "cell_type": "markdown",
   "id": "33755d3d",
   "metadata": {},
   "source": [
    "test_quick30 - датафрейм содержащий значения предсказанные и актуальные: pred _ actual\n",
    "\n",
    "y_pred_30 - вектор предсказанных значений, чисто для удобства в последующей визуализации"
   ]
  },
  {
   "cell_type": "markdown",
   "id": "735fc328",
   "metadata": {},
   "source": [
    "как выглядит вектор y_pred30:"
   ]
  },
  {
   "cell_type": "code",
   "execution_count": 68,
   "id": "ba19eb25",
   "metadata": {},
   "outputs": [
    {
     "data": {
      "text/plain": [
       "array([[ 0.27931693, -4.0814466 , -2.617274  , -1.6447498 ,  0.20728754,\n",
       "         1.9781518 ,  5.4791355 ],\n",
       "       [ 0.43770254, -4.5689306 , -3.4467247 , -1.6056422 , -0.0263545 ,\n",
       "         2.984191  ,  6.3408117 ],\n",
       "       [ 1.7003958 ,  2.3631046 ,  1.0271953 , -0.97850096, -0.7668788 ,\n",
       "        -1.3219533 , -2.7116654 ],\n",
       "       [ 0.44162303, -3.8574207 , -3.3358371 , -1.6356225 ,  0.18204771,\n",
       "         2.8102133 ,  5.7226057 ],\n",
       "       [-1.1757945 ,  0.7927771 ,  1.7438171 ,  2.6933486 ,  0.86474496,\n",
       "        -2.1105704 , -3.8408887 ]], dtype=float32)"
      ]
     },
     "execution_count": 68,
     "metadata": {},
     "output_type": "execute_result"
    }
   ],
   "source": [
    "y_pred30[:5]"
   ]
  },
  {
   "cell_type": "markdown",
   "id": "044a955f",
   "metadata": {},
   "source": [
    "### отрисовка кривой roc_auc"
   ]
  },
  {
   "cell_type": "code",
   "execution_count": 78,
   "id": "677c5ee5",
   "metadata": {},
   "outputs": [],
   "source": [
    "from sklearn.preprocessing import label_binarize\n",
    "from itertools import cycle\n",
    "\n",
    "def graph_roc_multiclass(df,y_pred,n_classes = 7):\n",
    "    \n",
    "    y_true=df[\"actual\"]\n",
    "    y_score=y_pred\n",
    "\n",
    "    y = label_binarize(y_true, classes=[0,1,2,3,4,5,6])\n",
    "    \n",
    "    fpr = dict()\n",
    "    tpr = dict()\n",
    "    roc_auc = dict()\n",
    "\n",
    "    lw = 1\n",
    "    \n",
    "    for i in range(n_classes):\n",
    "        fpr[i], tpr[i], _ = roc_curve(y[:,i], y_score[:,i])\n",
    "        roc_auc[i] = auc(fpr[i], tpr[i])\n",
    "    colors = cycle(['orange', 'green', 'red', 'purple', 'brown', 'pink', 'blue'])\n",
    "\n",
    "    # Plot of a ROC curve for a specific class\n",
    "    for i, color in zip(range(n_classes), colors):\n",
    "        plt.plot(fpr[i], tpr[i], color=color, lw= 0.5,label='ROC curve of class {0} (area = {1:0.2f})'.format(i, roc_auc[i]))\n",
    "    plt.rcParams['figure.figsize'] = [5,5]\n",
    "    plt.plot([0, 1], [0, 1], 'k--', lw=lw)\n",
    "    plt.xlim([-0.05, 1.0])\n",
    "    plt.ylim([0.0, 1.05])\n",
    "    \n",
    "    plt.xlabel('False Positive Rate')\n",
    "    plt.ylabel('True Positive Rate')\n",
    "    plt.title('Receiver operating characteristic for multi-class data')\n",
    "    plt.legend(loc=\"lower right\")\n",
    "    plt.show()"
   ]
  },
  {
   "cell_type": "code",
   "execution_count": 69,
   "id": "6aafbd67",
   "metadata": {},
   "outputs": [
    {
     "data": {
      "image/png": "[encoded data removed]",
      "text/plain": [
       "<Figure size 360x360 with 1 Axes>"
      ]
     },
     "metadata": {
      "needs_background": "light"
     },
     "output_type": "display_data"
    }
   ],
   "source": [
    "graph_roc_multiclass(test_quick30, y_pred30, n_classes = 7)"
   ]
  },
  {
   "cell_type": "markdown",
   "id": "6d4e7c39",
   "metadata": {},
   "source": [
    "### проведём те же манипуляции для 100 эпох"
   ]
  },
  {
   "cell_type": "code",
   "execution_count": 70,
   "id": "f593d0af",
   "metadata": {},
   "outputs": [],
   "source": [
    "# снова объявим модель\n",
    "model100 = Small_CNN(seq_len)\n",
    "device = torch.device(\"cuda\" if torch.cuda.is_available() else \"cpu\")\n",
    "model100 = model100.to(device)\n",
    "\n",
    "# выбираем функцию потерь\n",
    "loss_fn = torch.nn.CrossEntropyLoss()\n",
    "\n",
    "# выбираем алгоритм оптимизации и learning_rate. \n",
    "learning_rate = 1e-3\n",
    "optimizer = torch.optim.AdamW(model100.parameters(), weight_decay = 0.1, lr=learning_rate)"
   ]
  },
  {
   "cell_type": "code",
   "execution_count": 71,
   "id": "56bd42a4",
   "metadata": {},
   "outputs": [],
   "source": [
    "# запустим обучение модели для 100 эпох\n",
    "cnn_train_losses100, cnn_val_losses100 = train(model100, train_dl, val_dl, loss_fn, optimizer, n_epoch=100)"
   ]
  },
  {
   "cell_type": "code",
   "execution_count": 72,
   "id": "2f71b0e4",
   "metadata": {},
   "outputs": [
    {
     "data": {
      "image/png": "[encoded data removed]",
      "text/plain": [
       "<Figure size 360x360 with 1 Axes>"
      ]
     },
     "metadata": {
      "needs_background": "light"
     },
     "output_type": "display_data"
    }
   ],
   "source": [
    "cnn_data_label100 = (cnn_train_losses100, cnn_val_losses100,\"CNN_100epoch\")\n",
    "quick_loss_plot([cnn_data_label, cnn_data_label100])"
   ]
  },
  {
   "cell_type": "markdown",
   "id": "5c2b5c26",
   "metadata": {},
   "source": [
    "данные с переобчуением после 30-ой эпохи"
   ]
  },
  {
   "cell_type": "code",
   "execution_count": 73,
   "id": "2e6efe3a",
   "metadata": {},
   "outputs": [],
   "source": [
    "oracle = dict(test_df[['seq','label']].values)\n",
    "\n",
    "test_quick100, y_pred100 = quick_seq_pred(model100, oracle.keys(), oracle)"
   ]
  },
  {
   "cell_type": "code",
   "execution_count": 75,
   "id": "828eb526",
   "metadata": {},
   "outputs": [
    {
     "data": {
      "text/plain": [
       "array([[ -4.0469913 ,  -4.862878  ,  -7.401893  ,  -3.8722494 ,\n",
       "          1.8394687 ,   4.3855004 ,   9.870638  ],\n",
       "       [ -0.7308663 ,  -5.9675465 ,  -3.7779179 ,   0.01728358,\n",
       "         -5.639479  ,   5.0295615 ,   8.427893  ],\n",
       "       [ -0.364802  ,   2.4634314 ,   3.3857923 ,  -0.31683287,\n",
       "          2.1659198 ,  -1.6644447 ,  -4.735626  ],\n",
       "       [  2.9538975 , -13.80311   ,  -4.379549  ,  -1.5196368 ,\n",
       "         -8.986362  ,   5.1153874 ,  16.327635  ],\n",
       "       [ -3.8015244 ,  -1.4340092 ,   2.4570472 ,  -0.67166436,\n",
       "          6.221301  ,  -0.4351193 ,  -4.036125  ]], dtype=float32)"
      ]
     },
     "execution_count": 75,
     "metadata": {},
     "output_type": "execute_result"
    }
   ],
   "source": [
    "y_pred100[0:5]"
   ]
  },
  {
   "cell_type": "code",
   "execution_count": 74,
   "id": "52206e4c",
   "metadata": {},
   "outputs": [
    {
     "data": {
      "image/png": "[encoded data removed]",
      "text/plain": [
       "<Figure size 360x360 with 1 Axes>"
      ]
     },
     "metadata": {
      "needs_background": "light"
     },
     "output_type": "display_data"
    }
   ],
   "source": [
    "graph_roc_multiclass(test_quick100, y_pred100, n_classes = 7)"
   ]
  },
  {
   "cell_type": "code",
   "execution_count": null,
   "id": "d57154c1",
   "metadata": {},
   "outputs": [],
   "source": []
  }
 ],
 "metadata": {
  "kernelspec": {
   "display_name": "Python 3",
   "language": "python",
   "name": "python3"
  },
  "language_info": {
   "codemirror_mode": {
    "name": "ipython",
    "version": 3
   },
   "file_extension": ".py",
   "mimetype": "text/x-python",
   "name": "python",
   "nbconvert_exporter": "python",
   "pygments_lexer": "ipython3",
   "version": "3.8.8"
  }
 },
 "nbformat": 4,
 "nbformat_minor": 5
}
